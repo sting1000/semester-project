{
 "cells": [
  {
   "cell_type": "code",
   "execution_count": 1,
   "metadata": {},
   "outputs": [],
   "source": [
    "import pandas as pd\n",
    "import numpy as np\n",
    "import matplotlib.pyplot as plt\n",
    "import seaborn as sns\n",
    "import regex"
   ]
  },
  {
   "cell_type": "markdown",
   "metadata": {},
   "source": [
    "In this notebook we first preform a basic exploratory analysis of the data contained in the metadata associated to the papers.\n",
    "Then we look at changes in participation accross the years,"
   ]
  },
  {
   "cell_type": "code",
   "execution_count": 2,
   "metadata": {},
   "outputs": [],
   "source": [
    "metadata = pd.read_csv('data/Parsed_metadata.csv', index_col=0, parse_dates=['accessioned', 'available', 'issued'])"
   ]
  },
  {
   "cell_type": "code",
   "execution_count": 3,
   "metadata": {},
   "outputs": [],
   "source": [
    "metadata['subject'] =metadata.subject.map(lambda x: \n",
    "                     [i.strip() for i in regex.sub(\"'|\\[|\\]\",'', str(x)).split(',') if len(i) > 0])"
   ]
  },
  {
   "cell_type": "code",
   "execution_count": 4,
   "metadata": {},
   "outputs": [
    {
     "data": {
      "text/plain": [
       "(4230, 16)"
      ]
     },
     "execution_count": 4,
     "metadata": {},
     "output_type": "execute_result"
    }
   ],
   "source": [
    "metadata.shape"
   ]
  },
  {
   "cell_type": "code",
   "execution_count": 5,
   "metadata": {},
   "outputs": [
    {
     "data": {
      "text/html": [
       "<div>\n",
       "<style scoped>\n",
       "    .dataframe tbody tr th:only-of-type {\n",
       "        vertical-align: middle;\n",
       "    }\n",
       "\n",
       "    .dataframe tbody tr th {\n",
       "        vertical-align: top;\n",
       "    }\n",
       "\n",
       "    .dataframe thead th {\n",
       "        text-align: right;\n",
       "    }\n",
       "</style>\n",
       "<table border=\"1\" class=\"dataframe\">\n",
       "  <thead>\n",
       "    <tr style=\"text-align: right;\">\n",
       "      <th></th>\n",
       "      <th>file</th>\n",
       "      <th>subject</th>\n",
       "      <th>iso</th>\n",
       "      <th>uri</th>\n",
       "      <th>type</th>\n",
       "      <th>publisher</th>\n",
       "      <th>title</th>\n",
       "      <th>issued</th>\n",
       "      <th>accessioned</th>\n",
       "      <th>citation</th>\n",
       "      <th>available</th>\n",
       "      <th>abstract</th>\n",
       "      <th>long_name</th>\n",
       "      <th>author_order</th>\n",
       "      <th>shortend_names</th>\n",
       "      <th>identifier</th>\n",
       "    </tr>\n",
       "  </thead>\n",
       "  <tbody>\n",
       "    <tr>\n",
       "      <th>0</th>\n",
       "      <td>2015_169</td>\n",
       "      <td>[qualitative studies, digital resources, teach...</td>\n",
       "      <td>en</td>\n",
       "      <td>https://doi.dx.org/10.22318/cscl2015.169</td>\n",
       "      <td>Book chapter</td>\n",
       "      <td>International Society of the Learning Science...</td>\n",
       "      <td>Beyond Pedagogical Challenges: Addressing the ...</td>\n",
       "      <td>2015-07-01</td>\n",
       "      <td>2017-06-19 14:15:51</td>\n",
       "      <td>Rossitto, C., Hernwall, P., &amp; Collin, J. (2015...</td>\n",
       "      <td>2017-06-19 14:15:51</td>\n",
       "      <td>This article presents the results of a qualita...</td>\n",
       "      <td>Rossitto, Chiara</td>\n",
       "      <td>0</td>\n",
       "      <td>Rossitto C.</td>\n",
       "      <td>Rossitto, C., Hernwall, P., &amp; Collin, J. (2015...</td>\n",
       "    </tr>\n",
       "    <tr>\n",
       "      <th>1</th>\n",
       "      <td>2014_1667-1668</td>\n",
       "      <td>[]</td>\n",
       "      <td>en</td>\n",
       "      <td>https://doi.dx.org/10.22318/icls2014.1667</td>\n",
       "      <td>Book chapter</td>\n",
       "      <td>Boulder, CO: International Society of the Lear...</td>\n",
       "      <td>Designing Collaborative Learning Activities fo...</td>\n",
       "      <td>2014-06-01</td>\n",
       "      <td>2018-05-21 22:08:52</td>\n",
       "      <td>Lam, R. J. (2014). Designing Collaborative Lea...</td>\n",
       "      <td>2018-05-21 22:08:52</td>\n",
       "      <td>Four versions of a collaborative activity were...</td>\n",
       "      <td>Lam, Rachel J.</td>\n",
       "      <td>0</td>\n",
       "      <td>Lam R. J.</td>\n",
       "      <td>Lam, R. J. (2014). Designing Collaborative Lea...</td>\n",
       "    </tr>\n",
       "  </tbody>\n",
       "</table>\n",
       "</div>"
      ],
      "text/plain": [
       "             file                                            subject iso  \\\n",
       "0        2015_169  [qualitative studies, digital resources, teach...  en   \n",
       "1  2014_1667-1668                                                 []  en   \n",
       "\n",
       "                                         uri          type  \\\n",
       "0   https://doi.dx.org/10.22318/cscl2015.169  Book chapter   \n",
       "1  https://doi.dx.org/10.22318/icls2014.1667  Book chapter   \n",
       "\n",
       "                                           publisher  \\\n",
       "0   International Society of the Learning Science...   \n",
       "1  Boulder, CO: International Society of the Lear...   \n",
       "\n",
       "                                               title     issued  \\\n",
       "0  Beyond Pedagogical Challenges: Addressing the ... 2015-07-01   \n",
       "1  Designing Collaborative Learning Activities fo... 2014-06-01   \n",
       "\n",
       "          accessioned                                           citation  \\\n",
       "0 2017-06-19 14:15:51  Rossitto, C., Hernwall, P., & Collin, J. (2015...   \n",
       "1 2018-05-21 22:08:52  Lam, R. J. (2014). Designing Collaborative Lea...   \n",
       "\n",
       "            available                                           abstract  \\\n",
       "0 2017-06-19 14:15:51  This article presents the results of a qualita...   \n",
       "1 2018-05-21 22:08:52  Four versions of a collaborative activity were...   \n",
       "\n",
       "          long_name  author_order shortend_names  \\\n",
       "0  Rossitto, Chiara             0    Rossitto C.   \n",
       "1    Lam, Rachel J.             0      Lam R. J.   \n",
       "\n",
       "                                          identifier  \n",
       "0  Rossitto, C., Hernwall, P., & Collin, J. (2015...  \n",
       "1  Lam, R. J. (2014). Designing Collaborative Lea...  "
      ]
     },
     "execution_count": 5,
     "metadata": {},
     "output_type": "execute_result"
    }
   ],
   "source": [
    "metadata.head(2)"
   ]
  },
  {
   "cell_type": "markdown",
   "metadata": {},
   "source": [
    "The following gives a good overview of the type of values we have in the dataset. The first column gives us the number of values. We can discover NaN values present in the dataset. We see that we ave Nan values in the subject and the abstract column.\n",
    "We can also see the number of unique values in the second column. We see that long name and shortend name have different amounts of unique values. This means we should use the long name instead. "
   ]
  },
  {
   "cell_type": "code",
   "execution_count": 6,
   "metadata": {},
   "outputs": [
    {
     "data": {
      "text/plain": [
       "7      2016_39\n",
       "42    2018_523\n",
       "56    2018_517\n",
       "64    2018_528\n",
       "83    2018_511\n",
       "Name: file, dtype: object"
      ]
     },
     "execution_count": 6,
     "metadata": {},
     "output_type": "execute_result"
    }
   ],
   "source": [
    "#metadata[metadata.abstract.isna()].file.to_csv('NO_abstract_files.csv')\n",
    "metadata[metadata.abstract.isna()].file.head()"
   ]
  },
  {
   "cell_type": "code",
   "execution_count": 7,
   "metadata": {},
   "outputs": [
    {
     "data": {
      "text/plain": [
       "file              4230\n",
       "subject           4230\n",
       "iso               4230\n",
       "uri               4230\n",
       "type              4230\n",
       "publisher         4230\n",
       "title             4230\n",
       "issued            4230\n",
       "accessioned       4230\n",
       "citation          4230\n",
       "available         4230\n",
       "abstract          4167\n",
       "long_name         4230\n",
       "author_order      4230\n",
       "shortend_names    4230\n",
       "identifier        4203\n",
       "dtype: int64"
      ]
     },
     "execution_count": 7,
     "metadata": {},
     "output_type": "execute_result"
    }
   ],
   "source": [
    "metadata.count()"
   ]
  },
  {
   "cell_type": "code",
   "execution_count": 8,
   "metadata": {},
   "outputs": [
    {
     "data": {
      "text/plain": [
       "file              1125\n",
       "subject           1125\n",
       "iso               1125\n",
       "uri               1125\n",
       "type              1125\n",
       "publisher         1125\n",
       "title             1125\n",
       "issued            1125\n",
       "accessioned       1125\n",
       "citation          1125\n",
       "available         1125\n",
       "abstract          1092\n",
       "long_name         1125\n",
       "author_order      1125\n",
       "shortend_names    1125\n",
       "identifier        1124\n",
       "dtype: int64"
      ]
     },
     "execution_count": 8,
     "metadata": {},
     "output_type": "execute_result"
    }
   ],
   "source": [
    "metadata[~metadata.file.duplicated()].count()"
   ]
  },
  {
   "cell_type": "markdown",
   "metadata": {},
   "source": [
    "Something is wrong with the citation here:"
   ]
  },
  {
   "cell_type": "code",
   "execution_count": 9,
   "metadata": {
    "scrolled": true
   },
   "outputs": [
    {
     "data": {
      "text/plain": [
       "array(['2018_274'], dtype=object)"
      ]
     },
     "execution_count": 9,
     "metadata": {},
     "output_type": "execute_result"
    }
   ],
   "source": [
    "metadata[metadata['identifier'].isna()].file.unique()"
   ]
  },
  {
   "cell_type": "code",
   "execution_count": 10,
   "metadata": {},
   "outputs": [
    {
     "data": {
      "text/plain": [
       "(359,)"
      ]
     },
     "execution_count": 10,
     "metadata": {},
     "output_type": "execute_result"
    }
   ],
   "source": [
    "mask_keywords = (metadata.subject.map(len) == 0)\n",
    "metadata[mask_keywords].file.drop_duplicates().shape"
   ]
  },
  {
   "cell_type": "markdown",
   "metadata": {},
   "source": [
    "Number of unique authors"
   ]
  },
  {
   "cell_type": "code",
   "execution_count": 11,
   "metadata": {},
   "outputs": [
    {
     "data": {
      "text/plain": [
       "2419"
      ]
     },
     "execution_count": 11,
     "metadata": {},
     "output_type": "execute_result"
    }
   ],
   "source": [
    "len(metadata.long_name.unique())"
   ]
  },
  {
   "cell_type": "markdown",
   "metadata": {},
   "source": [
    "**Looking more into the naming issue**\n",
    "\n",
    "\n",
    "We construct an index corresponding to each unique name, for both long and short form. Then, we merge long and short. Where both don't overlap, there is some issue with the naming.\n",
    "\n",
    "Inspeciting the dataframe one finds that there are two cases: \n",
    "- small changes in the string make two identical names non identical.\n",
    "- the citation order is out of order, and this the short form (based on the citation) was assigned incorrectly.\n",
    "- the short form name is not unique\n",
    "\n",
    "We can fix the small changes in naming issue when we build to graph of coauthor ship and then look at coauthors that are located in a similar place in the graph and that have similar names. "
   ]
  },
  {
   "cell_type": "code",
   "execution_count": 12,
   "metadata": {},
   "outputs": [
    {
     "data": {
      "text/html": [
       "<div>\n",
       "<style scoped>\n",
       "    .dataframe tbody tr th:only-of-type {\n",
       "        vertical-align: middle;\n",
       "    }\n",
       "\n",
       "    .dataframe tbody tr th {\n",
       "        vertical-align: top;\n",
       "    }\n",
       "\n",
       "    .dataframe thead th {\n",
       "        text-align: right;\n",
       "    }\n",
       "</style>\n",
       "<table border=\"1\" class=\"dataframe\">\n",
       "  <thead>\n",
       "    <tr style=\"text-align: right;\">\n",
       "      <th></th>\n",
       "      <th>index_x</th>\n",
       "      <th>shortend_names</th>\n",
       "      <th>index_y</th>\n",
       "      <th>long_name</th>\n",
       "    </tr>\n",
       "  </thead>\n",
       "  <tbody>\n",
       "    <tr>\n",
       "      <th>1943</th>\n",
       "      <td>2981</td>\n",
       "      <td>Harris C. J.</td>\n",
       "      <td>1751</td>\n",
       "      <td>Harris, Christopher</td>\n",
       "    </tr>\n",
       "  </tbody>\n",
       "</table>\n",
       "</div>"
      ],
      "text/plain": [
       "      index_x shortend_names  index_y            long_name\n",
       "1943     2981   Harris C. J.     1751  Harris, Christopher"
      ]
     },
     "execution_count": 12,
     "metadata": {},
     "output_type": "execute_result"
    }
   ],
   "source": [
    "unique_long = metadata.long_name.drop_duplicates()\n",
    "unique_short = metadata.shortend_names.drop_duplicates()\n",
    "names = metadata[['long_name', 'shortend_names']].drop_duplicates()\n",
    "\n",
    "index_long = unique_long.reset_index()\n",
    "index_short = unique_short.reset_index()\n",
    "names = pd.merge(index_long,names, on='long_name')\n",
    "\n",
    "differences = pd.merge(index_short, names, on='shortend_names')\n",
    "differences[differences.index_x != differences.index_y].sample()"
   ]
  },
  {
   "cell_type": "code",
   "execution_count": 13,
   "metadata": {
    "scrolled": true
   },
   "outputs": [
    {
     "data": {
      "text/html": [
       "<div>\n",
       "<style scoped>\n",
       "    .dataframe tbody tr th:only-of-type {\n",
       "        vertical-align: middle;\n",
       "    }\n",
       "\n",
       "    .dataframe tbody tr th {\n",
       "        vertical-align: top;\n",
       "    }\n",
       "\n",
       "    .dataframe thead th {\n",
       "        text-align: right;\n",
       "    }\n",
       "</style>\n",
       "<table border=\"1\" class=\"dataframe\">\n",
       "  <thead>\n",
       "    <tr style=\"text-align: right;\">\n",
       "      <th></th>\n",
       "      <th>index_x</th>\n",
       "      <th>shortend_names</th>\n",
       "      <th>index_y</th>\n",
       "      <th>long_name</th>\n",
       "    </tr>\n",
       "  </thead>\n",
       "  <tbody>\n",
       "    <tr>\n",
       "      <th>204</th>\n",
       "      <td>210</td>\n",
       "      <td>Flood V. J.</td>\n",
       "      <td>210</td>\n",
       "      <td>Flood, Virginia J.</td>\n",
       "    </tr>\n",
       "  </tbody>\n",
       "</table>\n",
       "</div>"
      ],
      "text/plain": [
       "     index_x shortend_names  index_y           long_name\n",
       "204      210    Flood V. J.      210  Flood, Virginia J."
      ]
     },
     "execution_count": 13,
     "metadata": {},
     "output_type": "execute_result"
    }
   ],
   "source": [
    "differences[differences.shortend_names == 'Flood V. J.']"
   ]
  },
  {
   "cell_type": "markdown",
   "metadata": {},
   "source": [
    "We can fix the first problem by transforming the long form of the string. Now only issue 2 and 3 remain:"
   ]
  },
  {
   "cell_type": "code",
   "execution_count": 14,
   "metadata": {},
   "outputs": [],
   "source": [
    "import unicodedata"
   ]
  },
  {
   "cell_type": "code",
   "execution_count": 15,
   "metadata": {},
   "outputs": [
    {
     "data": {
      "text/html": [
       "<div>\n",
       "<style scoped>\n",
       "    .dataframe tbody tr th:only-of-type {\n",
       "        vertical-align: middle;\n",
       "    }\n",
       "\n",
       "    .dataframe tbody tr th {\n",
       "        vertical-align: top;\n",
       "    }\n",
       "\n",
       "    .dataframe thead th {\n",
       "        text-align: right;\n",
       "    }\n",
       "</style>\n",
       "<table border=\"1\" class=\"dataframe\">\n",
       "  <thead>\n",
       "    <tr style=\"text-align: right;\">\n",
       "      <th></th>\n",
       "      <th>index_x</th>\n",
       "      <th>shortend_names</th>\n",
       "      <th>index_y</th>\n",
       "      <th>long_name</th>\n",
       "    </tr>\n",
       "  </thead>\n",
       "  <tbody>\n",
       "    <tr>\n",
       "      <th>636</th>\n",
       "      <td>996</td>\n",
       "      <td>Li Y.</td>\n",
       "      <td>2997</td>\n",
       "      <td>Li, Yi</td>\n",
       "    </tr>\n",
       "    <tr>\n",
       "      <th>1608</th>\n",
       "      <td>3013</td>\n",
       "      <td>Baker R. S.</td>\n",
       "      <td>1603</td>\n",
       "      <td>Baker, Ryan</td>\n",
       "    </tr>\n",
       "    <tr>\n",
       "      <th>1484</th>\n",
       "      <td>2750</td>\n",
       "      <td>Jain R.</td>\n",
       "      <td>2955</td>\n",
       "      <td>Jain, Rishika</td>\n",
       "    </tr>\n",
       "    <tr>\n",
       "      <th>1100</th>\n",
       "      <td>1845</td>\n",
       "      <td>Irgens G. A.</td>\n",
       "      <td>489</td>\n",
       "      <td>Arastoopour, Golnaz</td>\n",
       "    </tr>\n",
       "    <tr>\n",
       "      <th>832</th>\n",
       "      <td>1323</td>\n",
       "      <td>Chiu J.</td>\n",
       "      <td>309</td>\n",
       "      <td>Bywater, Jim P</td>\n",
       "    </tr>\n",
       "  </tbody>\n",
       "</table>\n",
       "</div>"
      ],
      "text/plain": [
       "      index_x shortend_names  index_y            long_name\n",
       "636       996          Li Y.     2997               Li, Yi\n",
       "1608     3013    Baker R. S.     1603          Baker, Ryan\n",
       "1484     2750        Jain R.     2955        Jain, Rishika\n",
       "1100     1845   Irgens G. A.      489  Arastoopour, Golnaz\n",
       "832      1323        Chiu J.      309       Bywater, Jim P"
      ]
     },
     "execution_count": 15,
     "metadata": {},
     "output_type": "execute_result"
    }
   ],
   "source": [
    "unique_long = metadata.long_name.map(lambda x: regex.sub('\\.', '',x)).drop_duplicates()\n",
    "unique_long = unique_long.map(lambda x: unicodedata.normalize('NFKD', x).encode('ascii','ignore').decode('ascii'))\n",
    "\n",
    "unique_short = metadata.shortend_names.drop_duplicates()\n",
    "names = metadata[['long_name', 'shortend_names']].drop_duplicates()\n",
    "\n",
    "index_long = unique_long.reset_index()\n",
    "index_short = unique_short.reset_index()\n",
    "names = pd.merge(index_long,names, on='long_name')\n",
    "\n",
    "differences = pd.merge(index_short, names, on='shortend_names')\n",
    "differences[differences.index_x != differences.index_y].sample(5)"
   ]
  },
  {
   "cell_type": "code",
   "execution_count": 16,
   "metadata": {
    "scrolled": true
   },
   "outputs": [
    {
     "data": {
      "text/plain": [
       "(     index_x shortend_names  index_y    long_name\n",
       " 142      176         Tan E.      176    Tan, Edna\n",
       " 143      176         Tan E.      509  Tan, Esther,\n",
       "       index_x shortend_names  index_y long_name\n",
       " 1569     2938         Roy D.     2938  Roy, Dan\n",
       " 1570     2938         Roy D.     3650  Roy, Deb)"
      ]
     },
     "execution_count": 16,
     "metadata": {},
     "output_type": "execute_result"
    }
   ],
   "source": [
    "differences[differences.shortend_names =='Tan E.'], differences[differences.shortend_names =='Roy D.']"
   ]
  },
  {
   "cell_type": "markdown",
   "metadata": {},
   "source": [
    "Use the cleaned long name string:"
   ]
  },
  {
   "cell_type": "code",
   "execution_count": 17,
   "metadata": {},
   "outputs": [],
   "source": [
    "metadata.loc['long_name'] = metadata.long_name.map(lambda x: regex.sub('\\.', '',x)).map(\n",
    "    lambda x: unicodedata.normalize('NFKD', x).encode('ascii','ignore').decode('ascii'))"
   ]
  },
  {
   "cell_type": "markdown",
   "metadata": {},
   "source": [
    "# Looking at the authors:"
   ]
  },
  {
   "cell_type": "code",
   "execution_count": 18,
   "metadata": {},
   "outputs": [
    {
     "data": {
      "image/png": "[encoded data removed]",
      "text/plain": [
       "<Figure size 432x288 with 1 Axes>"
      ]
     },
     "metadata": {
      "needs_background": "light"
     },
     "output_type": "display_data"
    }
   ],
   "source": [
    "plt.title('Most productive paper authors in the whole set of papers')\n",
    "plt.ylabel('Number of distinct papers')\n",
    "metadata.long_name.value_counts().head(10).plot(kind = 'bar')\n",
    "plt.show()"
   ]
  },
  {
   "cell_type": "markdown",
   "metadata": {},
   "source": [
    "# Looking at the number of papers: \n",
    "\n",
    "We see that more papers get published in ICLS than in CLCS."
   ]
  },
  {
   "cell_type": "code",
   "execution_count": 19,
   "metadata": {},
   "outputs": [
    {
     "data": {
      "image/png": "[encoded data removed]",
      "text/plain": [
       "<Figure size 432x288 with 1 Axes>"
      ]
     },
     "metadata": {
      "needs_background": "light"
     },
     "output_type": "display_data"
    }
   ],
   "source": [
    "metadata['issued'] = metadata.issued.map(lambda x: x.year)\n",
    "plt.title('Papers published in year')\n",
    "plt.xlabel('year')\n",
    "plt.ylabel('counts')\n",
    "metadata[~metadata.file.duplicated()].issued.value_counts().sort_index().plot(kind='bar')\n",
    "plt.show()"
   ]
  },
  {
   "cell_type": "markdown",
   "metadata": {},
   "source": [
    "Here we look at the number of authors in each year:"
   ]
  },
  {
   "cell_type": "code",
   "execution_count": 20,
   "metadata": {},
   "outputs": [
    {
     "data": {
      "text/plain": [
       "<matplotlib.axes._subplots.AxesSubplot at 0x1a1dbc4c18>"
      ]
     },
     "execution_count": 20,
     "metadata": {},
     "output_type": "execute_result"
    },
    {
     "data": {
      "image/png": "[encoded data removed]",
      "text/plain": [
       "<Figure size 432x288 with 1 Axes>"
      ]
     },
     "metadata": {
      "needs_background": "light"
     },
     "output_type": "display_data"
    }
   ],
   "source": [
    "plt.title('Authors published in year')\n",
    "plt.xlabel('year')\n",
    "plt.ylabel('counts')\n",
    "metadata.groupby(['issued']).long_name.unique().map(lambda x: len(x)).plot(kind = 'bar')"
   ]
  },
  {
   "cell_type": "markdown",
   "metadata": {},
   "source": [
    "In each year, every author published the following average papers:"
   ]
  },
  {
   "cell_type": "code",
   "execution_count": 21,
   "metadata": {},
   "outputs": [
    {
     "data": {
      "text/plain": [
       "issued\n",
       "2014.0    1.306920\n",
       "2015.0    1.242321\n",
       "2016.0    1.231638\n",
       "2017.0    1.167920\n",
       "2018.0    1.337012\n",
       "Name: long_name, dtype: float64"
      ]
     },
     "execution_count": 21,
     "metadata": {},
     "output_type": "execute_result"
    }
   ],
   "source": [
    "metadata.groupby('issued').long_name.value_counts().groupby('issued').mean()"
   ]
  },
  {
   "cell_type": "code",
   "execution_count": 22,
   "metadata": {},
   "outputs": [
    {
     "data": {
      "text/plain": [
       "issued\n",
       "2014.0    1\n",
       "2015.0    1\n",
       "2016.0    1\n",
       "2017.0    1\n",
       "2018.0    1\n",
       "Name: long_name, dtype: int64"
      ]
     },
     "execution_count": 22,
     "metadata": {},
     "output_type": "execute_result"
    }
   ],
   "source": [
    "metadata.groupby('issued').long_name.value_counts().groupby('issued').median()"
   ]
  },
  {
   "cell_type": "markdown",
   "metadata": {},
   "source": [
    "The median and average number of authors per paper is:"
   ]
  },
  {
   "cell_type": "code",
   "execution_count": 23,
   "metadata": {},
   "outputs": [
    {
     "name": "stdout",
     "output_type": "stream",
     "text": [
      "Median number authors per paper 3.0, Average number of authors per paper 3.76\n"
     ]
    }
   ],
   "source": [
    "print(\"Median number authors per paper {}, Average number of authors per paper {:.4}\".format(metadata.file.value_counts().median(), metadata.file.value_counts().mean()))"
   ]
  },
  {
   "cell_type": "code",
   "execution_count": 24,
   "metadata": {},
   "outputs": [
    {
     "data": {
      "text/html": [
       "<div>\n",
       "<style scoped>\n",
       "    .dataframe tbody tr th:only-of-type {\n",
       "        vertical-align: middle;\n",
       "    }\n",
       "\n",
       "    .dataframe tbody tr th {\n",
       "        vertical-align: top;\n",
       "    }\n",
       "\n",
       "    .dataframe thead th {\n",
       "        text-align: right;\n",
       "    }\n",
       "</style>\n",
       "<table border=\"1\" class=\"dataframe\">\n",
       "  <thead>\n",
       "    <tr style=\"text-align: right;\">\n",
       "      <th></th>\n",
       "      <th>count</th>\n",
       "      <th>mean</th>\n",
       "      <th>std</th>\n",
       "      <th>min</th>\n",
       "      <th>25%</th>\n",
       "      <th>50%</th>\n",
       "      <th>75%</th>\n",
       "      <th>max</th>\n",
       "    </tr>\n",
       "    <tr>\n",
       "      <th>issued</th>\n",
       "      <th></th>\n",
       "      <th></th>\n",
       "      <th></th>\n",
       "      <th></th>\n",
       "      <th></th>\n",
       "      <th></th>\n",
       "      <th></th>\n",
       "      <th></th>\n",
       "    </tr>\n",
       "  </thead>\n",
       "  <tbody>\n",
       "    <tr>\n",
       "      <th>2014.0</th>\n",
       "      <td>308.0</td>\n",
       "      <td>3.801948</td>\n",
       "      <td>2.870108</td>\n",
       "      <td>1.0</td>\n",
       "      <td>2.0</td>\n",
       "      <td>3.0</td>\n",
       "      <td>5.0</td>\n",
       "      <td>18.0</td>\n",
       "    </tr>\n",
       "    <tr>\n",
       "      <th>2015.0</th>\n",
       "      <td>85.0</td>\n",
       "      <td>4.282353</td>\n",
       "      <td>3.227898</td>\n",
       "      <td>1.0</td>\n",
       "      <td>2.0</td>\n",
       "      <td>3.0</td>\n",
       "      <td>5.0</td>\n",
       "      <td>18.0</td>\n",
       "    </tr>\n",
       "    <tr>\n",
       "      <th>2016.0</th>\n",
       "      <td>171.0</td>\n",
       "      <td>3.824561</td>\n",
       "      <td>2.799934</td>\n",
       "      <td>1.0</td>\n",
       "      <td>2.0</td>\n",
       "      <td>3.0</td>\n",
       "      <td>4.5</td>\n",
       "      <td>20.0</td>\n",
       "    </tr>\n",
       "    <tr>\n",
       "      <th>2017.0</th>\n",
       "      <td>115.0</td>\n",
       "      <td>4.052174</td>\n",
       "      <td>3.521472</td>\n",
       "      <td>1.0</td>\n",
       "      <td>2.0</td>\n",
       "      <td>3.0</td>\n",
       "      <td>4.0</td>\n",
       "      <td>24.0</td>\n",
       "    </tr>\n",
       "    <tr>\n",
       "      <th>2018.0</th>\n",
       "      <td>446.0</td>\n",
       "      <td>3.531390</td>\n",
       "      <td>3.007504</td>\n",
       "      <td>1.0</td>\n",
       "      <td>2.0</td>\n",
       "      <td>3.0</td>\n",
       "      <td>4.0</td>\n",
       "      <td>27.0</td>\n",
       "    </tr>\n",
       "  </tbody>\n",
       "</table>\n",
       "</div>"
      ],
      "text/plain": [
       "        count      mean       std  min  25%  50%  75%   max\n",
       "issued                                                     \n",
       "2014.0  308.0  3.801948  2.870108  1.0  2.0  3.0  5.0  18.0\n",
       "2015.0   85.0  4.282353  3.227898  1.0  2.0  3.0  5.0  18.0\n",
       "2016.0  171.0  3.824561  2.799934  1.0  2.0  3.0  4.5  20.0\n",
       "2017.0  115.0  4.052174  3.521472  1.0  2.0  3.0  4.0  24.0\n",
       "2018.0  446.0  3.531390  3.007504  1.0  2.0  3.0  4.0  27.0"
      ]
     },
     "execution_count": 24,
     "metadata": {},
     "output_type": "execute_result"
    }
   ],
   "source": [
    "metadata.groupby('issued').file.value_counts().groupby('issued').describe()"
   ]
  },
  {
   "cell_type": "code",
   "execution_count": 25,
   "metadata": {},
   "outputs": [
    {
     "data": {
      "text/plain": [
       "issued\n",
       "2014.0    2.870108\n",
       "2015.0    3.227898\n",
       "2016.0    2.799934\n",
       "2017.0    3.521472\n",
       "2018.0    3.007504\n",
       "Name: file, dtype: float64"
      ]
     },
     "execution_count": 25,
     "metadata": {},
     "output_type": "execute_result"
    }
   ],
   "source": [
    "metadata.groupby('issued').file.value_counts().groupby('issued').std()"
   ]
  },
  {
   "cell_type": "code",
   "execution_count": 26,
   "metadata": {},
   "outputs": [
    {
     "data": {
      "text/plain": [
       "issued\n",
       "2014.0    3.801948\n",
       "2015.0    4.282353\n",
       "2016.0    3.824561\n",
       "2017.0    4.052174\n",
       "2018.0    3.531390\n",
       "Name: file, dtype: float64"
      ]
     },
     "execution_count": 26,
     "metadata": {},
     "output_type": "execute_result"
    }
   ],
   "source": [
    "metadata.groupby('issued').file.value_counts().groupby('issued').mean()"
   ]
  },
  {
   "cell_type": "code",
   "execution_count": 27,
   "metadata": {},
   "outputs": [],
   "source": [
    "import scipy.stats as stats"
   ]
  },
  {
   "cell_type": "markdown",
   "metadata": {},
   "source": [
    "Check if the observed difference in average number of authors is significant:\n",
    "it is not - however, our data might change with more years to observe!\n",
    "(the difference between only one year of CLCS and ICLS has even higher p value)"
   ]
  },
  {
   "cell_type": "code",
   "execution_count": 28,
   "metadata": {},
   "outputs": [
    {
     "data": {
      "text/plain": [
       "Ttest_indResult(statistic=-2.018624999649567, pvalue=0.04376353245425325)"
      ]
     },
     "execution_count": 28,
     "metadata": {},
     "output_type": "execute_result"
    }
   ],
   "source": [
    "stats.ttest_ind(metadata[metadata.issued%2 == 0].file.value_counts() ,metadata[metadata.issued%2 != 0].file.value_counts())"
   ]
  },
  {
   "cell_type": "markdown",
   "metadata": {},
   "source": [
    "People who submitted every year of the year:"
   ]
  },
  {
   "cell_type": "code",
   "execution_count": 29,
   "metadata": {},
   "outputs": [],
   "source": [
    "#get universities by year\n",
    "uni_year = metadata.groupby('issued').apply(lambda x: set(x['long_name']))\n",
    "\n",
    "#get years in our dataset\n",
    "years = uni_year.index.tolist()\n",
    "\n",
    "#create a set of universities that have participated at some point\n",
    "unis = uni_year.tolist()\n",
    "all_ = set()\n",
    "[all_.update(x) for x in unis]\n",
    "\n",
    "#now use odd and even years to determine universities that participated every year in either ICLS or CSCL\n",
    "\n",
    "regulars = unis[0]\n",
    "ICLS = all_\n",
    "CSCL = all_\n",
    "for i, x in enumerate(unis):\n",
    "    regulars = regulars.intersection(x)\n",
    "    \n",
    "    if years[i] % 2 == 0:\n",
    "        ICLS = ICLS.intersection(x)\n",
    "    else:\n",
    "        CSCL = CSCL.intersection(x)\n",
    "ICLS, CSCL = ICLS.difference(CSCL), CSCL.difference(ICLS)"
   ]
  },
  {
   "cell_type": "code",
   "execution_count": 30,
   "metadata": {},
   "outputs": [
    {
     "name": "stdout",
     "output_type": "stream",
     "text": [
      "Number of people who submit every year:  21\n"
     ]
    },
    {
     "data": {
      "text/plain": [
       "{'Acosta, Alisa',\n",
       " 'Anderson, Emma',\n",
       " 'Andrade-Lotero, Alejandro',\n",
       " 'Arastoopour, Golnaz',\n",
       " 'Borge, Marcela',\n",
       " 'Dillenbourg, Pierre',\n",
       " 'Linn, Marcia',\n",
       " 'Matuk, Camillia',\n",
       " 'Moher, Tom',\n",
       " 'Oshima, Jun',\n",
       " 'Oshima, Ritsuko',\n",
       " 'Peppler, Kylie A',\n",
       " 'Puntambekar, Sadhana',\n",
       " 'Rummel, Nikol',\n",
       " 'Shaffer, David Williamson',\n",
       " 'Sharma, Kshitij',\n",
       " 'Weinberger, Armin',\n",
       " 'Yip, Jason C.',\n",
       " 'Yoon, Susan',\n",
       " 'Zhang, Jianwei',\n",
       " 'van Aalst, Jan'}"
      ]
     },
     "execution_count": 30,
     "metadata": {},
     "output_type": "execute_result"
    }
   ],
   "source": [
    "print('Number of people who submit every year: ', len(regulars))\n",
    "regulars"
   ]
  },
  {
   "cell_type": "markdown",
   "metadata": {},
   "source": [
    "People who only subitted to 2015 and 2017:"
   ]
  },
  {
   "cell_type": "code",
   "execution_count": 31,
   "metadata": {},
   "outputs": [
    {
     "name": "stdout",
     "output_type": "stream",
     "text": [
      "Number of CSCL only participants:  60\n"
     ]
    }
   ],
   "source": [
    "print('Number of CSCL only participants: ', len(CSCL))\n",
    "#CSCL"
   ]
  },
  {
   "cell_type": "code",
   "execution_count": 32,
   "metadata": {
    "scrolled": false
   },
   "outputs": [
    {
     "name": "stdout",
     "output_type": "stream",
     "text": [
      "Number of ICLS only participants:  84\n"
     ]
    }
   ],
   "source": [
    "print('Number of ICLS only participants: ', len(ICLS))\n",
    "#ICLS_only #uncomment to see al 129 participants"
   ]
  },
  {
   "cell_type": "markdown",
   "metadata": {},
   "source": [
    "## Analyzing the regulars"
   ]
  },
  {
   "cell_type": "markdown",
   "metadata": {},
   "source": [
    "The metadata associated with the regulars:"
   ]
  },
  {
   "cell_type": "code",
   "execution_count": 33,
   "metadata": {},
   "outputs": [
    {
     "data": {
      "text/plain": [
       "<matplotlib.axes._subplots.AxesSubplot at 0x1a1e14a198>"
      ]
     },
     "execution_count": 33,
     "metadata": {},
     "output_type": "execute_result"
    },
    {
     "data": {
      "image/png": "[encoded data removed]",
      "text/plain": [
       "<Figure size 432x288 with 1 Axes>"
      ]
     },
     "metadata": {
      "needs_background": "light"
     },
     "output_type": "display_data"
    }
   ],
   "source": [
    "metadata[metadata.long_name.isin(regulars)].long_name.value_counts().plot(kind = 'bar')"
   ]
  },
  {
   "cell_type": "markdown",
   "metadata": {},
   "source": [
    "Look at how number of pub. per year evolve ... there is not much to see:"
   ]
  },
  {
   "cell_type": "code",
   "execution_count": 34,
   "metadata": {},
   "outputs": [],
   "source": [
    "regulars = pd.DataFrame(metadata[metadata.long_name.isin(regulars)].groupby('issued').long_name.value_counts())\n",
    "regulars.columns = ['counts']\n",
    "regulars.reset_index(inplace=True)"
   ]
  },
  {
   "cell_type": "code",
   "execution_count": 35,
   "metadata": {},
   "outputs": [
    {
     "data": {
      "image/png": "[encoded data removed]",
      "text/plain": [
       "<Figure size 527.625x360 with 1 Axes>"
      ]
     },
     "metadata": {
      "needs_background": "light"
     },
     "output_type": "display_data"
    }
   ],
   "source": [
    "sns.catplot(data=regulars, x='issued', y='counts',kind='point', hue='long_name')\n",
    "plt.xticks(rotation=90)\n",
    "plt.show()"
   ]
  },
  {
   "cell_type": "markdown",
   "metadata": {},
   "source": [
    "# looking at the keywords that come with the metadata:"
   ]
  },
  {
   "cell_type": "code",
   "execution_count": 36,
   "metadata": {},
   "outputs": [],
   "source": [
    "all_keywords = metadata[(~metadata.file.duplicated())].subject.map(lambda x: str(x)).map(lambda x: regex.split(',', regex.sub(\"'|\\[|\\]\", '', x).strip()))"
   ]
  },
  {
   "cell_type": "code",
   "execution_count": 37,
   "metadata": {},
   "outputs": [
    {
     "data": {
      "text/plain": [
       "science education          51\n",
       "design-based research      45\n",
       "knowledge building         33\n",
       "education technology       31\n",
       "scaffolding                26\n",
       "cscl                       22\n",
       "collaboration              21\n",
       "collaborative learning     21\n",
       "design                     20\n",
       "teacher education          18\n",
       "online learning            17\n",
       "mathematics                17\n",
       "technology                 17\n",
       "interaction analysis       17\n",
       "science                    17\n",
       "informal learning          16\n",
       "stem                       16\n",
       "argumentation              15\n",
       "social network analysis    15\n",
       "primary school             14\n",
       "dtype: int64"
      ]
     },
     "execution_count": 37,
     "metadata": {},
     "output_type": "execute_result"
    }
   ],
   "source": [
    "pd.Series([i.strip().lower() for j in all_keywords.tolist() for i in j if len(i) > 0]).value_counts().head(20)"
   ]
  },
  {
   "cell_type": "code",
   "execution_count": 38,
   "metadata": {},
   "outputs": [],
   "source": [
    "metadata['subject'] = metadata.subject.map(\n",
    "    lambda x: str(x)).map(lambda x: [i.strip() for i in regex.split(',', regex.sub(\"'|\\[|\\]\", '', x).strip())])"
   ]
  },
  {
   "cell_type": "code",
   "execution_count": 39,
   "metadata": {},
   "outputs": [
    {
     "data": {
      "text/plain": [
       "['qualitative studies', 'digital resources', 'teaching and learning practices']"
      ]
     },
     "execution_count": 39,
     "metadata": {},
     "output_type": "execute_result"
    }
   ],
   "source": [
    "metadata.subject[0]"
   ]
  },
  {
   "cell_type": "code",
   "execution_count": 42,
   "metadata": {},
   "outputs": [
    {
     "data": {
      "text/plain": [
       "446"
      ]
     },
     "execution_count": 42,
     "metadata": {},
     "output_type": "execute_result"
    }
   ],
   "source": [
    "metadata[(metadata.issued == 2018)].file.drop_duplicates().shape[0]"
   ]
  },
  {
   "cell_type": "code",
   "execution_count": 59,
   "metadata": {},
   "outputs": [
    {
     "data": {
      "text/plain": [
       "True"
      ]
     },
     "execution_count": 59,
     "metadata": {},
     "output_type": "execute_result"
    }
   ],
   "source": [
    "len(all_keywords)==0"
   ]
  },
  {
   "cell_type": "code",
   "execution_count": 61,
   "metadata": {},
   "outputs": [
    {
     "data": {
      "image/png": "[encoded data removed]",
      "text/plain": [
       "<Figure size 432x288 with 1 Axes>"
      ]
     },
     "metadata": {
      "needs_background": "light"
     },
     "output_type": "display_data"
    },
    {
     "data": {
      "image/png": "[encoded data removed]",
      "text/plain": [
       "<Figure size 432x288 with 1 Axes>"
      ]
     },
     "metadata": {
      "needs_background": "light"
     },
     "output_type": "display_data"
    },
    {
     "data": {
      "image/png": "[encoded data removed]",
      "text/plain": [
       "<Figure size 432x288 with 1 Axes>"
      ]
     },
     "metadata": {
      "needs_background": "light"
     },
     "output_type": "display_data"
    },
    {
     "data": {
      "image/png": "[encoded data removed]",
      "text/plain": [
       "<Figure size 432x288 with 1 Axes>"
      ]
     },
     "metadata": {
      "needs_background": "light"
     },
     "output_type": "display_data"
    }
   ],
   "source": [
    "for year in sorted(metadata.issued.dropna().unique()) :\n",
    "    all_keywords = metadata[(metadata.issued == year) & (~metadata.file.duplicated())].subject\n",
    "    all_keywords = [i.strip().lower() for j in all_keywords.tolist() for i in j if len(i) > 0]\n",
    "    if (len(all_keywords)==0) :\n",
    "        continue\n",
    "    plt.title('Most popular keywords in {}'.format(year))\n",
    "    (pd.Series(all_keywords).value_counts() / \n",
    "     metadata[(metadata.issued == year)].file.drop_duplicates().shape[0]).head(10).plot(kind='bar')\n",
    "    plt.show()"
   ]
  },
  {
   "cell_type": "code",
   "execution_count": 62,
   "metadata": {},
   "outputs": [
    {
     "name": "stdout",
     "output_type": "stream",
     "text": [
      "(308,) 2014.0\n",
      "(85,) 2015.0\n",
      "(171,) 2016.0\n",
      "(115,) 2017.0\n",
      "(446,) 2018.0\n"
     ]
    }
   ],
   "source": [
    "d = []\n",
    "for year in sorted(metadata.issued.dropna().unique()) :\n",
    "    all_keywords =  metadata[(metadata.issued == year) & (~metadata.file.duplicated())].subject\n",
    "    print(all_keywords.shape, year)\n",
    "    d.append(\n",
    "        pd.DataFrame(pd.Series([i.strip().lower() for j in all_keywords.tolist() for i in j if len(i) > 0]).value_counts(), columns=[year])\n",
    "    )\n"
   ]
  },
  {
   "cell_type": "code",
   "execution_count": 63,
   "metadata": {},
   "outputs": [],
   "source": [
    "keywords_over_the_years = d[0].join(d[1], how='outer').join(d[2], how='outer').join(d[3], how='outer')"
   ]
  },
  {
   "cell_type": "markdown",
   "metadata": {},
   "source": [
    "Number of symposiums will affect the average numver of keywords per paper, but we still present it here:"
   ]
  },
  {
   "cell_type": "code",
   "execution_count": 64,
   "metadata": {},
   "outputs": [
    {
     "data": {
      "text/plain": [
       "2014.0    0.000000\n",
       "2015.0    0.264734\n",
       "2016.0    0.432704\n",
       "2017.0    0.463329\n",
       "2018.0         NaN\n",
       "dtype: float64"
      ]
     },
     "execution_count": 64,
     "metadata": {},
     "output_type": "execute_result"
    }
   ],
   "source": [
    "keywords_over_the_years.apply(lambda x: x.dropna().sum()) / metadata.groupby(['issued']).sum().author_order"
   ]
  },
  {
   "cell_type": "markdown",
   "metadata": {},
   "source": [
    "Look at keywords making sure the normalize by the total counts for each year!"
   ]
  },
  {
   "cell_type": "code",
   "execution_count": 65,
   "metadata": {},
   "outputs": [],
   "source": [
    "every_year = (keywords_over_the_years.dropna() / \n",
    "                           keywords_over_the_years.apply(lambda x: x.dropna().sum()) * 100 )"
   ]
  },
  {
   "cell_type": "code",
   "execution_count": 66,
   "metadata": {},
   "outputs": [],
   "source": [
    "#exclude very small values for better plotting\n",
    "every_year = every_year[every_year.apply(lambda x: (x > 0.8).any(), axis=1)]"
   ]
  },
  {
   "cell_type": "code",
   "execution_count": 67,
   "metadata": {},
   "outputs": [],
   "source": [
    "melted_keywords = pd.melt(every_year.reset_index(), id_vars='index')"
   ]
  },
  {
   "cell_type": "code",
   "execution_count": 68,
   "metadata": {},
   "outputs": [],
   "source": [
    "melted_keywords.rename(columns={'index': 'keyword', 'variable': 'year', 'value': 'occurence (%)'}, inplace=True)"
   ]
  },
  {
   "cell_type": "code",
   "execution_count": 69,
   "metadata": {},
   "outputs": [
    {
     "data": {
      "text/html": [
       "<div>\n",
       "<style scoped>\n",
       "    .dataframe tbody tr th:only-of-type {\n",
       "        vertical-align: middle;\n",
       "    }\n",
       "\n",
       "    .dataframe tbody tr th {\n",
       "        vertical-align: top;\n",
       "    }\n",
       "\n",
       "    .dataframe thead th {\n",
       "        text-align: right;\n",
       "    }\n",
       "</style>\n",
       "<table border=\"1\" class=\"dataframe\">\n",
       "  <thead>\n",
       "    <tr style=\"text-align: right;\">\n",
       "      <th></th>\n",
       "      <th>keyword</th>\n",
       "      <th>year</th>\n",
       "      <th>occurence (%)</th>\n",
       "    </tr>\n",
       "  </thead>\n",
       "  <tbody>\n",
       "  </tbody>\n",
       "</table>\n",
       "</div>"
      ],
      "text/plain": [
       "Empty DataFrame\n",
       "Columns: [keyword, year, occurence (%)]\n",
       "Index: []"
      ]
     },
     "execution_count": 69,
     "metadata": {},
     "output_type": "execute_result"
    }
   ],
   "source": [
    "melted_keywords"
   ]
  },
  {
   "cell_type": "code",
   "execution_count": 70,
   "metadata": {},
   "outputs": [
    {
     "ename": "ValueError",
     "evalue": "min() arg is an empty sequence",
     "output_type": "error",
     "traceback": [
      "\u001b[0;31m---------------------------------------------------------------------------\u001b[0m",
      "\u001b[0;31mValueError\u001b[0m                                Traceback (most recent call last)",
      "\u001b[0;32m<ipython-input-70-a8e324c1704c>\u001b[0m in \u001b[0;36m<module>\u001b[0;34m()\u001b[0m\n\u001b[1;32m      1\u001b[0m \u001b[0mplt\u001b[0m\u001b[0;34m.\u001b[0m\u001b[0mfigure\u001b[0m\u001b[0;34m(\u001b[0m\u001b[0mfigsize\u001b[0m\u001b[0;34m=\u001b[0m\u001b[0;34m(\u001b[0m\u001b[0;36m10\u001b[0m\u001b[0;34m,\u001b[0m \u001b[0;36m10\u001b[0m\u001b[0;34m)\u001b[0m\u001b[0;34m)\u001b[0m\u001b[0;34m\u001b[0m\u001b[0m\n\u001b[0;32m----> 2\u001b[0;31m \u001b[0msns\u001b[0m\u001b[0;34m.\u001b[0m\u001b[0mcatplot\u001b[0m\u001b[0;34m(\u001b[0m\u001b[0mdata\u001b[0m\u001b[0;34m=\u001b[0m\u001b[0mmelted_keywords\u001b[0m\u001b[0;34m,\u001b[0m \u001b[0mx\u001b[0m\u001b[0;34m=\u001b[0m\u001b[0;34m'year'\u001b[0m\u001b[0;34m,\u001b[0m \u001b[0my\u001b[0m\u001b[0;34m=\u001b[0m\u001b[0;34m'occurence (%)'\u001b[0m\u001b[0;34m,\u001b[0m \u001b[0mhue\u001b[0m\u001b[0;34m=\u001b[0m\u001b[0;34m'keyword'\u001b[0m\u001b[0;34m,\u001b[0m \u001b[0mkind\u001b[0m\u001b[0;34m=\u001b[0m\u001b[0;34m'point'\u001b[0m\u001b[0;34m)\u001b[0m\u001b[0;34m\u001b[0m\u001b[0m\n\u001b[0m\u001b[1;32m      3\u001b[0m \u001b[0mplt\u001b[0m\u001b[0;34m.\u001b[0m\u001b[0mtitle\u001b[0m\u001b[0;34m(\u001b[0m\u001b[0;34m'popularity of recurring keywords over the years'\u001b[0m\u001b[0;34m)\u001b[0m\u001b[0;34m\u001b[0m\u001b[0m\n\u001b[1;32m      4\u001b[0m \u001b[0mplt\u001b[0m\u001b[0;34m.\u001b[0m\u001b[0mxticks\u001b[0m\u001b[0;34m(\u001b[0m\u001b[0mrotation\u001b[0m\u001b[0;34m=\u001b[0m\u001b[0;36m90\u001b[0m\u001b[0;34m)\u001b[0m\u001b[0;34m\u001b[0m\u001b[0m\n\u001b[1;32m      5\u001b[0m \u001b[0mplt\u001b[0m\u001b[0;34m.\u001b[0m\u001b[0mshow\u001b[0m\u001b[0;34m(\u001b[0m\u001b[0;34m)\u001b[0m\u001b[0;34m\u001b[0m\u001b[0m\n",
      "\u001b[0;32m/Users/zhenchensu/anaconda2/envs/ada/lib/python3.5/site-packages/seaborn/categorical.py\u001b[0m in \u001b[0;36mcatplot\u001b[0;34m(x, y, hue, data, row, col, col_wrap, estimator, ci, n_boot, units, order, hue_order, row_order, col_order, kind, height, aspect, orient, color, palette, legend, legend_out, sharex, sharey, margin_titles, facet_kws, **kwargs)\u001b[0m\n\u001b[1;32m   3722\u001b[0m     \u001b[0;31m# so we need to define ``palette`` to get default behavior for the\u001b[0m\u001b[0;34m\u001b[0m\u001b[0;34m\u001b[0m\u001b[0m\n\u001b[1;32m   3723\u001b[0m     \u001b[0;31m# categorical functions\u001b[0m\u001b[0;34m\u001b[0m\u001b[0;34m\u001b[0m\u001b[0m\n\u001b[0;32m-> 3724\u001b[0;31m     \u001b[0mp\u001b[0m\u001b[0;34m.\u001b[0m\u001b[0mestablish_colors\u001b[0m\u001b[0;34m(\u001b[0m\u001b[0mcolor\u001b[0m\u001b[0;34m,\u001b[0m \u001b[0mpalette\u001b[0m\u001b[0;34m,\u001b[0m \u001b[0;36m1\u001b[0m\u001b[0;34m)\u001b[0m\u001b[0;34m\u001b[0m\u001b[0m\n\u001b[0m\u001b[1;32m   3725\u001b[0m     \u001b[0;32mif\u001b[0m \u001b[0mkind\u001b[0m \u001b[0;34m!=\u001b[0m \u001b[0;34m\"point\"\u001b[0m \u001b[0;32mor\u001b[0m \u001b[0mhue\u001b[0m \u001b[0;32mis\u001b[0m \u001b[0;32mnot\u001b[0m \u001b[0;32mNone\u001b[0m\u001b[0;34m:\u001b[0m\u001b[0;34m\u001b[0m\u001b[0m\n\u001b[1;32m   3726\u001b[0m         \u001b[0mpalette\u001b[0m \u001b[0;34m=\u001b[0m \u001b[0mp\u001b[0m\u001b[0;34m.\u001b[0m\u001b[0mcolors\u001b[0m\u001b[0;34m\u001b[0m\u001b[0m\n",
      "\u001b[0;32m/Users/zhenchensu/anaconda2/envs/ada/lib/python3.5/site-packages/seaborn/categorical.py\u001b[0m in \u001b[0;36mestablish_colors\u001b[0;34m(self, color, palette, saturation)\u001b[0m\n\u001b[1;32m    313\u001b[0m         \u001b[0;31m# Determine the gray color to use for the lines framing the plot\u001b[0m\u001b[0;34m\u001b[0m\u001b[0;34m\u001b[0m\u001b[0m\n\u001b[1;32m    314\u001b[0m         \u001b[0mlight_vals\u001b[0m \u001b[0;34m=\u001b[0m \u001b[0;34m[\u001b[0m\u001b[0mcolorsys\u001b[0m\u001b[0;34m.\u001b[0m\u001b[0mrgb_to_hls\u001b[0m\u001b[0;34m(\u001b[0m\u001b[0;34m*\u001b[0m\u001b[0mc\u001b[0m\u001b[0;34m)\u001b[0m\u001b[0;34m[\u001b[0m\u001b[0;36m1\u001b[0m\u001b[0;34m]\u001b[0m \u001b[0;32mfor\u001b[0m \u001b[0mc\u001b[0m \u001b[0;32min\u001b[0m \u001b[0mrgb_colors\u001b[0m\u001b[0;34m]\u001b[0m\u001b[0;34m\u001b[0m\u001b[0m\n\u001b[0;32m--> 315\u001b[0;31m         \u001b[0mlum\u001b[0m \u001b[0;34m=\u001b[0m \u001b[0mmin\u001b[0m\u001b[0;34m(\u001b[0m\u001b[0mlight_vals\u001b[0m\u001b[0;34m)\u001b[0m \u001b[0;34m*\u001b[0m \u001b[0;36m.6\u001b[0m\u001b[0;34m\u001b[0m\u001b[0m\n\u001b[0m\u001b[1;32m    316\u001b[0m         \u001b[0mgray\u001b[0m \u001b[0;34m=\u001b[0m \u001b[0mmpl\u001b[0m\u001b[0;34m.\u001b[0m\u001b[0mcolors\u001b[0m\u001b[0;34m.\u001b[0m\u001b[0mrgb2hex\u001b[0m\u001b[0;34m(\u001b[0m\u001b[0;34m(\u001b[0m\u001b[0mlum\u001b[0m\u001b[0;34m,\u001b[0m \u001b[0mlum\u001b[0m\u001b[0;34m,\u001b[0m \u001b[0mlum\u001b[0m\u001b[0;34m)\u001b[0m\u001b[0;34m)\u001b[0m\u001b[0;34m\u001b[0m\u001b[0m\n\u001b[1;32m    317\u001b[0m \u001b[0;34m\u001b[0m\u001b[0m\n",
      "\u001b[0;31mValueError\u001b[0m: min() arg is an empty sequence"
     ]
    },
    {
     "data": {
      "text/plain": [
       "<Figure size 720x720 with 0 Axes>"
      ]
     },
     "metadata": {},
     "output_type": "display_data"
    }
   ],
   "source": [
    "plt.figure(figsize=(10, 10))\n",
    "sns.catplot(data=melted_keywords, x='year', y='occurence (%)', hue='keyword', kind='point')\n",
    "plt.title('popularity of recurring keywords over the years')\n",
    "plt.xticks(rotation=90)\n",
    "plt.show()"
   ]
  },
  {
   "cell_type": "code",
   "execution_count": null,
   "metadata": {},
   "outputs": [],
   "source": []
  }
 ],
 "metadata": {
  "kernelspec": {
   "display_name": "Python [conda env:ada]",
   "language": "python",
   "name": "conda-env-ada-py"
  },
  "language_info": {
   "codemirror_mode": {
    "name": "ipython",
    "version": 3
   },
   "file_extension": ".py",
   "mimetype": "text/x-python",
   "name": "python",
   "nbconvert_exporter": "python",
   "pygments_lexer": "ipython3",
   "version": "3.5.6"
  }
 },
 "nbformat": 4,
 "nbformat_minor": 2
}
