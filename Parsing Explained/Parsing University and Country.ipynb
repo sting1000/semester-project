{
 "cells": [
  {
   "cell_type": "code",
   "execution_count": 1,
   "metadata": {},
   "outputs": [],
   "source": [
    "import re\n",
    "import regex as reg\n",
    "import pandas as pd\n",
    "import os\n",
    "import sys\n",
    "import json\n",
    "import numpy as np\n",
    "%matplotlib inline\n",
    "USER_ENV = '../data/' \n",
    "rootdir = USER_ENV + 'papers/'"
   ]
  },
  {
   "cell_type": "markdown",
   "metadata": {},
   "source": [
    "In this notebook I will describe the extraction of information relating to the affiliation of the paper authors.\n",
    "To this means, I used the header section of each paper:"
   ]
  },
  {
   "cell_type": "code",
   "execution_count": 2,
   "metadata": {},
   "outputs": [],
   "source": [
    "#reads txt file of each paper and stores it in contents\n",
    "contents = []\n",
    "i = 0\n",
    "source = []\n",
    "for subdir, dirs, files in os.walk(rootdir):\n",
    "    for file in files:\n",
    "        if 'txt' in file:\n",
    "            source.append(file[:-4])\n",
    "            i += 1\n",
    "            path = os.path.join(subdir, file)\n",
    "            with open(path) as file:\n",
    "                try:\n",
    "                    text = file.read()\n",
    "                    contents.append(text)\n",
    "                except:\n",
    "                    #Will fails for some files in python 3 \n",
    "                    name, message, content = sys.exc_info()\n",
    "                    print(message)"
   ]
  },
  {
   "cell_type": "code",
   "execution_count": 3,
   "metadata": {},
   "outputs": [],
   "source": [
    "paper_text = pd.DataFrame([contents, source]).T.rename(columns={0:'text', 1:'file'})"
   ]
  },
  {
   "cell_type": "code",
   "execution_count": 4,
   "metadata": {},
   "outputs": [
    {
     "data": {
      "text/html": [
       "<div>\n",
       "<style scoped>\n",
       "    .dataframe tbody tr th:only-of-type {\n",
       "        vertical-align: middle;\n",
       "    }\n",
       "\n",
       "    .dataframe tbody tr th {\n",
       "        vertical-align: top;\n",
       "    }\n",
       "\n",
       "    .dataframe thead th {\n",
       "        text-align: right;\n",
       "    }\n",
       "</style>\n",
       "<table border=\"1\" class=\"dataframe\">\n",
       "  <thead>\n",
       "    <tr style=\"text-align: right;\">\n",
       "      <th></th>\n",
       "      <th>text</th>\n",
       "      <th>file</th>\n",
       "    </tr>\n",
       "  </thead>\n",
       "  <tbody>\n",
       "    <tr>\n",
       "      <th>0</th>\n",
       "      <td>Encountering and Becoming Role Models: Combati...</td>\n",
       "      <td>2018_14</td>\n",
       "    </tr>\n",
       "    <tr>\n",
       "      <th>1</th>\n",
       "      <td>Mobilities of Criticality: Space-Making, Ident...</td>\n",
       "      <td>2016_39</td>\n",
       "    </tr>\n",
       "    <tr>\n",
       "      <th>2</th>\n",
       "      <td>Redistributing Epistemic Agency: How Teachers ...</td>\n",
       "      <td>2018_28</td>\n",
       "    </tr>\n",
       "    <tr>\n",
       "      <th>3</th>\n",
       "      <td>Measuring Integrated Knowledge – A Network Ana...</td>\n",
       "      <td>2018_297</td>\n",
       "    </tr>\n",
       "    <tr>\n",
       "      <th>4</th>\n",
       "      <td>Rising Above? Implications of Complexity for T...</td>\n",
       "      <td>2018_283</td>\n",
       "    </tr>\n",
       "  </tbody>\n",
       "</table>\n",
       "</div>"
      ],
      "text/plain": [
       "                                                text      file\n",
       "0  Encountering and Becoming Role Models: Combati...   2018_14\n",
       "1  Mobilities of Criticality: Space-Making, Ident...   2016_39\n",
       "2  Redistributing Epistemic Agency: How Teachers ...   2018_28\n",
       "3  Measuring Integrated Knowledge – A Network Ana...  2018_297\n",
       "4  Rising Above? Implications of Complexity for T...  2018_283"
      ]
     },
     "execution_count": 4,
     "metadata": {},
     "output_type": "execute_result"
    }
   ],
   "source": [
    "paper_text.head()"
   ]
  },
  {
   "cell_type": "markdown",
   "metadata": {},
   "source": [
    "## Finding affiliation (University) using email:\n",
    "\n",
    "### Domain mapping:\n",
    "\n",
    "Importing the mapping from domain to university (and country!)"
   ]
  },
  {
   "cell_type": "code",
   "execution_count": 5,
   "metadata": {},
   "outputs": [],
   "source": [
    "schools = open(USER_ENV+'world_universities_and_domains.json').read()\n",
    "parsed_json = json.loads(schools)"
   ]
  },
  {
   "cell_type": "markdown",
   "metadata": {},
   "source": [
    "Number of schools in json"
   ]
  },
  {
   "cell_type": "code",
   "execution_count": 6,
   "metadata": {},
   "outputs": [
    {
     "data": {
      "text/plain": [
       "9691"
      ]
     },
     "execution_count": 6,
     "metadata": {},
     "output_type": "execute_result"
    }
   ],
   "source": [
    "len(parsed_json)"
   ]
  },
  {
   "cell_type": "markdown",
   "metadata": {},
   "source": [
    "#### Rational for using email vs extracting institution from text:\n",
    "- easier to parse from text\n",
    "- unique / more robust to spelling changes"
   ]
  },
  {
   "cell_type": "markdown",
   "metadata": {},
   "source": [
    "what is the maximal number of domains per school?"
   ]
  },
  {
   "cell_type": "code",
   "execution_count": 7,
   "metadata": {},
   "outputs": [
    {
     "name": "stdout",
     "output_type": "stream",
     "text": [
      "Maximal number of domains per school:  3\n"
     ]
    }
   ],
   "source": [
    "print('Maximal number of domains per school: ', max([len(j['domains']) for j in parsed_json]))"
   ]
  },
  {
   "cell_type": "code",
   "execution_count": 8,
   "metadata": {},
   "outputs": [],
   "source": [
    "#creating the mapping from domain to university\n",
    "mapping = {}\n",
    "#creating mapping from domain to country\n",
    "country_uni = {}\n",
    "for j in parsed_json:\n",
    "    mapping[j['domains'][0]] = j['name']\n",
    "    country_uni[j['domains'][0]] = j['country']\n",
    "    if len(j['domains']) > 1:\n",
    "        mapping[j['domains'][1]] = j['name']\n",
    "        country_uni[j['domains'][1]] = j['country']\n",
    "    if len(j['domains']) > 2:\n",
    "        mapping[j['domains'][2]] = j['name']\n",
    "        country_uni[j['domains'][2]] = j['country']"
   ]
  },
  {
   "cell_type": "markdown",
   "metadata": {},
   "source": [
    "We decided to add the following domains as they come up often and do not appear in the above dataset:"
   ]
  },
  {
   "cell_type": "code",
   "execution_count": 9,
   "metadata": {},
   "outputs": [],
   "source": [
    "#adding in the most common university names not in json\n",
    "mapping['nie.edu.sg'] = \"National Institute of Education (NIE), Singapore\"\n",
    "mapping['rub.de'] = \"Ruhr-University Bochum\"\n",
    "mapping['uni-due.de'] = \"Universität Duisburg-Essen\"\n",
    "mapping['collide.info'] = \"Universität Duisburg-Essen\"\n",
    "mapping['dawsoncollege.qc.ca'] = \"Dawson College\"\n",
    "mapping['dawsoncollege.ca'] = \"Dawson College\"\n",
    "mapping['johnabbott.qc.ca'] = \"John Abbott College\"\n",
    "mapping['johnabbott.ca'] = \"John Abbott College\"\n",
    "mapping['vaniercollege.qc.ca'] = 'Vanier Colleege'"
   ]
  },
  {
   "cell_type": "markdown",
   "metadata": {},
   "source": [
    "The following two functions are used to get the mapping for a given email and extract the email from text:"
   ]
  },
  {
   "cell_type": "code",
   "execution_count": 10,
   "metadata": {},
   "outputs": [],
   "source": [
    "def get_school_from_mail(mail, mapping):\n",
    "    \"\"\"Maps email to institution\"\"\"\n",
    "    if mail in mapping:\n",
    "        return mapping[mail], mail\n",
    "    elif reg.findall('[\\p{L}0-9\\-]*\\.[\\p{L}0-9\\-]*$', mail)[0] in mapping:\n",
    "        double = reg.findall('[\\p{L}0-9\\-]*\\.[\\p{L}0-9\\-]*$', mail)[0]\n",
    "        return mapping[double], double\n",
    "    else:\n",
    "        triplet = reg.findall('[\\p{L}0-9\\-]*\\.[\\p{L}0-9\\-]*\\.[\\p{L}0-9\\-]*$', mail)\n",
    "        if len(triplet) > 0 and triplet[0] in mapping:\n",
    "            return (mapping[triplet[0]], triplet[0])\n",
    "        else:\n",
    "            return np.nan, mail"
   ]
  },
  {
   "cell_type": "code",
   "execution_count": 11,
   "metadata": {},
   "outputs": [],
   "source": [
    "def find_emails(x):\n",
    "    text, file = x.text, x.file\n",
    "    abstract_pos = text.find('\\nAbstract')\n",
    "    \n",
    "    mails_in_paper = reg.findall('[\\p{L}0-9\\.\\-\\+\\_]*@[\\p{L}0-9\\.\\-]*\\.[\\p{L}0-9\\.\\-]*(?!\\S*\\:\\S*)', \n",
    "                                 text[:abstract_pos])\n",
    "    return [(file, get_school_from_mail(m.split('@')[1].lower(), mapping), m) for m in mails_in_paper]\n",
    "    "
   ]
  },
  {
   "cell_type": "code",
   "execution_count": 12,
   "metadata": {},
   "outputs": [],
   "source": [
    "paper_text = paper_text.dropna()"
   ]
  },
  {
   "cell_type": "code",
   "execution_count": 13,
   "metadata": {},
   "outputs": [],
   "source": [
    "emails = pd.DataFrame([ (email[0], email[1][0], email[1][1], email[2], i) \n",
    "              for paper in paper_text.apply(find_emails, axis=1).tolist() for i, email in enumerate(paper)]\n",
    "            , columns=['file', 'name', 'domain', 'email', 'author_order'])"
   ]
  },
  {
   "cell_type": "code",
   "execution_count": 14,
   "metadata": {},
   "outputs": [
    {
     "data": {
      "text/html": [
       "<div>\n",
       "<style scoped>\n",
       "    .dataframe tbody tr th:only-of-type {\n",
       "        vertical-align: middle;\n",
       "    }\n",
       "\n",
       "    .dataframe tbody tr th {\n",
       "        vertical-align: top;\n",
       "    }\n",
       "\n",
       "    .dataframe thead th {\n",
       "        text-align: right;\n",
       "    }\n",
       "</style>\n",
       "<table border=\"1\" class=\"dataframe\">\n",
       "  <thead>\n",
       "    <tr style=\"text-align: right;\">\n",
       "      <th></th>\n",
       "      <th>file</th>\n",
       "      <th>name</th>\n",
       "      <th>domain</th>\n",
       "      <th>email</th>\n",
       "      <th>author_order</th>\n",
       "    </tr>\n",
       "  </thead>\n",
       "  <tbody>\n",
       "    <tr>\n",
       "      <th>0</th>\n",
       "      <td>2018_14</td>\n",
       "      <td>University of Colorado at Boulder</td>\n",
       "      <td>colorado.edu</td>\n",
       "      <td>Lehi6796@Colorado.EDU</td>\n",
       "      <td>0</td>\n",
       "    </tr>\n",
       "    <tr>\n",
       "      <th>1</th>\n",
       "      <td>2016_39</td>\n",
       "      <td>Michigan State University</td>\n",
       "      <td>msu.edu</td>\n",
       "      <td>acb@msu.edu</td>\n",
       "      <td>0</td>\n",
       "    </tr>\n",
       "    <tr>\n",
       "      <th>2</th>\n",
       "      <td>2016_39</td>\n",
       "      <td>University of North Carolina at Greensboro</td>\n",
       "      <td>uncg.edu</td>\n",
       "      <td>e_tan@uncg.edu</td>\n",
       "      <td>1</td>\n",
       "    </tr>\n",
       "    <tr>\n",
       "      <th>3</th>\n",
       "      <td>2016_39</td>\n",
       "      <td>Michigan State University</td>\n",
       "      <td>msu.edu</td>\n",
       "      <td>shinmyu4@msu.edu</td>\n",
       "      <td>2</td>\n",
       "    </tr>\n",
       "    <tr>\n",
       "      <th>4</th>\n",
       "      <td>2018_28</td>\n",
       "      <td>University of Illinois at Chicago</td>\n",
       "      <td>uic.edu</td>\n",
       "      <td>mlko@uic.edu</td>\n",
       "      <td>0</td>\n",
       "    </tr>\n",
       "  </tbody>\n",
       "</table>\n",
       "</div>"
      ],
      "text/plain": [
       "      file                                        name        domain  \\\n",
       "0  2018_14           University of Colorado at Boulder  colorado.edu   \n",
       "1  2016_39                   Michigan State University       msu.edu   \n",
       "2  2016_39  University of North Carolina at Greensboro      uncg.edu   \n",
       "3  2016_39                   Michigan State University       msu.edu   \n",
       "4  2018_28           University of Illinois at Chicago       uic.edu   \n",
       "\n",
       "                   email  author_order  \n",
       "0  Lehi6796@Colorado.EDU             0  \n",
       "1            acb@msu.edu             0  \n",
       "2         e_tan@uncg.edu             1  \n",
       "3       shinmyu4@msu.edu             2  \n",
       "4           mlko@uic.edu             0  "
      ]
     },
     "execution_count": 14,
     "metadata": {},
     "output_type": "execute_result"
    }
   ],
   "source": [
    "emails.head()"
   ]
  },
  {
   "cell_type": "markdown",
   "metadata": {},
   "source": [
    "Number of files that could be parsed:"
   ]
  },
  {
   "cell_type": "code",
   "execution_count": 15,
   "metadata": {},
   "outputs": [
    {
     "name": "stdout",
     "output_type": "stream",
     "text": [
      "Papers from which we parse mails :  1109\n",
      "Total number of papers :  1125\n"
     ]
    }
   ],
   "source": [
    "print('Papers from which we parse mails : ', len(emails.file.unique()))\n",
    "print('Total number of papers : ', len(paper_text.file.unique()))"
   ]
  },
  {
   "cell_type": "markdown",
   "metadata": {},
   "source": [
    "Papers for which we can not find emails are papers that were not parsed propperly:"
   ]
  },
  {
   "cell_type": "code",
   "execution_count": 16,
   "metadata": {},
   "outputs": [
    {
     "data": {
      "text/plain": [
       "{'2014_1323-1331',\n",
       " '2014_1691-1691',\n",
       " '2014_1697-1697',\n",
       " '2014_1703-1703',\n",
       " '2014_1709-1708',\n",
       " '2014_1709-1709',\n",
       " '2016_146',\n",
       " '2016_91',\n",
       " '2016_92',\n",
       " '2016_93',\n",
       " '2016_94',\n",
       " '2016_95',\n",
       " '2016_96',\n",
       " '2016_97',\n",
       " '2016_98',\n",
       " '2018_246'}"
      ]
     },
     "execution_count": 16,
     "metadata": {},
     "output_type": "execute_result"
    }
   ],
   "source": [
    "bad_files = set(paper_text.file.tolist())- set(emails.file.tolist())\n",
    "bad_files"
   ]
  },
  {
   "cell_type": "code",
   "execution_count": 17,
   "metadata": {},
   "outputs": [
    {
     "data": {
      "text/plain": [
       "Series([], Name: text, dtype: object)"
      ]
     },
     "execution_count": 17,
     "metadata": {},
     "output_type": "execute_result"
    }
   ],
   "source": [
    "paper_text[paper_text.file == 'import2016full_91'].text"
   ]
  },
  {
   "cell_type": "code",
   "execution_count": 18,
   "metadata": {},
   "outputs": [],
   "source": [
    "# paper_text[paper_text.file == 'import2018_246'].text.tolist()[0][:200]"
   ]
  },
  {
   "cell_type": "markdown",
   "metadata": {},
   "source": [
    "We are unable to get the university for 1/5 of all emails:"
   ]
  },
  {
   "cell_type": "code",
   "execution_count": 19,
   "metadata": {},
   "outputs": [
    {
     "data": {
      "text/plain": [
       "0.1811311555338859"
      ]
     },
     "execution_count": 19,
     "metadata": {},
     "output_type": "execute_result"
    }
   ],
   "source": [
    "emails[emails['name'].isna()].shape[0]/emails.shape[0]"
   ]
  },
  {
   "cell_type": "code",
   "execution_count": 20,
   "metadata": {},
   "outputs": [
    {
     "data": {
      "text/plain": [
       "743"
      ]
     },
     "execution_count": 20,
     "metadata": {},
     "output_type": "execute_result"
    }
   ],
   "source": [
    "emails[emails['name'].isna()].shape[0]"
   ]
  },
  {
   "cell_type": "markdown",
   "metadata": {},
   "source": [
    "This is largely due to so many people using gmail"
   ]
  },
  {
   "cell_type": "code",
   "execution_count": 21,
   "metadata": {},
   "outputs": [
    {
     "data": {
      "text/plain": [
       "gmail.com      299\n",
       "sri.com         39\n",
       "concord.org     23\n",
       "iwm-kmrc.de     13\n",
       "ets.org         12\n",
       "Name: domain, dtype: int64"
      ]
     },
     "execution_count": 21,
     "metadata": {},
     "output_type": "execute_result"
    }
   ],
   "source": [
    "emails[emails['name'].isna()].domain.value_counts().head()"
   ]
  },
  {
   "cell_type": "markdown",
   "metadata": {},
   "source": [
    "### Adding the country to a person:"
   ]
  },
  {
   "cell_type": "markdown",
   "metadata": {},
   "source": [
    "First we can simply use the mapping that we had defined above:"
   ]
  },
  {
   "cell_type": "code",
   "execution_count": 22,
   "metadata": {},
   "outputs": [],
   "source": [
    "emails['country'] = emails.domain.map(country_uni)"
   ]
  },
  {
   "cell_type": "code",
   "execution_count": 23,
   "metadata": {},
   "outputs": [
    {
     "data": {
      "text/html": [
       "<div>\n",
       "<style scoped>\n",
       "    .dataframe tbody tr th:only-of-type {\n",
       "        vertical-align: middle;\n",
       "    }\n",
       "\n",
       "    .dataframe tbody tr th {\n",
       "        vertical-align: top;\n",
       "    }\n",
       "\n",
       "    .dataframe thead th {\n",
       "        text-align: right;\n",
       "    }\n",
       "</style>\n",
       "<table border=\"1\" class=\"dataframe\">\n",
       "  <thead>\n",
       "    <tr style=\"text-align: right;\">\n",
       "      <th></th>\n",
       "      <th>file</th>\n",
       "      <th>name</th>\n",
       "      <th>domain</th>\n",
       "      <th>email</th>\n",
       "      <th>author_order</th>\n",
       "      <th>country</th>\n",
       "    </tr>\n",
       "  </thead>\n",
       "  <tbody>\n",
       "    <tr>\n",
       "      <th>0</th>\n",
       "      <td>2018_14</td>\n",
       "      <td>University of Colorado at Boulder</td>\n",
       "      <td>colorado.edu</td>\n",
       "      <td>Lehi6796@Colorado.EDU</td>\n",
       "      <td>0</td>\n",
       "      <td>United States</td>\n",
       "    </tr>\n",
       "    <tr>\n",
       "      <th>1</th>\n",
       "      <td>2016_39</td>\n",
       "      <td>Michigan State University</td>\n",
       "      <td>msu.edu</td>\n",
       "      <td>acb@msu.edu</td>\n",
       "      <td>0</td>\n",
       "      <td>United States</td>\n",
       "    </tr>\n",
       "    <tr>\n",
       "      <th>2</th>\n",
       "      <td>2016_39</td>\n",
       "      <td>University of North Carolina at Greensboro</td>\n",
       "      <td>uncg.edu</td>\n",
       "      <td>e_tan@uncg.edu</td>\n",
       "      <td>1</td>\n",
       "      <td>United States</td>\n",
       "    </tr>\n",
       "    <tr>\n",
       "      <th>3</th>\n",
       "      <td>2016_39</td>\n",
       "      <td>Michigan State University</td>\n",
       "      <td>msu.edu</td>\n",
       "      <td>shinmyu4@msu.edu</td>\n",
       "      <td>2</td>\n",
       "      <td>United States</td>\n",
       "    </tr>\n",
       "    <tr>\n",
       "      <th>4</th>\n",
       "      <td>2018_28</td>\n",
       "      <td>University of Illinois at Chicago</td>\n",
       "      <td>uic.edu</td>\n",
       "      <td>mlko@uic.edu</td>\n",
       "      <td>0</td>\n",
       "      <td>United States</td>\n",
       "    </tr>\n",
       "  </tbody>\n",
       "</table>\n",
       "</div>"
      ],
      "text/plain": [
       "      file                                        name        domain  \\\n",
       "0  2018_14           University of Colorado at Boulder  colorado.edu   \n",
       "1  2016_39                   Michigan State University       msu.edu   \n",
       "2  2016_39  University of North Carolina at Greensboro      uncg.edu   \n",
       "3  2016_39                   Michigan State University       msu.edu   \n",
       "4  2018_28           University of Illinois at Chicago       uic.edu   \n",
       "\n",
       "                   email  author_order        country  \n",
       "0  Lehi6796@Colorado.EDU             0  United States  \n",
       "1            acb@msu.edu             0  United States  \n",
       "2         e_tan@uncg.edu             1  United States  \n",
       "3       shinmyu4@msu.edu             2  United States  \n",
       "4           mlko@uic.edu             0  United States  "
      ]
     },
     "execution_count": 23,
     "metadata": {},
     "output_type": "execute_result"
    }
   ],
   "source": [
    "emails.head()"
   ]
  },
  {
   "cell_type": "markdown",
   "metadata": {},
   "source": [
    "Number of people to whom we could not associate a country, same as number of peopel to which we could not associate a University:"
   ]
  },
  {
   "cell_type": "code",
   "execution_count": 24,
   "metadata": {},
   "outputs": [
    {
     "data": {
      "text/plain": [
       "916"
      ]
     },
     "execution_count": 24,
     "metadata": {},
     "output_type": "execute_result"
    }
   ],
   "source": [
    "emails.country.isna().sum()"
   ]
  },
  {
   "cell_type": "markdown",
   "metadata": {},
   "source": [
    "However we can still add the country based on the email by identifying Country Code Top-Level Domains:"
   ]
  },
  {
   "cell_type": "code",
   "execution_count": 25,
   "metadata": {},
   "outputs": [],
   "source": [
    "countries = open(USER_ENV+'/country-by-domain-tld.json').read()\n",
    "parsed_countries = json.loads(countries)"
   ]
  },
  {
   "cell_type": "code",
   "execution_count": 26,
   "metadata": {},
   "outputs": [
    {
     "data": {
      "text/plain": [
       "[{'country': 'Afghanistan', 'tld': '.af'},\n",
       " {'country': 'Albania', 'tld': '.al'},\n",
       " {'country': 'Algeria', 'tld': '.dz'}]"
      ]
     },
     "execution_count": 26,
     "metadata": {},
     "output_type": "execute_result"
    }
   ],
   "source": [
    "parsed_countries[:3]"
   ]
  },
  {
   "cell_type": "code",
   "execution_count": 27,
   "metadata": {},
   "outputs": [],
   "source": [
    "#reordering to define mapping\n",
    "parsed_countries = { parsed['tld']: parsed['country'] for parsed in parsed_countries}"
   ]
  },
  {
   "cell_type": "markdown",
   "metadata": {},
   "source": [
    "We see that some values are missing and add them to the mapping in:"
   ]
  },
  {
   "cell_type": "code",
   "execution_count": 28,
   "metadata": {},
   "outputs": [],
   "source": [
    "parsed_countries['.uk']= \"United Kingdom\"\n",
    "parsed_countries['.us']  = \"United States\""
   ]
  },
  {
   "cell_type": "markdown",
   "metadata": {},
   "source": [
    "The following regex will match the top level domain:"
   ]
  },
  {
   "cell_type": "code",
   "execution_count": 29,
   "metadata": {},
   "outputs": [],
   "source": [
    "match_domain = '(\\.[a-zA-Z0-9]*$)'"
   ]
  },
  {
   "cell_type": "code",
   "execution_count": 30,
   "metadata": {},
   "outputs": [
    {
     "data": {
      "text/plain": [
       "['.uk']"
      ]
     },
     "execution_count": 30,
     "metadata": {},
     "output_type": "execute_result"
    }
   ],
   "source": [
    "#example:\n",
    "re.findall(match_domain,'ahaha.ad.uk')"
   ]
  },
  {
   "cell_type": "code",
   "execution_count": 31,
   "metadata": {},
   "outputs": [],
   "source": [
    "#first extract top level domain, the use matching to assign country\n",
    "emails.loc[emails.country.isna(), 'country'] = emails[emails.country.isna()].domain.map(\n",
    "    lambda x: re.findall(match_domain,x)[0]).map(parsed_countries)"
   ]
  },
  {
   "cell_type": "markdown",
   "metadata": {},
   "source": [
    "We can give a country to a large number of authors that way, keeping in mind that many of them are gmail adresses"
   ]
  },
  {
   "cell_type": "code",
   "execution_count": 32,
   "metadata": {},
   "outputs": [
    {
     "data": {
      "text/plain": [
       "605"
      ]
     },
     "execution_count": 32,
     "metadata": {},
     "output_type": "execute_result"
    }
   ],
   "source": [
    "emails.country.isna().sum()"
   ]
  },
  {
   "cell_type": "code",
   "execution_count": 33,
   "metadata": {},
   "outputs": [
    {
     "data": {
      "text/plain": [
       "gmail.com       299\n",
       "sri.com          39\n",
       "concord.org      23\n",
       "collide.info     13\n",
       "ets.org          12\n",
       "Name: domain, dtype: int64"
      ]
     },
     "execution_count": 33,
     "metadata": {},
     "output_type": "execute_result"
    }
   ],
   "source": [
    "emails[emails.country.isna()].domain.value_counts().head()"
   ]
  },
  {
   "cell_type": "markdown",
   "metadata": {},
   "source": [
    "The unmatched domains are:"
   ]
  },
  {
   "cell_type": "code",
   "execution_count": 34,
   "metadata": {},
   "outputs": [
    {
     "data": {
      "text/plain": [
       ".com             400\n",
       ".org             120\n",
       ".edu              40\n",
       ".net              18\n",
       ".info             13\n",
       ".gov               7\n",
       ".ed                2\n",
       ".mil               1\n",
       ".cg                1\n",
       ".swiss             1\n",
       ".northwestern      1\n",
       ".college           1\n",
       "Name: domain, dtype: int64"
      ]
     },
     "execution_count": 34,
     "metadata": {},
     "output_type": "execute_result"
    }
   ],
   "source": [
    "emails[emails.country.isna()].domain.map(lambda x: re.findall(match_domain,x)[0]).value_counts()"
   ]
  },
  {
   "cell_type": "markdown",
   "metadata": {},
   "source": [
    "We can't say much about location from the remaining emails.\n",
    "\n",
    "As still a lot of mails are remaining, we use more fancy ways to parse:"
   ]
  },
  {
   "cell_type": "markdown",
   "metadata": {},
   "source": [
    "## Better email parsing using named entity detection: \n",
    "\n",
    "In this section we will use a complementary approach to extract more universities by using Name entitiy dectection and some clever heuristics.\n",
    "\n",
    "First defining the data to work with:"
   ]
  },
  {
   "cell_type": "code",
   "execution_count": 35,
   "metadata": {},
   "outputs": [],
   "source": [
    "#exclude bad files\n",
    "pre_abstract = paper_text[~paper_text.file.isin(bad_files)].copy()\n",
    "\n",
    "#only consider portion before abstract\n",
    "pre_abstract['text'] = pre_abstract.text.map(lambda paper: paper[:paper.find('\\nAbstract')])\n",
    "pre_abstract['file'] = paper_text.file.copy()"
   ]
  },
  {
   "cell_type": "code",
   "execution_count": 36,
   "metadata": {},
   "outputs": [
    {
     "data": {
      "text/html": [
       "<div>\n",
       "<style scoped>\n",
       "    .dataframe tbody tr th:only-of-type {\n",
       "        vertical-align: middle;\n",
       "    }\n",
       "\n",
       "    .dataframe tbody tr th {\n",
       "        vertical-align: top;\n",
       "    }\n",
       "\n",
       "    .dataframe thead th {\n",
       "        text-align: right;\n",
       "    }\n",
       "</style>\n",
       "<table border=\"1\" class=\"dataframe\">\n",
       "  <thead>\n",
       "    <tr style=\"text-align: right;\">\n",
       "      <th></th>\n",
       "      <th>text</th>\n",
       "      <th>file</th>\n",
       "    </tr>\n",
       "  </thead>\n",
       "  <tbody>\n",
       "    <tr>\n",
       "      <th>0</th>\n",
       "      <td>Encountering and Becoming Role Models: Combati...</td>\n",
       "      <td>2018_14</td>\n",
       "    </tr>\n",
       "    <tr>\n",
       "      <th>1</th>\n",
       "      <td>Mobilities of Criticality: Space-Making, Ident...</td>\n",
       "      <td>2016_39</td>\n",
       "    </tr>\n",
       "    <tr>\n",
       "      <th>2</th>\n",
       "      <td>Redistributing Epistemic Agency: How Teachers ...</td>\n",
       "      <td>2018_28</td>\n",
       "    </tr>\n",
       "    <tr>\n",
       "      <th>3</th>\n",
       "      <td>Measuring Integrated Knowledge – A Network Ana...</td>\n",
       "      <td>2018_297</td>\n",
       "    </tr>\n",
       "    <tr>\n",
       "      <th>4</th>\n",
       "      <td>Rising Above? Implications of Complexity for T...</td>\n",
       "      <td>2018_283</td>\n",
       "    </tr>\n",
       "  </tbody>\n",
       "</table>\n",
       "</div>"
      ],
      "text/plain": [
       "                                                text      file\n",
       "0  Encountering and Becoming Role Models: Combati...   2018_14\n",
       "1  Mobilities of Criticality: Space-Making, Ident...   2016_39\n",
       "2  Redistributing Epistemic Agency: How Teachers ...   2018_28\n",
       "3  Measuring Integrated Knowledge – A Network Ana...  2018_297\n",
       "4  Rising Above? Implications of Complexity for T...  2018_283"
      ]
     },
     "execution_count": 36,
     "metadata": {},
     "output_type": "execute_result"
    }
   ],
   "source": [
    "pre_abstract.head()"
   ]
  },
  {
   "cell_type": "markdown",
   "metadata": {},
   "source": [
    "First, we split up the pre-abstract string in order to get the different parts, names, emails, the associated organisation.\n",
    "\n",
    "As some universities have the following format (general location, precise location):\n",
    "`University of California, Berkely`\n",
    "We merge strings together if there are two subsequents segments of the string which contain a mention of a country or city. The GeoText library allows to do that. The library can not perfectly recoginize all location strings, but as it does not make calls to an external API we prefer it here. It is sufficient for this purpose:"
   ]
  },
  {
   "cell_type": "code",
   "execution_count": 37,
   "metadata": {},
   "outputs": [],
   "source": [
    "from geotext import GeoText\n",
    "\n",
    "def get_header_units(text):\n",
    "    x = [reg.sub('\\([\\w]*\\)' , '', i.strip()) for i in reg.split('\\n|\\,|/|;', text) if len(i.strip()) > 0]\n",
    "    for i, sentence in enumerate(x):\n",
    "        places = GeoText(sentence)\n",
    "        if (len(places.cities) > 0 and sentence == places.cities[0]) or \\\n",
    "        (len(places.countries) > 0 and sentence == places.countries[0]):\n",
    "            x[i-1] += ', '+sentence\n",
    "            x[i] = ''\n",
    "        if '@' in sentence:\n",
    "            x[i] = [mail.strip() for mail in sentence.split(' ') if '@' in mail][0]\n",
    "    return [i.strip() for i in x if len(i.strip()) > 0]"
   ]
  },
  {
   "cell_type": "code",
   "execution_count": 38,
   "metadata": {},
   "outputs": [],
   "source": [
    "pre_abstract['split_header'] = pre_abstract.text.map(get_header_units)"
   ]
  },
  {
   "cell_type": "markdown",
   "metadata": {},
   "source": [
    "to get a first idea what kind of words could help us identify universities we look at frequency counts in the string:"
   ]
  },
  {
   "cell_type": "code",
   "execution_count": 39,
   "metadata": {},
   "outputs": [],
   "source": [
    "def explore_data(x):\n",
    "    name = []\n",
    "    for i, sentence in enumerate(x):\n",
    "        if '@' in sentence:\n",
    "            if not '@' in x[i-1]:\n",
    "                name.append(x[i-1].split(' '))\n",
    "    return [i for x in name for i in x if (len(GeoText(i).cities) == 0 and len(GeoText(i).countries) == 0) or 'University' in i]\n",
    "\n",
    "Potential_universities = [i for x in pre_abstract.split_header.tolist() for i in explore_data(x)]"
   ]
  },
  {
   "cell_type": "code",
   "execution_count": 40,
   "metadata": {},
   "outputs": [
    {
     "data": {
      "text/plain": [
       "University      1870\n",
       "of              1201\n",
       "and              267\n",
       "State            194\n",
       "The              122\n",
       "at               107\n",
       "Institute         90\n",
       "College           85\n",
       "Pennsylvania      76\n",
       "Illinois          74\n",
       "Technology        70\n",
       "New               68\n",
       "Indiana           67\n",
       "USA               64\n",
       "California,       62\n",
       "Northwestern      60\n",
       "Stanford          52\n",
       "Education         50\n",
       "Hong              49\n",
       "Mellon            45\n",
       "dtype: int64"
      ]
     },
     "execution_count": 40,
     "metadata": {},
     "output_type": "execute_result"
    }
   ],
   "source": [
    "pd.Series(Potential_universities).value_counts().head(20)"
   ]
  },
  {
   "cell_type": "markdown",
   "metadata": {},
   "source": [
    "from this list we gathered the following list of words marking a string as an institution of some kind:"
   ]
  },
  {
   "cell_type": "code",
   "execution_count": 41,
   "metadata": {},
   "outputs": [],
   "source": [
    "Institutions = ['Universiteit', 'Università', 'Universität','University','Universidad', 'Institute',\n",
    "                'Instituto', 'College', 'Col·legi', 'École','Ecole', 'Center', 'Gimnasio', 'UniDistance', \n",
    "                'Gymnasium', 'School', 'Bundeswehr', 'Foundation', 'Department', 'Universidade', 'Google', 'Technion',\n",
    "               'Consortium', 'Faculty', 'CNRS', 'Ministry', 'Museum', 'Lab', 'Scuola', 'Hochschule', 'Université']\n",
    "\n",
    "match_institutions = '|'.join(Institutions+['Eureka']).lower()"
   ]
  },
  {
   "cell_type": "markdown",
   "metadata": {},
   "source": [
    "This list will be used later to refine our search and is not used uniquely to idenfity if a subsequence of a sentence is the university name or not. To find the whole list we manually went through the not so long list of potential universities\n",
    "    "
   ]
  },
  {
   "cell_type": "markdown",
   "metadata": {},
   "source": [
    "Instead we use spacy to tag certain entities (Named entity dectection). Spacy works reasonably well, but not well enough to just use it by itself, as it is is very error prone for the categories we use it for. It also labels asian names as organisations :(. To circumvent this we use regex to detect alternative entities and clean up string to increase the chances of a string getting labeled correctly:"
   ]
  },
  {
   "cell_type": "code",
   "execution_count": 42,
   "metadata": {},
   "outputs": [],
   "source": [
    "import spacy\n",
    "\n",
    "nlp = spacy.load('en_core_web_sm')\n",
    "\n",
    "def person_or_org(doc):\n",
    "    for ent in doc.ents:\n",
    "        if  ent.label_ == 'ORG':\n",
    "            return 'ORG'\n",
    "        if  ent.label_ == 'PERSON' and len(ent.text) < 50:\n",
    "            return 'PERSON'\n",
    "    return '?'"
   ]
  },
  {
   "cell_type": "markdown",
   "metadata": {},
   "source": [
    "We use the names from the metadata to identify people for when is person fails:"
   ]
  },
  {
   "cell_type": "code",
   "execution_count": 43,
   "metadata": {},
   "outputs": [],
   "source": [
    "metadata = pd.read_csv('../data/name_dict.csv', index_col=0, header=None)\n",
    "names = metadata[1].tolist()"
   ]
  },
  {
   "cell_type": "markdown",
   "metadata": {},
   "source": [
    "We normalize the unicode data to increase overlap so that characters that look the same are treated the same:"
   ]
  },
  {
   "cell_type": "code",
   "execution_count": 44,
   "metadata": {},
   "outputs": [],
   "source": [
    "import unicodedata"
   ]
  },
  {
   "cell_type": "code",
   "execution_count": 45,
   "metadata": {},
   "outputs": [],
   "source": [
    "def isname(names, x):\n",
    "    pot = []\n",
    "    for n in names:\n",
    "        y = set([i for i in reg.split(' |\\,|\\-', unicodedata.normalize('NFC', x)) if len(i) > 0])\n",
    "        name = set([i for i in reg.split(' |\\,|\\-', unicodedata.normalize('NFC', n)) if len(i) > 0])\n",
    "        if len(name.intersection(y)) > 1:\n",
    "            pot.append(n)\n",
    "    if len(pot) == 1:\n",
    "        return True\n",
    "    else:\n",
    "        return False"
   ]
  },
  {
   "cell_type": "code",
   "execution_count": 46,
   "metadata": {},
   "outputs": [],
   "source": [
    "unis = set(emails.name.dropna().unique()+['Ben-Gurion University of the Negev'])#set(pd.Series(list(mapping.values())).drop_duplicates().tolist())"
   ]
  },
  {
   "cell_type": "markdown",
   "metadata": {},
   "source": [
    "We create a tagger that tagges the first part of the emails:"
   ]
  },
  {
   "cell_type": "code",
   "execution_count": 47,
   "metadata": {},
   "outputs": [],
   "source": [
    "def tag_element(x):\n",
    "    #check if @ and . in x=> email (only @ is not sufficient)\n",
    "    if reg.search('@', x) and reg.search('\\.', x) :\n",
    "        return 'EMAIL'\n",
    "    \n",
    "    #do cheap operations first\n",
    "    if isname(set(names), x):\n",
    "        return 'PERSON'\n",
    "    if re.search(match_institutions, x):\n",
    "        return 'ORG'\n",
    "    if isname(unis, x):\n",
    "        return 'ORG'\n",
    "    \n",
    "    y = nlp(x)\n",
    "    return person_or_org(y)\n",
    "\n",
    "def tag_elements(sentence):\n",
    "    return [(i, tag_element(i)) for j, i in enumerate(sentence)]\n"
   ]
  },
  {
   "cell_type": "markdown",
   "metadata": {},
   "source": [
    "<span style='color:red'>Warning: this line takes forever to run</sapn>"
   ]
  },
  {
   "cell_type": "code",
   "execution_count": 48,
   "metadata": {},
   "outputs": [],
   "source": [
    "structure = pre_abstract.split_header.map(tag_elements)"
   ]
  },
  {
   "cell_type": "markdown",
   "metadata": {},
   "source": [
    "The following function is the used to extract emails and the corresponding institution.\n",
    "The idea behind the algoritms is that there are two ways the people and emails are listed. We decide what type of listing a paper used and extract email - association using this additonal knowledge: "
   ]
  },
  {
   "cell_type": "code",
   "execution_count": 49,
   "metadata": {},
   "outputs": [
    {
     "data": {
      "text/plain": [
       "[[('The Interactional Work of Configuring a Mathematical Object in a', 'ORG'),\n",
       "  ('Technology-Enabled Embodied Learning Environment', '?'),\n",
       "  ('Virginia J. Flood', 'PERSON'),\n",
       "  ('University of California, Berkeley', 'ORG'),\n",
       "  ('flood@berkeley.edu', 'EMAIL'),\n",
       "  ('Benedikt W. Harrer', 'PERSON'),\n",
       "  ('San José State University', 'ORG'),\n",
       "  ('benedikt.harrer@sjsu.edu', 'EMAIL'),\n",
       "  ('Dor Abrahamson', 'PERSON'),\n",
       "  ('University of California, Berkeley', 'ORG'),\n",
       "  ('dor@berkeley.edu', 'EMAIL')]]"
      ]
     },
     "execution_count": 49,
     "metadata": {},
     "output_type": "execute_result"
    }
   ],
   "source": [
    "structure.sample(1).tolist()"
   ]
  },
  {
   "cell_type": "markdown",
   "metadata": {},
   "source": [
    "Possible Combinations:\n",
    "\n",
    "1. PERSON '' ORG EMAIL\n",
    "2. PERSON PERSON () EMAIL EMAIL () ORG\n",
    "\n",
    "The function below identifies which type we are dealing with:"
   ]
  },
  {
   "cell_type": "code",
   "execution_count": 50,
   "metadata": {},
   "outputs": [],
   "source": [
    "def list_type_1(list_):\n",
    "    string = ''.join(list_)\n",
    "    return 'EMAILORG' in string or 'EMAILEMAIL' in string\n",
    "\n",
    "def list_type_2(list_):\n",
    "    string = ''.join(list_)\n",
    "    #second part handles missclassification\n",
    "    return 'ORG'+'EMAIL' in string or 'ORGORGEMAIL' in string or '?EMAIL' in string\n"
   ]
  },
  {
   "cell_type": "markdown",
   "metadata": {},
   "source": [
    "These two functions are then used to extract the corresponding mapping:"
   ]
  },
  {
   "cell_type": "code",
   "execution_count": 51,
   "metadata": {},
   "outputs": [],
   "source": [
    "def email_org_mapping(tagged):\n",
    "    mapping = {}\n",
    "    mail_before_org = []\n",
    "    org = ''\n",
    "    for index, (text, tag) in enumerate(tagged):\n",
    "        if tag == 'EMAIL':\n",
    "            mail_before_org.append(text)\n",
    "        if tag == 'ORG' or tag=='?' and len(mail_before_org) > 0:\n",
    "            org += text\n",
    "            \n",
    "            if not (index+1 < len(tagged) and tagged[index+1][1] == 'ORG'):\n",
    "                for mail in mail_before_org:\n",
    "                    mapping[mail] = text\n",
    "                mail_before_org = []\n",
    "                org = ''\n",
    "    return mapping"
   ]
  },
  {
   "cell_type": "code",
   "execution_count": 52,
   "metadata": {},
   "outputs": [],
   "source": [
    "def org_email_mapping(tagged):\n",
    "    mapping = {}\n",
    "    for index, (text, tag) in enumerate(tagged):\n",
    "\n",
    "        if tag == 'EMAIL' and tagged[index-1][1] == 'ORG':\n",
    "            org = ''\n",
    "            if tagged[index-2][1] == 'ORG':\n",
    "                org = tagged[index-2][0] + ', ' \n",
    "            \n",
    "            mapping.update({text: org+tagged[index-1][0]})\n",
    "\n",
    "    return mapping"
   ]
  },
  {
   "cell_type": "code",
   "execution_count": 53,
   "metadata": {},
   "outputs": [],
   "source": [
    "mail_uni_1 = {}\n",
    "\n",
    "_ = structure[structure.map(lambda x: [i for j, i in x]).map(list_type_1)].map(email_org_mapping\n",
    "                                                                             ).map(lambda x: mail_uni_1.update(x))\n",
    "mail_uni_2 = {}\n",
    "_ = structure[structure.map(lambda x: [i for j, i in x]).map(list_type_2)].map(org_email_mapping\n",
    "                                                                                 ).map(lambda x: mail_uni_2.update(x) if x else False)"
   ]
  },
  {
   "cell_type": "markdown",
   "metadata": {},
   "source": [
    "Finally we only have few mails for which we do not find an assoc."
   ]
  },
  {
   "cell_type": "code",
   "execution_count": 54,
   "metadata": {},
   "outputs": [
    {
     "data": {
      "text/plain": [
       "2106"
      ]
     },
     "execution_count": 54,
     "metadata": {},
     "output_type": "execute_result"
    }
   ],
   "source": [
    "emails.email.map(mail_uni_1).isna().sum()"
   ]
  },
  {
   "cell_type": "code",
   "execution_count": 55,
   "metadata": {},
   "outputs": [
    {
     "data": {
      "text/plain": [
       "1211"
      ]
     },
     "execution_count": 55,
     "metadata": {},
     "output_type": "execute_result"
    }
   ],
   "source": [
    "emails.email.map(mail_uni_2).isna().sum()"
   ]
  },
  {
   "cell_type": "code",
   "execution_count": 56,
   "metadata": {},
   "outputs": [],
   "source": [
    "emails['alternate_uni'] = emails.email.map(mail_uni_1)"
   ]
  },
  {
   "cell_type": "code",
   "execution_count": 57,
   "metadata": {},
   "outputs": [],
   "source": [
    "emails.loc[emails.alternate_uni.isna(), 'alternate_uni'] = emails.email.map(mail_uni_2)"
   ]
  },
  {
   "cell_type": "markdown",
   "metadata": {},
   "source": [
    "people for which we don't have an association through either method:"
   ]
  },
  {
   "cell_type": "code",
   "execution_count": 58,
   "metadata": {},
   "outputs": [
    {
     "data": {
      "text/plain": [
       "158"
      ]
     },
     "execution_count": 58,
     "metadata": {},
     "output_type": "execute_result"
    }
   ],
   "source": [
    "emails[(emails.name.isna()) & (emails.alternate_uni.isna())].shape[0]"
   ]
  },
  {
   "cell_type": "markdown",
   "metadata": {},
   "source": [
    "So less than 5% goes unmapped!"
   ]
  },
  {
   "cell_type": "code",
   "execution_count": 59,
   "metadata": {},
   "outputs": [
    {
     "data": {
      "text/plain": [
       "0.058453570107288196"
      ]
     },
     "execution_count": 59,
     "metadata": {},
     "output_type": "execute_result"
    }
   ],
   "source": [
    "emails[(emails.name.isna()) & (emails.alternate_uni.isna())].shape[0]/emails.email.drop_duplicates().shape[0]"
   ]
  },
  {
   "cell_type": "markdown",
   "metadata": {},
   "source": [
    "additionaly, we could also find the names using this! as we tag person aswell"
   ]
  },
  {
   "cell_type": "markdown",
   "metadata": {},
   "source": [
    "### Now we unify the university namings:"
   ]
  },
  {
   "cell_type": "markdown",
   "metadata": {},
   "source": [
    "We use the overlap between the mapping we found using the first method and the second method to get them the same name:"
   ]
  },
  {
   "cell_type": "code",
   "execution_count": 60,
   "metadata": {},
   "outputs": [],
   "source": [
    "uni_unification = {}\n",
    "for i, row in emails[emails.alternate_uni.notna() &(emails.name.notna())][['name', 'alternate_uni']].iterrows():\n",
    "    if row.alternate_uni != row['name']:\n",
    "        uni_unification[row.alternate_uni] = row['name']"
   ]
  },
  {
   "cell_type": "code",
   "execution_count": 61,
   "metadata": {},
   "outputs": [],
   "source": [
    "emails['fixed_uni'] = emails.alternate_uni.map(uni_unification)"
   ]
  },
  {
   "cell_type": "code",
   "execution_count": 62,
   "metadata": {},
   "outputs": [],
   "source": [
    "emails.loc[emails.name.isna() & emails.fixed_uni.notna(), 'name'] = emails.fixed_uni"
   ]
  },
  {
   "cell_type": "code",
   "execution_count": 63,
   "metadata": {},
   "outputs": [],
   "source": [
    "emails.loc[emails.name.isna() & emails.alternate_uni.notna(), 'name'] = emails.alternate_uni"
   ]
  },
  {
   "cell_type": "code",
   "execution_count": 64,
   "metadata": {},
   "outputs": [],
   "source": [
    "del emails['alternate_uni'], emails['fixed_uni']"
   ]
  },
  {
   "cell_type": "markdown",
   "metadata": {},
   "source": [
    "These are the mails that are still missing. The issue with these two is due to the useage of `and`. Two isn't that bad so we ignore them for now."
   ]
  },
  {
   "cell_type": "code",
   "execution_count": 65,
   "metadata": {},
   "outputs": [
    {
     "data": {
      "text/html": [
       "<div>\n",
       "<style scoped>\n",
       "    .dataframe tbody tr th:only-of-type {\n",
       "        vertical-align: middle;\n",
       "    }\n",
       "\n",
       "    .dataframe tbody tr th {\n",
       "        vertical-align: top;\n",
       "    }\n",
       "\n",
       "    .dataframe thead th {\n",
       "        text-align: right;\n",
       "    }\n",
       "</style>\n",
       "<table border=\"1\" class=\"dataframe\">\n",
       "  <thead>\n",
       "    <tr style=\"text-align: right;\">\n",
       "      <th></th>\n",
       "      <th>file</th>\n",
       "      <th>name</th>\n",
       "      <th>domain</th>\n",
       "      <th>email</th>\n",
       "      <th>author_order</th>\n",
       "      <th>country</th>\n",
       "    </tr>\n",
       "  </thead>\n",
       "  <tbody>\n",
       "    <tr>\n",
       "      <th>38</th>\n",
       "      <td>2018_268</td>\n",
       "      <td>NaN</td>\n",
       "      <td>gmail.com</td>\n",
       "      <td>kerriwingert@gmail.com</td>\n",
       "      <td>16</td>\n",
       "      <td>NaN</td>\n",
       "    </tr>\n",
       "    <tr>\n",
       "      <th>64</th>\n",
       "      <td>2014_1481-1482</td>\n",
       "      <td>NaN</td>\n",
       "      <td>ets.org</td>\n",
       "      <td>gtjackson@ets.org</td>\n",
       "      <td>1</td>\n",
       "      <td>NaN</td>\n",
       "    </tr>\n",
       "    <tr>\n",
       "      <th>119</th>\n",
       "      <td>2014_863-870</td>\n",
       "      <td>NaN</td>\n",
       "      <td>gmail.com</td>\n",
       "      <td>tamarrf@gmail.com</td>\n",
       "      <td>0</td>\n",
       "      <td>NaN</td>\n",
       "    </tr>\n",
       "    <tr>\n",
       "      <th>208</th>\n",
       "      <td>2017_78</td>\n",
       "      <td>NaN</td>\n",
       "      <td>unibw.de</td>\n",
       "      <td>yvonne.serafin@unibw.de</td>\n",
       "      <td>1</td>\n",
       "      <td>Germany</td>\n",
       "    </tr>\n",
       "    <tr>\n",
       "      <th>365</th>\n",
       "      <td>2014_1631-1632</td>\n",
       "      <td>NaN</td>\n",
       "      <td>mathforum.org</td>\n",
       "      <td>valerie@mathforum.org</td>\n",
       "      <td>1</td>\n",
       "      <td>NaN</td>\n",
       "    </tr>\n",
       "  </tbody>\n",
       "</table>\n",
       "</div>"
      ],
      "text/plain": [
       "               file name         domain                    email  \\\n",
       "38         2018_268  NaN      gmail.com   kerriwingert@gmail.com   \n",
       "64   2014_1481-1482  NaN        ets.org        gtjackson@ets.org   \n",
       "119    2014_863-870  NaN      gmail.com        tamarrf@gmail.com   \n",
       "208         2017_78  NaN       unibw.de  yvonne.serafin@unibw.de   \n",
       "365  2014_1631-1632  NaN  mathforum.org    valerie@mathforum.org   \n",
       "\n",
       "     author_order  country  \n",
       "38             16      NaN  \n",
       "64              1      NaN  \n",
       "119             0      NaN  \n",
       "208             1  Germany  \n",
       "365             1      NaN  "
      ]
     },
     "execution_count": 65,
     "metadata": {},
     "output_type": "execute_result"
    }
   ],
   "source": [
    "emails.loc[emails.name.isna()].head()"
   ]
  },
  {
   "cell_type": "markdown",
   "metadata": {},
   "source": [
    "### Now fix the country aswell now that we have uni:"
   ]
  },
  {
   "cell_type": "code",
   "execution_count": 66,
   "metadata": {},
   "outputs": [],
   "source": [
    "country_matching = {}\n",
    "for i, row in emails[emails.country.notna()].iterrows():\n",
    "    country_matching[row['name']] = row.country"
   ]
  },
  {
   "cell_type": "code",
   "execution_count": 67,
   "metadata": {},
   "outputs": [],
   "source": [
    "emails.loc[emails.country.isna(), 'country'] = emails.name.map(country_matching)"
   ]
  },
  {
   "cell_type": "markdown",
   "metadata": {},
   "source": [
    "We still have a lot of non matching unis, we will fix this while we get the longitude and latitude of each location:"
   ]
  },
  {
   "cell_type": "code",
   "execution_count": 68,
   "metadata": {},
   "outputs": [
    {
     "data": {
      "text/plain": [
       "150"
      ]
     },
     "execution_count": 68,
     "metadata": {},
     "output_type": "execute_result"
    }
   ],
   "source": [
    "emails.loc[emails.country.isna()].shape[0]"
   ]
  },
  {
   "cell_type": "code",
   "execution_count": 69,
   "metadata": {},
   "outputs": [
    {
     "data": {
      "text/html": [
       "<div>\n",
       "<style scoped>\n",
       "    .dataframe tbody tr th:only-of-type {\n",
       "        vertical-align: middle;\n",
       "    }\n",
       "\n",
       "    .dataframe tbody tr th {\n",
       "        vertical-align: top;\n",
       "    }\n",
       "\n",
       "    .dataframe thead th {\n",
       "        text-align: right;\n",
       "    }\n",
       "</style>\n",
       "<table border=\"1\" class=\"dataframe\">\n",
       "  <thead>\n",
       "    <tr style=\"text-align: right;\">\n",
       "      <th></th>\n",
       "      <th>file</th>\n",
       "      <th>name</th>\n",
       "      <th>domain</th>\n",
       "      <th>email</th>\n",
       "      <th>author_order</th>\n",
       "      <th>country</th>\n",
       "    </tr>\n",
       "  </thead>\n",
       "  <tbody>\n",
       "    <tr>\n",
       "      <th>27</th>\n",
       "      <td>2018_268</td>\n",
       "      <td>SRI International, SRI International</td>\n",
       "      <td>sri.com</td>\n",
       "      <td>maggie.alozie@sri.com</td>\n",
       "      <td>5</td>\n",
       "      <td>NaN</td>\n",
       "    </tr>\n",
       "    <tr>\n",
       "      <th>82</th>\n",
       "      <td>2017_6</td>\n",
       "      <td>Faculty of Education, Beijing Normal University</td>\n",
       "      <td>163.com</td>\n",
       "      <td>wangqi.20080906@163.com</td>\n",
       "      <td>1</td>\n",
       "      <td>NaN</td>\n",
       "    </tr>\n",
       "    <tr>\n",
       "      <th>109</th>\n",
       "      <td>2017_86</td>\n",
       "      <td>Soka University</td>\n",
       "      <td>umegumi.net</td>\n",
       "      <td>funaoi@umegumi.net</td>\n",
       "      <td>4</td>\n",
       "      <td>NaN</td>\n",
       "    </tr>\n",
       "    <tr>\n",
       "      <th>110</th>\n",
       "      <td>2017_86</td>\n",
       "      <td>Utsunomiya University</td>\n",
       "      <td>kubota-lab.net</td>\n",
       "      <td>kubota@kubota-lab.net</td>\n",
       "      <td>5</td>\n",
       "      <td>NaN</td>\n",
       "    </tr>\n",
       "    <tr>\n",
       "      <th>111</th>\n",
       "      <td>2017_86</td>\n",
       "      <td>Ibaraki University</td>\n",
       "      <td>suzuki-lab.net</td>\n",
       "      <td>hideyuki@suzuki-lab.net</td>\n",
       "      <td>6</td>\n",
       "      <td>NaN</td>\n",
       "    </tr>\n",
       "  </tbody>\n",
       "</table>\n",
       "</div>"
      ],
      "text/plain": [
       "         file                                             name  \\\n",
       "27   2018_268             SRI International, SRI International   \n",
       "82     2017_6  Faculty of Education, Beijing Normal University   \n",
       "109   2017_86                                  Soka University   \n",
       "110   2017_86                            Utsunomiya University   \n",
       "111   2017_86                               Ibaraki University   \n",
       "\n",
       "             domain                    email  author_order country  \n",
       "27          sri.com    maggie.alozie@sri.com             5     NaN  \n",
       "82          163.com  wangqi.20080906@163.com             1     NaN  \n",
       "109     umegumi.net       funaoi@umegumi.net             4     NaN  \n",
       "110  kubota-lab.net    kubota@kubota-lab.net             5     NaN  \n",
       "111  suzuki-lab.net  hideyuki@suzuki-lab.net             6     NaN  "
      ]
     },
     "execution_count": 69,
     "metadata": {},
     "output_type": "execute_result"
    }
   ],
   "source": [
    "emails.loc[emails.country.isna()].head()"
   ]
  },
  {
   "cell_type": "markdown",
   "metadata": {},
   "source": [
    "## Using external sources to complete the dataset:\n",
    "\n",
    "First we use wikipedia as it does not have a limit on how many requests we can make"
   ]
  },
  {
   "cell_type": "code",
   "execution_count": 70,
   "metadata": {},
   "outputs": [],
   "source": [
    "Full_uni = emails.name.dropna().unique()"
   ]
  },
  {
   "cell_type": "code",
   "execution_count": 71,
   "metadata": {},
   "outputs": [],
   "source": [
    "import urllib3\n",
    "from bs4 import BeautifulSoup\n",
    "urllib3.disable_warnings()\n",
    "from urllib.parse import quote "
   ]
  },
  {
   "cell_type": "code",
   "execution_count": 72,
   "metadata": {},
   "outputs": [],
   "source": [
    "def parse_response(data):\n",
    "    soup = BeautifulSoup(data, 'html.parser')\n",
    "    #check if it contains geodata\n",
    "    if soup.find_all('span', class_='latitude'):\n",
    "        lat = soup.find_all('span', class_='latitude')[0].get_text()\n",
    "        lon = soup.find_all('span', class_='longitude')[0].get_text()\n",
    "        country = ''\n",
    "        #check if it countains country info\n",
    "        if len(soup.find_all('div', class_='country-name')) > 0:\n",
    "            country = soup.find_all('div', class_='country-name')[0].get_text()\n",
    "        return ((lat +' ; '+lon), country)\n",
    "\n",
    "    return None, None"
   ]
  },
  {
   "cell_type": "code",
   "execution_count": 73,
   "metadata": {},
   "outputs": [],
   "source": [
    "def find_location(uni):\n",
    "    \n",
    "    #preprocessing the string\n",
    "    u = [i for i in re.split('-|\\.|\\,|-|and|\\/|,', uni) if reg.search(match_institutions, i.lower())]\n",
    "    took_last = False\n",
    "    if len(u) == 1:\n",
    "        u =u[0]\n",
    "    if len(u) == 2:\n",
    "        took_last = True\n",
    "        u =u[1]\n",
    "        u_ = u[0]\n",
    "\n",
    "    else:\n",
    "        u= uni\n",
    "    if ' - ' in u:\n",
    "        u = reg.split(' - ', u)[0]\n",
    "    u = u.replace('The', '').replace(' at ',' ')\n",
    "        \n",
    "    #url with which we will query to find location\n",
    "    url =u'https://en.wikipedia.org/wiki/'+quote(u)\n",
    "    http_pool = urllib3.connection_from_url(url)\n",
    "    r = http_pool.urlopen('GET',url)\n",
    "    #check if website exists\n",
    "    if r.status == 200:\n",
    "        data = r.data\n",
    "        long_lat, country = parse_response(data)\n",
    "        if long_lat:\n",
    "            return (long_lat, country)\n",
    "    #trying alternative sites\n",
    "    if took_last:\n",
    "        url =u'https://en.wikipedia.org/wiki/'+quote(u_)\n",
    "        http_pool = urllib3.connection_from_url(url)\n",
    "        r = http_pool.urlopen('GET',url)\n",
    "        if r.status == 200:\n",
    "            data = r.data\n",
    "            long_lat, country = parse_response(data)\n",
    "            if long_lat:\n",
    "                return (long_lat, country)\n",
    "        \n",
    "    url =u'https://de.wikipedia.org/wiki/'+quote(u)\n",
    "    http_pool = urllib3.connection_from_url(url)\n",
    "    r = http_pool.urlopen('GET',url)\n",
    "    if r.status == 200:\n",
    "        data = r.data\n",
    "        long_lat, country = parse_response(data)\n",
    "        if long_lat:\n",
    "            return (long_lat, country)\n",
    "\n",
    "    #try spanish version\n",
    "    url =u'https://es.wikipedia.org/wiki/'+quote(u)\n",
    "    http_pool = urllib3.connection_from_url(url)\n",
    "    r = http_pool.urlopen('GET',url)\n",
    "    if r.status == 200:\n",
    "        data = r.data\n",
    "        long_lat, country = parse_response(data)\n",
    "        if long_lat:\n",
    "            return (long_lat, country)\n",
    "    return (None, None)"
   ]
  },
  {
   "cell_type": "code",
   "execution_count": 74,
   "metadata": {},
   "outputs": [],
   "source": [
    "location = []\n",
    "n_found = [] #saves names for which we do not find a matching\n",
    "\n",
    "for uni in Full_uni:\n",
    "    #Only use the first part of university name, removing specifications\n",
    "    #u = reg.search('([\\p{L}\\ \\'\\-\\.\\&]*)', uni).group(0).strip()\n",
    "    long_lat, country = find_location(uni)\n",
    "    if long_lat:\n",
    "        location.append((uni, long_lat, country))\n",
    "    else:\n",
    "        n_found.append((uni))\n",
    "            \n",
    "    #list of universities for which we can not find a location\n",
    "\n",
    "   # n_found.append((uni, u))"
   ]
  },
  {
   "cell_type": "code",
   "execution_count": 75,
   "metadata": {},
   "outputs": [
    {
     "data": {
      "text/plain": [
       "108"
      ]
     },
     "execution_count": 75,
     "metadata": {},
     "output_type": "execute_result"
    }
   ],
   "source": [
    "len(n_found)"
   ]
  },
  {
   "cell_type": "code",
   "execution_count": 76,
   "metadata": {},
   "outputs": [
    {
     "data": {
      "text/plain": [
       "336"
      ]
     },
     "execution_count": 76,
     "metadata": {},
     "output_type": "execute_result"
    }
   ],
   "source": [
    "len(location)"
   ]
  },
  {
   "cell_type": "code",
   "execution_count": 77,
   "metadata": {},
   "outputs": [],
   "source": [
    "def convert_long_lat(x):\n",
    "    latitude, longitude = x[0], x[1]\n",
    "    if not ('N' in latitude or 'S' in latitude):\n",
    "        return x\n",
    "    latitude = latitude.replace('°', '-').replace('″', '').replace('′', '-').strip()\n",
    "    longitude = longitude.replace('°', '-').replace('″', '').replace('′', '-').strip()\n",
    "    try:\n",
    "        N = 'N' in latitude\n",
    "        d, m, s = map(float, latitude[:-1].split('-'))\n",
    "        latitude = (d + m / 60. + s / 3600.) * (1 if N else -1)\n",
    "        W = 'W' in longitude\n",
    "        d, m, s = map(float, longitude[:-1].split('-'))\n",
    "        longitude = (d + m / 60. + s / 3600.) * (-1 if W else 1)\n",
    "        return [latitude, longitude]\n",
    "    except:\n",
    "        s= 0\n",
    "        N = 'N' in latitude\n",
    "        d, m = map(float, latitude[:-2].split('-'))\n",
    "        latitude = (d + m / 60. + s / 3600.) * (1 if N else -1)\n",
    "        W = 'W' in longitude\n",
    "        d, m = map(float, longitude[:-2].split('-'))\n",
    "        longitude = (d + m / 60. + s / 3600.) * (-1 if W else 1)\n",
    "        return [latitude, longitude]\n",
    "    \n",
    "    "
   ]
  },
  {
   "cell_type": "markdown",
   "metadata": {},
   "source": [
    "Put the locations in a dataframe and extract longitude and latitude separately:"
   ]
  },
  {
   "cell_type": "code",
   "execution_count": 78,
   "metadata": {},
   "outputs": [],
   "source": [
    "location_uni = pd.DataFrame(location, columns=['University', 'Location', 'Country'])\n",
    "\n",
    "location_uni.Location = location_uni.Location.map(lambda x: x.split(';'))\n",
    "\n",
    "location_uni['Location'] = location_uni.Location.map(convert_long_lat)\n",
    "location_uni['Lat'] = location_uni.Location.map(lambda x: float(x[0]))\n",
    "location_uni['Lon'] = location_uni.Location.map(lambda x: float(x[1]))\n",
    "\n",
    "del location_uni['Location']"
   ]
  },
  {
   "cell_type": "markdown",
   "metadata": {},
   "source": [
    "Make countries we got from wikipedia more uniform & extract country substring"
   ]
  },
  {
   "cell_type": "code",
   "execution_count": 79,
   "metadata": {},
   "outputs": [],
   "source": [
    "location_uni.Country = location_uni.Country.map(lambda x: 'United States' if \n",
    "                                                ('U.S.' in x) or ('US' in x) else 'United Kingdom' if 'UK' in x else x)\n",
    "location_uni.Country = location_uni.Country.map(lambda x: GeoText(x).countries\n",
    "                                               ).map(lambda x: x[0] if len(x) else None)\n",
    "\n"
   ]
  },
  {
   "cell_type": "markdown",
   "metadata": {},
   "source": [
    "Quickly plotting to check whether longitude and latitude are correct:"
   ]
  },
  {
   "cell_type": "code",
   "execution_count": 80,
   "metadata": {},
   "outputs": [
    {
     "data": {
      "text/plain": [
       "<matplotlib.collections.PathCollection at 0x12dc985c0>"
      ]
     },
     "execution_count": 80,
     "metadata": {},
     "output_type": "execute_result"
    },
    {
     "data": {
      "image/png": "[encoded data removed]",
      "text/plain": [
       "<Figure size 1080x504 with 1 Axes>"
      ]
     },
     "metadata": {
      "needs_background": "light"
     },
     "output_type": "display_data"
    }
   ],
   "source": [
    "import matplotlib.pyplot as plt\n",
    "\n",
    "plt.figure(figsize=(15, 7))\n",
    "plt.scatter(location_uni['Lon'],  location_uni['Lat'])"
   ]
  },
  {
   "cell_type": "markdown",
   "metadata": {},
   "source": [
    "Fix error from wikipedia:"
   ]
  },
  {
   "cell_type": "code",
   "execution_count": 81,
   "metadata": {},
   "outputs": [],
   "source": [
    "location_uni.loc[location_uni.University == 'McGill University', 'Lat'] = 45.5051283\n",
    "location_uni.loc[location_uni.University == 'McGill University', 'Lon'] = -73.5820428"
   ]
  },
  {
   "cell_type": "code",
   "execution_count": 82,
   "metadata": {},
   "outputs": [
    {
     "data": {
      "text/plain": [
       "<matplotlib.collections.PathCollection at 0x12d95dac8>"
      ]
     },
     "execution_count": 82,
     "metadata": {},
     "output_type": "execute_result"
    },
    {
     "data": {
      "image/png": "[encoded data removed]",
      "text/plain": [
       "<Figure size 1080x504 with 1 Axes>"
      ]
     },
     "metadata": {
      "needs_background": "light"
     },
     "output_type": "display_data"
    }
   ],
   "source": [
    "import matplotlib.pyplot as plt\n",
    "\n",
    "plt.figure(figsize=(15, 7))\n",
    "plt.scatter(location_uni['Lon'],  location_uni['Lat'])"
   ]
  },
  {
   "cell_type": "markdown",
   "metadata": {},
   "source": [
    "However, we still have 132 unfound locations!!"
   ]
  },
  {
   "cell_type": "markdown",
   "metadata": {},
   "source": [
    "## Using an alternative method with geopy to get even more location matches:  "
   ]
  },
  {
   "cell_type": "markdown",
   "metadata": {},
   "source": [
    "Using geopy every input will return some location, to avoid getting bad results we only check the location for Institutions, using the previously defined regex."
   ]
  },
  {
   "cell_type": "code",
   "execution_count": 83,
   "metadata": {},
   "outputs": [],
   "source": [
    "n_found_institutions = [i for i in  n_found if reg.search(match_institutions, i.lower())]"
   ]
  },
  {
   "cell_type": "code",
   "execution_count": 84,
   "metadata": {},
   "outputs": [
    {
     "data": {
      "text/plain": [
       "72"
      ]
     },
     "execution_count": 84,
     "metadata": {},
     "output_type": "execute_result"
    }
   ],
   "source": [
    "len(n_found_institutions)"
   ]
  },
  {
   "cell_type": "markdown",
   "metadata": {},
   "source": [
    "hence we will try to find the location for 100 more places.\n",
    "\n",
    "Geopy has the dissadvantage that we can only make 1 request per second, and it can't be used heavily. \n",
    "When re-run to often the api will reject the requests!"
   ]
  },
  {
   "cell_type": "code",
   "execution_count": 85,
   "metadata": {},
   "outputs": [],
   "source": [
    "from geopy.geocoders import Nominatim\n",
    "\n",
    "geolocator = Nominatim(user_agent=\"application_for_project_\")\n",
    "\n",
    "d= []\n",
    "not_found = []\n",
    "for n in n_found_institutions:\n",
    "    location = geolocator.geocode(n)\n",
    "    if location:\n",
    "        d.append({'Lat': location.latitude, 'Lon': location.longitude, 'University': n})\n",
    "    else:\n",
    "        not_found.append(n)"
   ]
  },
  {
   "cell_type": "code",
   "execution_count": 86,
   "metadata": {},
   "outputs": [],
   "source": [
    "additional_locations = pd.DataFrame(d)"
   ]
  },
  {
   "cell_type": "code",
   "execution_count": 87,
   "metadata": {},
   "outputs": [
    {
     "data": {
      "text/html": [
       "<div>\n",
       "<style scoped>\n",
       "    .dataframe tbody tr th:only-of-type {\n",
       "        vertical-align: middle;\n",
       "    }\n",
       "\n",
       "    .dataframe tbody tr th {\n",
       "        vertical-align: top;\n",
       "    }\n",
       "\n",
       "    .dataframe thead th {\n",
       "        text-align: right;\n",
       "    }\n",
       "</style>\n",
       "<table border=\"1\" class=\"dataframe\">\n",
       "  <thead>\n",
       "    <tr style=\"text-align: right;\">\n",
       "      <th></th>\n",
       "      <th>Lat</th>\n",
       "      <th>Lon</th>\n",
       "      <th>University</th>\n",
       "    </tr>\n",
       "  </thead>\n",
       "  <tbody>\n",
       "    <tr>\n",
       "      <th>0</th>\n",
       "      <td>40.005709</td>\n",
       "      <td>-83.028663</td>\n",
       "      <td>Ohio State University, Columbus</td>\n",
       "    </tr>\n",
       "    <tr>\n",
       "      <th>1</th>\n",
       "      <td>51.025090</td>\n",
       "      <td>3.713542</td>\n",
       "      <td>Ghent University</td>\n",
       "    </tr>\n",
       "    <tr>\n",
       "      <th>2</th>\n",
       "      <td>53.343567</td>\n",
       "      <td>-6.276996</td>\n",
       "      <td>National College of Art &amp; Design, Dublin</td>\n",
       "    </tr>\n",
       "    <tr>\n",
       "      <th>3</th>\n",
       "      <td>35.653042</td>\n",
       "      <td>140.049055</td>\n",
       "      <td>The Open University of Japan</td>\n",
       "    </tr>\n",
       "    <tr>\n",
       "      <th>4</th>\n",
       "      <td>37.418436</td>\n",
       "      <td>-122.181134</td>\n",
       "      <td>Carnegie Foundation</td>\n",
       "    </tr>\n",
       "  </tbody>\n",
       "</table>\n",
       "</div>"
      ],
      "text/plain": [
       "         Lat         Lon                                University\n",
       "0  40.005709  -83.028663           Ohio State University, Columbus\n",
       "1  51.025090    3.713542                          Ghent University\n",
       "2  53.343567   -6.276996  National College of Art & Design, Dublin\n",
       "3  35.653042  140.049055              The Open University of Japan\n",
       "4  37.418436 -122.181134                       Carnegie Foundation"
      ]
     },
     "execution_count": 87,
     "metadata": {},
     "output_type": "execute_result"
    }
   ],
   "source": [
    "additional_locations.head()"
   ]
  },
  {
   "cell_type": "markdown",
   "metadata": {},
   "source": [
    "Now we can also associate a country to these universities, again using the country code:\n",
    "\n",
    "A small issue we have is that countries in the special administrative zone of china will be mapped to china instead of their original location (Universities in HongKong will be mapped to china instead of Hong Kong)."
   ]
  },
  {
   "cell_type": "code",
   "execution_count": 88,
   "metadata": {},
   "outputs": [],
   "source": [
    "countries = []\n",
    "for i, row in additional_locations.iterrows():\n",
    "    pos = str(row['Lat']) + ', ' + str(row['Lon'])\n",
    "    country = geolocator.reverse(pos, timeout = 10)\n",
    "    countries.append(country)"
   ]
  },
  {
   "cell_type": "code",
   "execution_count": 89,
   "metadata": {},
   "outputs": [],
   "source": [
    "country_code_mapping = {}\n",
    "_ = [country_code_mapping.update({c['alpha_two_code'].lower() : c['country']}) for c in parsed_json]"
   ]
  },
  {
   "cell_type": "code",
   "execution_count": 90,
   "metadata": {},
   "outputs": [],
   "source": [
    "additional_locations['Country'] = pd.Series(\n",
    "    [c.raw['address']['country_code'] for c in countries]).map(country_code_mapping)"
   ]
  },
  {
   "cell_type": "code",
   "execution_count": 91,
   "metadata": {},
   "outputs": [
    {
     "data": {
      "text/html": [
       "<div>\n",
       "<style scoped>\n",
       "    .dataframe tbody tr th:only-of-type {\n",
       "        vertical-align: middle;\n",
       "    }\n",
       "\n",
       "    .dataframe tbody tr th {\n",
       "        vertical-align: top;\n",
       "    }\n",
       "\n",
       "    .dataframe thead th {\n",
       "        text-align: right;\n",
       "    }\n",
       "</style>\n",
       "<table border=\"1\" class=\"dataframe\">\n",
       "  <thead>\n",
       "    <tr style=\"text-align: right;\">\n",
       "      <th></th>\n",
       "      <th>Lat</th>\n",
       "      <th>Lon</th>\n",
       "      <th>University</th>\n",
       "      <th>Country</th>\n",
       "    </tr>\n",
       "  </thead>\n",
       "  <tbody>\n",
       "    <tr>\n",
       "      <th>0</th>\n",
       "      <td>40.005709</td>\n",
       "      <td>-83.028663</td>\n",
       "      <td>Ohio State University, Columbus</td>\n",
       "      <td>United States</td>\n",
       "    </tr>\n",
       "    <tr>\n",
       "      <th>1</th>\n",
       "      <td>51.025090</td>\n",
       "      <td>3.713542</td>\n",
       "      <td>Ghent University</td>\n",
       "      <td>Belgium</td>\n",
       "    </tr>\n",
       "    <tr>\n",
       "      <th>2</th>\n",
       "      <td>53.343567</td>\n",
       "      <td>-6.276996</td>\n",
       "      <td>National College of Art &amp; Design, Dublin</td>\n",
       "      <td>Ireland</td>\n",
       "    </tr>\n",
       "    <tr>\n",
       "      <th>3</th>\n",
       "      <td>35.653042</td>\n",
       "      <td>140.049055</td>\n",
       "      <td>The Open University of Japan</td>\n",
       "      <td>Japan</td>\n",
       "    </tr>\n",
       "    <tr>\n",
       "      <th>4</th>\n",
       "      <td>37.418436</td>\n",
       "      <td>-122.181134</td>\n",
       "      <td>Carnegie Foundation</td>\n",
       "      <td>United States</td>\n",
       "    </tr>\n",
       "  </tbody>\n",
       "</table>\n",
       "</div>"
      ],
      "text/plain": [
       "         Lat         Lon                                University  \\\n",
       "0  40.005709  -83.028663           Ohio State University, Columbus   \n",
       "1  51.025090    3.713542                          Ghent University   \n",
       "2  53.343567   -6.276996  National College of Art & Design, Dublin   \n",
       "3  35.653042  140.049055              The Open University of Japan   \n",
       "4  37.418436 -122.181134                       Carnegie Foundation   \n",
       "\n",
       "         Country  \n",
       "0  United States  \n",
       "1        Belgium  \n",
       "2        Ireland  \n",
       "3          Japan  \n",
       "4  United States  "
      ]
     },
     "execution_count": 91,
     "metadata": {},
     "output_type": "execute_result"
    }
   ],
   "source": [
    "additional_locations.head()"
   ]
  },
  {
   "cell_type": "markdown",
   "metadata": {},
   "source": [
    "the complete mapping is given by:"
   ]
  },
  {
   "cell_type": "code",
   "execution_count": 92,
   "metadata": {},
   "outputs": [],
   "source": [
    "location_universities = pd.concat([additional_locations, location_uni], sort=False)"
   ]
  },
  {
   "cell_type": "markdown",
   "metadata": {},
   "source": [
    "We can now again unify a bit by checking if we have the same locations:"
   ]
  },
  {
   "cell_type": "code",
   "execution_count": 93,
   "metadata": {},
   "outputs": [],
   "source": [
    "rename_uni = {}\n",
    "for i, row in location_universities.iterrows():\n",
    "    for j, row_2 in location_universities.iterrows():\n",
    "        if i < j and ',' not in row_2.University and row_2.University != row.University:\n",
    "            if (row_2['Lon'] == row['Lon']) & (row_2['Lat'] == row['Lat']):\n",
    "                number_used_row2 = emails[emails.name == row_2.University].shape[0]\n",
    "                number_used_row = emails[emails.name == row.University].shape[0]\n",
    "                if number_used_row > number_used_row2:\n",
    "                    rename_uni[row_2.University] =  row.University\n",
    "                else:\n",
    "                    rename_uni[row.University] =  row_2.University"
   ]
  },
  {
   "cell_type": "code",
   "execution_count": 94,
   "metadata": {},
   "outputs": [
    {
     "data": {
      "text/plain": [
       "{'Faculty of Education, Beijing Normal University': 'Beijing Normal University',\n",
       " 'Ruhr-Universität Bochum': 'Ruhr-University Bochum',\n",
       " 'The University of Wisconsin-Madison': 'University of Wisconsin - Madison',\n",
       " 'University of California Berkeley': 'University of California, Berkeley',\n",
       " 'University of California at Davis': 'University of California, Davis'}"
      ]
     },
     "execution_count": 94,
     "metadata": {},
     "output_type": "execute_result"
    }
   ],
   "source": [
    "rename_uni"
   ]
  },
  {
   "cell_type": "markdown",
   "metadata": {},
   "source": [
    "We apply this renaming:"
   ]
  },
  {
   "cell_type": "code",
   "execution_count": 95,
   "metadata": {},
   "outputs": [],
   "source": [
    "location_universities.loc[location_universities.University.isin(rename_uni.keys()), 'University'] = location_universities[location_universities.University.isin(rename_uni.keys())].University.map(rename_uni)"
   ]
  },
  {
   "cell_type": "code",
   "execution_count": 96,
   "metadata": {},
   "outputs": [],
   "source": [
    "emails.loc[emails.name.isin(rename_uni.keys()),'name'] = emails.name.map(rename_uni)"
   ]
  },
  {
   "cell_type": "code",
   "execution_count": 97,
   "metadata": {},
   "outputs": [],
   "source": [
    "universities = pd.merge(emails, location_universities, left_on='name', right_on='University', how='left')"
   ]
  },
  {
   "cell_type": "code",
   "execution_count": 98,
   "metadata": {},
   "outputs": [
    {
     "data": {
      "text/html": [
       "<div>\n",
       "<style scoped>\n",
       "    .dataframe tbody tr th:only-of-type {\n",
       "        vertical-align: middle;\n",
       "    }\n",
       "\n",
       "    .dataframe tbody tr th {\n",
       "        vertical-align: top;\n",
       "    }\n",
       "\n",
       "    .dataframe thead th {\n",
       "        text-align: right;\n",
       "    }\n",
       "</style>\n",
       "<table border=\"1\" class=\"dataframe\">\n",
       "  <thead>\n",
       "    <tr style=\"text-align: right;\">\n",
       "      <th></th>\n",
       "      <th>file</th>\n",
       "      <th>name</th>\n",
       "      <th>domain</th>\n",
       "      <th>email</th>\n",
       "      <th>author_order</th>\n",
       "      <th>country</th>\n",
       "      <th>Lat</th>\n",
       "      <th>Lon</th>\n",
       "      <th>University</th>\n",
       "      <th>Country</th>\n",
       "    </tr>\n",
       "  </thead>\n",
       "  <tbody>\n",
       "    <tr>\n",
       "      <th>0</th>\n",
       "      <td>2018_14</td>\n",
       "      <td>University of Colorado at Boulder</td>\n",
       "      <td>colorado.edu</td>\n",
       "      <td>Lehi6796@Colorado.EDU</td>\n",
       "      <td>0</td>\n",
       "      <td>United States</td>\n",
       "      <td>40.006667</td>\n",
       "      <td>-105.267222</td>\n",
       "      <td>University of Colorado at Boulder</td>\n",
       "      <td>United States</td>\n",
       "    </tr>\n",
       "    <tr>\n",
       "      <th>1</th>\n",
       "      <td>2016_39</td>\n",
       "      <td>Michigan State University</td>\n",
       "      <td>msu.edu</td>\n",
       "      <td>acb@msu.edu</td>\n",
       "      <td>0</td>\n",
       "      <td>United States</td>\n",
       "      <td>42.725000</td>\n",
       "      <td>-84.480000</td>\n",
       "      <td>Michigan State University</td>\n",
       "      <td>United States</td>\n",
       "    </tr>\n",
       "    <tr>\n",
       "      <th>2</th>\n",
       "      <td>2016_39</td>\n",
       "      <td>University of North Carolina at Greensboro</td>\n",
       "      <td>uncg.edu</td>\n",
       "      <td>e_tan@uncg.edu</td>\n",
       "      <td>1</td>\n",
       "      <td>United States</td>\n",
       "      <td>36.069500</td>\n",
       "      <td>-79.811400</td>\n",
       "      <td>University of North Carolina at Greensboro</td>\n",
       "      <td>United States</td>\n",
       "    </tr>\n",
       "    <tr>\n",
       "      <th>3</th>\n",
       "      <td>2016_39</td>\n",
       "      <td>Michigan State University</td>\n",
       "      <td>msu.edu</td>\n",
       "      <td>shinmyu4@msu.edu</td>\n",
       "      <td>2</td>\n",
       "      <td>United States</td>\n",
       "      <td>42.725000</td>\n",
       "      <td>-84.480000</td>\n",
       "      <td>Michigan State University</td>\n",
       "      <td>United States</td>\n",
       "    </tr>\n",
       "    <tr>\n",
       "      <th>4</th>\n",
       "      <td>2018_28</td>\n",
       "      <td>University of Illinois at Chicago</td>\n",
       "      <td>uic.edu</td>\n",
       "      <td>mlko@uic.edu</td>\n",
       "      <td>0</td>\n",
       "      <td>United States</td>\n",
       "      <td>41.871667</td>\n",
       "      <td>-87.649167</td>\n",
       "      <td>University of Illinois at Chicago</td>\n",
       "      <td>United States</td>\n",
       "    </tr>\n",
       "  </tbody>\n",
       "</table>\n",
       "</div>"
      ],
      "text/plain": [
       "      file                                        name        domain  \\\n",
       "0  2018_14           University of Colorado at Boulder  colorado.edu   \n",
       "1  2016_39                   Michigan State University       msu.edu   \n",
       "2  2016_39  University of North Carolina at Greensboro      uncg.edu   \n",
       "3  2016_39                   Michigan State University       msu.edu   \n",
       "4  2018_28           University of Illinois at Chicago       uic.edu   \n",
       "\n",
       "                   email  author_order        country        Lat         Lon  \\\n",
       "0  Lehi6796@Colorado.EDU             0  United States  40.006667 -105.267222   \n",
       "1            acb@msu.edu             0  United States  42.725000  -84.480000   \n",
       "2         e_tan@uncg.edu             1  United States  36.069500  -79.811400   \n",
       "3       shinmyu4@msu.edu             2  United States  42.725000  -84.480000   \n",
       "4           mlko@uic.edu             0  United States  41.871667  -87.649167   \n",
       "\n",
       "                                   University        Country  \n",
       "0           University of Colorado at Boulder  United States  \n",
       "1                   Michigan State University  United States  \n",
       "2  University of North Carolina at Greensboro  United States  \n",
       "3                   Michigan State University  United States  \n",
       "4           University of Illinois at Chicago  United States  "
      ]
     },
     "execution_count": 98,
     "metadata": {},
     "output_type": "execute_result"
    }
   ],
   "source": [
    "universities.head()"
   ]
  },
  {
   "cell_type": "markdown",
   "metadata": {},
   "source": [
    "As mail extensions are a better indication, we use them as default and use the country found using the second method only we could not associate one using the first method:"
   ]
  },
  {
   "cell_type": "code",
   "execution_count": 99,
   "metadata": {},
   "outputs": [
    {
     "data": {
      "text/html": [
       "<div>\n",
       "<style scoped>\n",
       "    .dataframe tbody tr th:only-of-type {\n",
       "        vertical-align: middle;\n",
       "    }\n",
       "\n",
       "    .dataframe tbody tr th {\n",
       "        vertical-align: top;\n",
       "    }\n",
       "\n",
       "    .dataframe thead th {\n",
       "        text-align: right;\n",
       "    }\n",
       "</style>\n",
       "<table border=\"1\" class=\"dataframe\">\n",
       "  <thead>\n",
       "    <tr style=\"text-align: right;\">\n",
       "      <th></th>\n",
       "      <th>file</th>\n",
       "      <th>name</th>\n",
       "      <th>domain</th>\n",
       "      <th>email</th>\n",
       "      <th>author_order</th>\n",
       "      <th>country</th>\n",
       "      <th>Lat</th>\n",
       "      <th>Lon</th>\n",
       "      <th>University</th>\n",
       "      <th>Country</th>\n",
       "    </tr>\n",
       "  </thead>\n",
       "  <tbody>\n",
       "    <tr>\n",
       "      <th>90</th>\n",
       "      <td>2017_6</td>\n",
       "      <td>Beijing Normal University</td>\n",
       "      <td>163.com</td>\n",
       "      <td>wangqi.20080906@163.com</td>\n",
       "      <td>1</td>\n",
       "      <td>NaN</td>\n",
       "      <td>39.957222</td>\n",
       "      <td>116.362500</td>\n",
       "      <td>Beijing Normal University</td>\n",
       "      <td>China</td>\n",
       "    </tr>\n",
       "    <tr>\n",
       "      <th>91</th>\n",
       "      <td>2017_6</td>\n",
       "      <td>Beijing Normal University</td>\n",
       "      <td>163.com</td>\n",
       "      <td>wangqi.20080906@163.com</td>\n",
       "      <td>1</td>\n",
       "      <td>NaN</td>\n",
       "      <td>39.957222</td>\n",
       "      <td>116.362500</td>\n",
       "      <td>Beijing Normal University</td>\n",
       "      <td>China</td>\n",
       "    </tr>\n",
       "    <tr>\n",
       "      <th>125</th>\n",
       "      <td>2017_86</td>\n",
       "      <td>Soka University</td>\n",
       "      <td>umegumi.net</td>\n",
       "      <td>funaoi@umegumi.net</td>\n",
       "      <td>4</td>\n",
       "      <td>NaN</td>\n",
       "      <td>35.688056</td>\n",
       "      <td>139.328889</td>\n",
       "      <td>Soka University</td>\n",
       "      <td>Japan</td>\n",
       "    </tr>\n",
       "    <tr>\n",
       "      <th>126</th>\n",
       "      <td>2017_86</td>\n",
       "      <td>Utsunomiya University</td>\n",
       "      <td>kubota-lab.net</td>\n",
       "      <td>kubota@kubota-lab.net</td>\n",
       "      <td>5</td>\n",
       "      <td>NaN</td>\n",
       "      <td>36.549167</td>\n",
       "      <td>139.913889</td>\n",
       "      <td>Utsunomiya University</td>\n",
       "      <td>Japan</td>\n",
       "    </tr>\n",
       "    <tr>\n",
       "      <th>127</th>\n",
       "      <td>2017_86</td>\n",
       "      <td>Ibaraki University</td>\n",
       "      <td>suzuki-lab.net</td>\n",
       "      <td>hideyuki@suzuki-lab.net</td>\n",
       "      <td>6</td>\n",
       "      <td>NaN</td>\n",
       "      <td>36.401111</td>\n",
       "      <td>140.443056</td>\n",
       "      <td>Ibaraki University</td>\n",
       "      <td>Japan</td>\n",
       "    </tr>\n",
       "  </tbody>\n",
       "</table>\n",
       "</div>"
      ],
      "text/plain": [
       "        file                       name          domain  \\\n",
       "90    2017_6  Beijing Normal University         163.com   \n",
       "91    2017_6  Beijing Normal University         163.com   \n",
       "125  2017_86            Soka University     umegumi.net   \n",
       "126  2017_86      Utsunomiya University  kubota-lab.net   \n",
       "127  2017_86         Ibaraki University  suzuki-lab.net   \n",
       "\n",
       "                       email  author_order country        Lat         Lon  \\\n",
       "90   wangqi.20080906@163.com             1     NaN  39.957222  116.362500   \n",
       "91   wangqi.20080906@163.com             1     NaN  39.957222  116.362500   \n",
       "125       funaoi@umegumi.net             4     NaN  35.688056  139.328889   \n",
       "126    kubota@kubota-lab.net             5     NaN  36.549167  139.913889   \n",
       "127  hideyuki@suzuki-lab.net             6     NaN  36.401111  140.443056   \n",
       "\n",
       "                    University Country  \n",
       "90   Beijing Normal University   China  \n",
       "91   Beijing Normal University   China  \n",
       "125            Soka University   Japan  \n",
       "126      Utsunomiya University   Japan  \n",
       "127         Ibaraki University   Japan  "
      ]
     },
     "execution_count": 99,
     "metadata": {},
     "output_type": "execute_result"
    }
   ],
   "source": [
    "universities[(universities.country != universities.Country) & (\n",
    "    universities.country.isna()) & (universities.Country.notna())].head()"
   ]
  },
  {
   "cell_type": "markdown",
   "metadata": {},
   "source": [
    "To make sure that country names are uniform we first run a mapping from country to University:"
   ]
  },
  {
   "cell_type": "code",
   "execution_count": 100,
   "metadata": {},
   "outputs": [
    {
     "data": {
      "text/html": [
       "<div>\n",
       "<style scoped>\n",
       "    .dataframe tbody tr th:only-of-type {\n",
       "        vertical-align: middle;\n",
       "    }\n",
       "\n",
       "    .dataframe tbody tr th {\n",
       "        vertical-align: top;\n",
       "    }\n",
       "\n",
       "    .dataframe thead th {\n",
       "        text-align: right;\n",
       "    }\n",
       "</style>\n",
       "<table border=\"1\" class=\"dataframe\">\n",
       "  <thead>\n",
       "    <tr style=\"text-align: right;\">\n",
       "      <th></th>\n",
       "      <th>file</th>\n",
       "      <th>name</th>\n",
       "      <th>domain</th>\n",
       "      <th>email</th>\n",
       "      <th>author_order</th>\n",
       "      <th>country</th>\n",
       "      <th>Lat</th>\n",
       "      <th>Lon</th>\n",
       "      <th>University</th>\n",
       "      <th>Country</th>\n",
       "    </tr>\n",
       "  </thead>\n",
       "  <tbody>\n",
       "    <tr>\n",
       "      <th>268</th>\n",
       "      <td>2018_527</td>\n",
       "      <td>Hanyang University</td>\n",
       "      <td>gmail.com</td>\n",
       "      <td>shinyoonhee06@gmail.com</td>\n",
       "      <td>0</td>\n",
       "      <td>Korea, Republic of</td>\n",
       "      <td>37.556389</td>\n",
       "      <td>127.044444</td>\n",
       "      <td>Hanyang University</td>\n",
       "      <td>South Korea</td>\n",
       "    </tr>\n",
       "    <tr>\n",
       "      <th>275</th>\n",
       "      <td>2015_262</td>\n",
       "      <td>Pohang University of Science and Technology</td>\n",
       "      <td>postech.ac.kr</td>\n",
       "      <td>hyojeongso@postech.ac.kr</td>\n",
       "      <td>1</td>\n",
       "      <td>Korea, Republic of</td>\n",
       "      <td>36.010883</td>\n",
       "      <td>129.322669</td>\n",
       "      <td>Pohang University of Science and Technology</td>\n",
       "      <td>South Korea</td>\n",
       "    </tr>\n",
       "    <tr>\n",
       "      <th>809</th>\n",
       "      <td>2018_468</td>\n",
       "      <td>Korea National University of Education</td>\n",
       "      <td>knue.ac.kr</td>\n",
       "      <td>sunaryu@knue.ac.kr</td>\n",
       "      <td>0</td>\n",
       "      <td>Korea, Republic of</td>\n",
       "      <td>36.608333</td>\n",
       "      <td>127.358333</td>\n",
       "      <td>Korea National University of Education</td>\n",
       "      <td>South Korea</td>\n",
       "    </tr>\n",
       "    <tr>\n",
       "      <th>839</th>\n",
       "      <td>2018_333</td>\n",
       "      <td>Hebrew University of Jerusalem</td>\n",
       "      <td>landvernd.is</td>\n",
       "      <td>caitlin@landvernd.is</td>\n",
       "      <td>3</td>\n",
       "      <td>Iceland</td>\n",
       "      <td>31.775833</td>\n",
       "      <td>35.200000</td>\n",
       "      <td>Hebrew University of Jerusalem</td>\n",
       "      <td>Israel</td>\n",
       "    </tr>\n",
       "    <tr>\n",
       "      <th>902</th>\n",
       "      <td>2014_535-542</td>\n",
       "      <td>Seoul National University</td>\n",
       "      <td>snu.ac.kr</td>\n",
       "      <td>yhcho95@snu.ac.kr</td>\n",
       "      <td>1</td>\n",
       "      <td>Korea, Republic of</td>\n",
       "      <td>37.466667</td>\n",
       "      <td>126.950000</td>\n",
       "      <td>Seoul National University</td>\n",
       "      <td>South Korea</td>\n",
       "    </tr>\n",
       "  </tbody>\n",
       "</table>\n",
       "</div>"
      ],
      "text/plain": [
       "             file                                         name         domain  \\\n",
       "268      2018_527                           Hanyang University      gmail.com   \n",
       "275      2015_262  Pohang University of Science and Technology  postech.ac.kr   \n",
       "809      2018_468       Korea National University of Education     knue.ac.kr   \n",
       "839      2018_333               Hebrew University of Jerusalem   landvernd.is   \n",
       "902  2014_535-542                    Seoul National University      snu.ac.kr   \n",
       "\n",
       "                        email  author_order             country        Lat  \\\n",
       "268   shinyoonhee06@gmail.com             0  Korea, Republic of  37.556389   \n",
       "275  hyojeongso@postech.ac.kr             1  Korea, Republic of  36.010883   \n",
       "809        sunaryu@knue.ac.kr             0  Korea, Republic of  36.608333   \n",
       "839      caitlin@landvernd.is             3             Iceland  31.775833   \n",
       "902         yhcho95@snu.ac.kr             1  Korea, Republic of  37.466667   \n",
       "\n",
       "            Lon                                   University      Country  \n",
       "268  127.044444                           Hanyang University  South Korea  \n",
       "275  129.322669  Pohang University of Science and Technology  South Korea  \n",
       "809  127.358333       Korea National University of Education  South Korea  \n",
       "839   35.200000               Hebrew University of Jerusalem       Israel  \n",
       "902  126.950000                    Seoul National University  South Korea  "
      ]
     },
     "execution_count": 100,
     "metadata": {},
     "output_type": "execute_result"
    }
   ],
   "source": [
    "universities[(universities.country != universities.Country) & (\n",
    "    universities.country.notna()) & (universities.Country.notna())].head()"
   ]
  },
  {
   "cell_type": "code",
   "execution_count": 101,
   "metadata": {},
   "outputs": [],
   "source": [
    "uni_uni = {}\n",
    "for i, row in universities[universities.University.notna() & universities.country.notna()].iterrows():\n",
    "    uni_uni[row.University] = row.country"
   ]
  },
  {
   "cell_type": "code",
   "execution_count": 102,
   "metadata": {},
   "outputs": [],
   "source": [
    "universities.loc[universities.University.isin(uni_uni.keys()), 'country'] = universities.University.map(uni_uni)"
   ]
  },
  {
   "cell_type": "code",
   "execution_count": 103,
   "metadata": {},
   "outputs": [],
   "source": [
    "universities.loc[(universities.country != universities.Country) & (\n",
    "    universities.country.isna()) & (universities.Country.notna()), 'country'] = universities.Country"
   ]
  },
  {
   "cell_type": "code",
   "execution_count": 104,
   "metadata": {},
   "outputs": [],
   "source": [
    "del universities['University'], universities['Country']"
   ]
  },
  {
   "cell_type": "code",
   "execution_count": 105,
   "metadata": {},
   "outputs": [],
   "source": [
    "universities.to_pickle('../data/Universities.pkl')\n",
    "universities.to_csv('../data/Universities.csv')"
   ]
  },
  {
   "cell_type": "markdown",
   "metadata": {},
   "source": [
    "# Now with this data we can do some stuff:\n",
    "- Papers with authors of different origin\n",
    "- use predominant nation to remake above plot - maybe papers in the us have more coauthors -> need to find some way to normalize data\n",
    "- look at cross institution & cross country\n",
    "- maybe even look at cross continent collaboration"
   ]
  },
  {
   "cell_type": "code",
   "execution_count": null,
   "metadata": {},
   "outputs": [],
   "source": []
  },
  {
   "cell_type": "code",
   "execution_count": null,
   "metadata": {},
   "outputs": [],
   "source": []
  },
  {
   "cell_type": "code",
   "execution_count": null,
   "metadata": {},
   "outputs": [],
   "source": []
  },
  {
   "cell_type": "code",
   "execution_count": null,
   "metadata": {},
   "outputs": [],
   "source": []
  }
 ],
 "metadata": {
  "kernelspec": {
   "display_name": "Python [default]",
   "language": "python",
   "name": "python3"
  },
  "language_info": {
   "codemirror_mode": {
    "name": "ipython",
    "version": 3
   },
   "file_extension": ".py",
   "mimetype": "text/x-python",
   "name": "python",
   "nbconvert_exporter": "python",
   "pygments_lexer": "ipython3",
   "version": "3.5.6"
  }
 },
 "nbformat": 4,
 "nbformat_minor": 2
}
