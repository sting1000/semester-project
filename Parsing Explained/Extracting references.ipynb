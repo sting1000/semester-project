{
 "cells": [
  {
   "cell_type": "code",
   "execution_count": 1,
   "metadata": {},
   "outputs": [],
   "source": [
    "import re\n",
    "import pandas as pd\n",
    "import os\n",
    "import numpy as np\n",
    "import sys\n",
    "import matplotlib.pyplot as plt\n",
    "import regex as reg\n",
    "import json\n",
    "import unicodedata\n",
    "%matplotlib inline\n",
    "\n",
    "rootdir = '../data/papers/'"
   ]
  },
  {
   "cell_type": "code",
   "execution_count": 2,
   "metadata": {},
   "outputs": [],
   "source": [
    "import unicodedata"
   ]
  },
  {
   "cell_type": "markdown",
   "metadata": {},
   "source": [
    "# Reference Extraction:\n",
    "\n",
    "In this notebook we explain how we can extract individual references from a section of references that are not uniformly separated. We do this by clever use of regular expressions and knowlegde of the format of references."
   ]
  },
  {
   "cell_type": "markdown",
   "metadata": {},
   "source": [
    "loading content of txt files that were previously extracted using the script:"
   ]
  },
  {
   "cell_type": "code",
   "execution_count": 3,
   "metadata": {},
   "outputs": [],
   "source": [
    "contents = []\n",
    "i = 0\n",
    "source = []\n",
    "for subdir, dirs, files in os.walk(rootdir):\n",
    "    for file in files:\n",
    "        if 'txt' in file:\n",
    "            i += 1\n",
    "            path = os.path.join(subdir, file)\n",
    "            with open(path) as file:\n",
    "                try:\n",
    "                    text = file.read()\n",
    "                    contents.append(unicodedata.normalize('NFC',text))\n",
    "                    source.append(path[len(rootdir):-4])\n",
    "                except:\n",
    "                    name, message, content = sys.exc_info()\n",
    "                    print(message)"
   ]
  },
  {
   "cell_type": "markdown",
   "metadata": {},
   "source": [
    "## extracting the reference function from the text"
   ]
  },
  {
   "cell_type": "markdown",
   "metadata": {},
   "source": [
    "One attempt was to use special splitting, in hopes that this would yield better results. We later saw that this was *not* helpful and thus ended up using other ways. The txt papers are not uniform, so we need to rely on more general knowledge of the structure of references, and can not just use smart white space splitting."
   ]
  },
  {
   "cell_type": "code",
   "execution_count": 4,
   "metadata": {},
   "outputs": [
    {
     "data": {
      "text/plain": [
       "['Abrahamson, D. (2012). Discovery reconceived: Product before process. For the Learning of Mathematics, 32(1), 815.',\n",
       " 'Abrahamson, D. (2015). The monster in the machine, or why educational technology needs embodied design. In\\nV. R. Lee (Ed.),']"
      ]
     },
     "execution_count": 4,
     "metadata": {},
     "output_type": "execute_result"
    }
   ],
   "source": [
    "#Example of extraction\n",
    "t = 'Abrahamson, D. (2012). Discovery reconceived: Product before process. For the Learning of Mathematics, 32(1), 815.\\nAbrahamson, D. (2015). The monster in the machine, or why educational technology needs embodied design. In\\nV. R. Lee (Ed.),'\n",
    "#split if \\n comes after .\n",
    "re.split(r'(?<=\\.)\\n', t)"
   ]
  },
  {
   "cell_type": "code",
   "execution_count": 5,
   "metadata": {},
   "outputs": [
    {
     "data": {
      "text/plain": [
       "['dispositions. Science Education, 98(1), 36–63. https://doi.org/10.1002/sce.21083',\n",
       " None,\n",
       " None,\n",
       " 'Edelson, D. C., & Joseph, D. M. (2004). The interest-driven learning design framework: motivating learning']"
      ]
     },
     "execution_count": 5,
     "metadata": {},
     "output_type": "execute_result"
    }
   ],
   "source": [
    "#dealing with links at the end\n",
    "t =  'dispositions. Science Education, 98(1), 36–63. https://doi.org/10.1002/sce.21083\\nEdelson, D. C., & Joseph, D. M. (2004). The interest-driven learning design framework: motivating learning'\n",
    "#similar regex with more condition\n",
    "re.split(r'\\n\\n|((?<=(\\.|\\/|[a-z]))\\n)|\\n(?=[A-Z])',t)"
   ]
  },
  {
   "cell_type": "markdown",
   "metadata": {},
   "source": [
    "The issue is that that above methods undersplit, so we it's better to just use \\n, and than glue up separated sequences back together.\n",
    "\n",
    "We first extract the part that contains references by finding the reference section, cutting off acknowledgements if the paper contains them, and then split up the reference part by lines:"
   ]
  },
  {
   "cell_type": "code",
   "execution_count": 6,
   "metadata": {},
   "outputs": [],
   "source": [
    "reg.search('\\n[\\w]{2} (R|r)eferences\\n', '\\nrelevant scholary references\\n')"
   ]
  },
  {
   "cell_type": "code",
   "execution_count": 7,
   "metadata": {},
   "outputs": [],
   "source": [
    "def ref_extraction(text, extract=False):\n",
    "    \"\"\"extracts refrerence section: works well on well formated documents\"\"\"\n",
    "    mention = text.rfind(\"\\nReferences\")\n",
    "    if mention == -1:\n",
    "        mention = text.rfind(\"\\nReference\")\n",
    "    if mention == -1 and reg.search('\\n[\\p{L}]*( |)[\\p{L}]*( |)(R|r)eferences\\n', text):\n",
    "        #to keep everything consistent substract\n",
    "            mention =  reg.search('\\n[\\p{L}]*( |)[\\p{L}]*( |)(R|r)eferences\\n', text).span()[1] - len(\"references\")\n",
    "    if mention == -1:\n",
    "        return None\n",
    "    #get reference section, account for different spelling\n",
    "    acknowledgements = max(text.find(\"Acknowledgement\"), text.find('Acknowledgment'), text.find('Appendix'))\n",
    "    \n",
    "    #handle case that acknowlege ments are before references\n",
    "    if acknowledgements < mention:\n",
    "        acknowledgements = -1\n",
    "    ref = text[mention+len(\"references\"):acknowledgements]\n",
    "    \n",
    "    references = re.split(r'\\n', ref)\n",
    "    \n",
    "    #extract references while not extracting bottom text \n",
    "    ref = [r for r in references if r and len(r) > 3 and not re.match(r'(CSCL|ICLS) \\d{4} Proceedings|© ISLS', r)]\n",
    "    if extract:\n",
    "        print(text[mention+len(\"references\"):acknowledgements])\n",
    "        print(references)\n",
    "    return ref"
   ]
  },
  {
   "cell_type": "code",
   "execution_count": 8,
   "metadata": {},
   "outputs": [],
   "source": [
    "references = []\n",
    "for i, content in enumerate(contents):\n",
    "    references.append((ref_extraction(content)))"
   ]
  },
  {
   "cell_type": "code",
   "execution_count": 9,
   "metadata": {},
   "outputs": [],
   "source": [
    "#remove pdfs that do not have \n",
    "reference_series = pd.DataFrame([references, source]).T.rename(columns={0: 'ref', 1: 'file'})\n",
    "references = reference_series[reference_series.ref.notna()].ref.tolist()\n",
    "source = reference_series[reference_series.ref.notna()].file.tolist()"
   ]
  },
  {
   "cell_type": "code",
   "execution_count": 10,
   "metadata": {},
   "outputs": [
    {
     "data": {
      "text/html": [
       "<div>\n",
       "<style scoped>\n",
       "    .dataframe tbody tr th:only-of-type {\n",
       "        vertical-align: middle;\n",
       "    }\n",
       "\n",
       "    .dataframe tbody tr th {\n",
       "        vertical-align: top;\n",
       "    }\n",
       "\n",
       "    .dataframe thead th {\n",
       "        text-align: right;\n",
       "    }\n",
       "</style>\n",
       "<table border=\"1\" class=\"dataframe\">\n",
       "  <thead>\n",
       "    <tr style=\"text-align: right;\">\n",
       "      <th></th>\n",
       "      <th>ref</th>\n",
       "      <th>file</th>\n",
       "    </tr>\n",
       "  </thead>\n",
       "  <tbody>\n",
       "  </tbody>\n",
       "</table>\n",
       "</div>"
      ],
      "text/plain": [
       "Empty DataFrame\n",
       "Columns: [ref, file]\n",
       "Index: []"
      ]
     },
     "execution_count": 10,
     "metadata": {},
     "output_type": "execute_result"
    }
   ],
   "source": [
    "reference_series[reference_series.ref.isna()]"
   ]
  },
  {
   "cell_type": "code",
   "execution_count": 11,
   "metadata": {},
   "outputs": [
    {
     "name": "stdout",
     "output_type": "stream",
     "text": [
      "Number of pdf documents :  446\n",
      "Number of documents for which we have an extracted reference section:  446\n"
     ]
    }
   ],
   "source": [
    "print('Number of pdf documents : ', len(contents))\n",
    "print('Number of documents for which we have an extracted reference section: ', len(references))"
   ]
  },
  {
   "cell_type": "markdown",
   "metadata": {},
   "source": [
    "# Use Regex  to identify the what part of a reference a string is:"
   ]
  },
  {
   "cell_type": "markdown",
   "metadata": {},
   "source": [
    "This is old code that was used at some point but is not no longer used. it identifies url or url like strings, which would belong to the reference above."
   ]
  },
  {
   "cell_type": "code",
   "execution_count": 12,
   "metadata": {},
   "outputs": [],
   "source": [
    "def match_url(sentence):\n",
    "    return re.search('http(s)?\\:\\/\\/[\\S]*$', sentence) or re.search(r'doi\\:[\\S\\/\\*]*$', sentence)\n",
    "\n",
    "def match_url_beginning(sentence):\n",
    "    return re.search('^http(s)?\\:\\/\\/[\\S]*$', sentence) or re.search(r'^doi\\:[\\S\\/\\*]*$', sentence)\n",
    "\n",
    "def show_issue(issues, condition):\n",
    "    for issue in issues:\n",
    "        if condition(issue):\n",
    "            print(issue)"
   ]
  },
  {
   "cell_type": "markdown",
   "metadata": {},
   "source": [
    "Central approach is to move sentences up until they are part of a string that contains a citation year, which usually is at the beginning of a string in an APA reference.\n",
    "\n",
    "\n",
    "The references should start with a sequence of author names followed by a sequence in brackets identifying the year of publication. As sometimes the cited paper has not yet been published, a varitey of strings is used to indicate this status instead of the year. We add strings indicating this structure so we can identify a maximum of begining sequences, as they are important to get the entire reference."
   ]
  },
  {
   "cell_type": "code",
   "execution_count": 13,
   "metadata": {},
   "outputs": [],
   "source": [
    "def contains_citation_beginning(sentence):\n",
    "\n",
    "    ##Check for mention of publication date,\n",
    "    #do it this way to not allow for ICLS 2015 string to be counted\n",
    "    months = '(january|february|march|april|may|june|july|august|september|october|november|december)?'\n",
    "    publication_year = r'(?<!\\d)\\('+months+'[\\-\\ ]*'+months+'[\\ \\,]*(18|19|20)\\d{2}( |)[a-z]?[\\,\\ ]*'+months+'[\\-\\ \\d]*'+months+'\\)'\n",
    "    \n",
    "    #sometimes two years are mentioned, we use this regex to parse them\n",
    "    match_bad_year = r'\\((18|19|20)\\d{2}\\/(18|19|20)\\d{2}\\)'\n",
    "    \n",
    "    \n",
    "    alternative_release = '|'.join(['in press', 'forthcoming', 'accepted', 'submitted', 'under review'])\n",
    "    authors = '^[\\p{L}\\ \\. \\,\\&\\(\\)\\-\\'\\’\\…]*'\n",
    "    #these regex account for special strings used in the references\n",
    "    match_press = authors + '('+alternative_release+')'\n",
    "    sentence = sentence.lower()\n",
    "        \n",
    "    year = reg.match(authors + publication_year, sentence) or  reg.match(authors+match_bad_year, sentence)\n",
    "    \n",
    "    return  year or reg.match(match_press, sentence) "
   ]
  },
  {
   "cell_type": "code",
   "execution_count": 20,
   "metadata": {},
   "outputs": [
    {
     "data": {
      "text/plain": [
       "<regex.Match object; span=(0, 79), match='baker, r. s. j. d., d’mello, s. k., rodrigo, m. m. t., & graesser, a. c. (2010)'>"
      ]
     },
     "execution_count": 20,
     "metadata": {},
     "output_type": "execute_result"
    }
   ],
   "source": [
    "contains_citation_beginning('Baker, R. S. J. d., D’Mello, S. K., Rodrigo, M. M. T., & Graesser, A. C. (2010). Better ')"
   ]
  },
  {
   "cell_type": "code",
   "execution_count": 21,
   "metadata": {},
   "outputs": [
    {
     "data": {
      "text/plain": [
       "'in press|forthcoming|accepted|submitted|under review'"
      ]
     },
     "execution_count": 21,
     "metadata": {},
     "output_type": "execute_result"
    }
   ],
   "source": [
    "alternative_release = '|'.join(['in press', 'forthcoming', 'accepted', 'submitted', 'under review'])\n",
    "alternative_release"
   ]
  },
  {
   "cell_type": "code",
   "execution_count": 22,
   "metadata": {},
   "outputs": [
    {
     "data": {
      "text/plain": [
       "'(in press|forthcoming|accepted|submitted|under review)'"
      ]
     },
     "execution_count": 22,
     "metadata": {},
     "output_type": "execute_result"
    }
   ],
   "source": [
    "'('+alternative_release+')'"
   ]
  },
  {
   "cell_type": "markdown",
   "metadata": {},
   "source": [
    "Example of the regexparsing working:"
   ]
  },
  {
   "cell_type": "code",
   "execution_count": 23,
   "metadata": {},
   "outputs": [
    {
     "data": {
      "text/plain": [
       "(<_sre.SRE_Match object; span=(14, 25), match='(1987/2014)'>, None)"
      ]
     },
     "execution_count": 23,
     "metadata": {},
     "output_type": "execute_result"
    }
   ],
   "source": [
    "sentence = \"\"\"Xing, W., Kim, S., & Goggins, S. (2015/1994). \n",
    "                Modeling performance in asynchronous CSCL: \n",
    "                an exploration of social ability, collective efficacy \n",
    "                and social interaction. Exploring the Material Conditions of Learning: \n",
    "                Proceedings of the Computer Supported Collaborative Learning (CSCL 2015), \n",
    "                International Society of\"\"\"\n",
    "\n",
    "sentence_2 = \"\"\"Engeström, Y. (1987/2014) Learning by expanding: \n",
    "                An activity-theoretical approach to developmental research (2nd ed.). \n",
    "                New York, NY: Cambridge University Press.\"\"\"\n",
    "\n",
    "months = '(january|february|march|april|may|june|july|august|september|october|november|december)?'\n",
    "publication_year = r'(?<!\\d)\\('+months+'[\\-\\ ]*'+months+'[\\ \\,]*(18|19|20)\\d{2}[a-z]?[\\,\\ ]*'+months+'[\\-\\ ]*'+months+'\\)'\n",
    "\n",
    "\n",
    "match_bad_year = r'\\((18|19|20)\\d{2}\\/(18|19|20)\\d{2}\\)'\n",
    "\n",
    "month = re.search(publication_year, sentence.lower())\n",
    "conference =  re.search(match_bad_year, sentence_2)\n",
    "    \n",
    "conference, month"
   ]
  },
  {
   "cell_type": "markdown",
   "metadata": {},
   "source": [
    "The following function now implements this upwards or downwards of attaching a string to the previous one in a list of strings, if a given conditon is satisfied. \n",
    "\n",
    "For instace, One way we can know a line was split early is if it starts with lowercase letter or with a number."
   ]
  },
  {
   "cell_type": "code",
   "execution_count": 24,
   "metadata": {},
   "outputs": [
    {
     "data": {
      "text/plain": [
       "<regex.Match object; span=(0, 6), match='lollll'>"
      ]
     },
     "execution_count": 24,
     "metadata": {},
     "output_type": "execute_result"
    }
   ],
   "source": [
    "reg.match('^[^\\p{L}\\*]|'+ #don't start with number or ., &\n",
    "                                                    '(?!((d)[\\p{Ll}])|(van))(^\\p{Ll}{2,3} )|'+#no overly short non name start\n",
    "                                                    '^\\p{Ll}{6}[\\p{Ll}]*|'+\n",
    "                                                    '^([a-z]+[\\.] )|'+ #no point\n",
    "                                                    '^[\\p{L}]*$', #no only word citations\n",
    "                                                    'lollll ojfdfhb ')"
   ]
  },
  {
   "cell_type": "code",
   "execution_count": 25,
   "metadata": {},
   "outputs": [],
   "source": [
    "#moving sentences starting with lowercase letter or number strings \"one up\"\n",
    "def moving_up(issues, condition=lambda x: reg.match('^[^\\p{L}\\*]|'+ #don't start with number or ., &\n",
    "                                                    '(?!((d)[\\p{Ll}])|(van))(^\\p{Ll}{2,3} )|'+#no overly short non name start\n",
    "                                                    '^\\p{Ll}{6}[\\p{Ll}]*|'+\n",
    "                                                    '^([a-z]+[\\.] )|'+ #no point\n",
    "                                                    '^[\\p{L}]*$', #no only word citations\n",
    "                                                    x)):\n",
    "\n",
    "    issues = [i for i in issues if len(i) > 0]\n",
    "    patchwork = []\n",
    "    j = 0\n",
    "    \n",
    "    for i, sentence in enumerate(issues):\n",
    "        if i != 0 and condition(sentence):\n",
    "            patchwork[j-1] += ' ' + sentence\n",
    "            #print(sentence)\n",
    "        else:\n",
    "            j +=1\n",
    "            patchwork.append(sentence)\n",
    "    patchwork = [p for p in patchwork if len(p) > 0]\n",
    "    \n",
    "    return patchwork"
   ]
  },
  {
   "cell_type": "markdown",
   "metadata": {},
   "source": [
    "Here we implement the inverse concept, of attaching a string to the next string in a list of strings if a condition is satisfied:"
   ]
  },
  {
   "cell_type": "code",
   "execution_count": 26,
   "metadata": {},
   "outputs": [],
   "source": [
    "#moving sentences starting with lowercase letter or number strings \"one up\"\n",
    "def moving_down(issues, condition=lambda x: re.match('^[\\d\\(\\.]', x)):\n",
    "\n",
    "    issues = [i for i in issues if len(i) > 0]\n",
    "    patchwork = issues.copy()\n",
    "    j = 0\n",
    "    \n",
    "    for i, sentence in enumerate(issues):\n",
    "        if condition(sentence) and i+1 < len(issues):\n",
    "            patchwork[i] = sentence + ' ' + patchwork[i+1]\n",
    "            patchwork[i+1] = ''\n",
    "\n",
    "    patchwork = [p for p in patchwork if len(p) > 0]\n",
    "    \n",
    "    return patchwork"
   ]
  },
  {
   "cell_type": "markdown",
   "metadata": {},
   "source": [
    "Here we have example sof the regex that will then be used, we should move a sequence up if name is cut off (for instance, sentence starts with C. ....)"
   ]
  },
  {
   "cell_type": "code",
   "execution_count": 27,
   "metadata": {},
   "outputs": [
    {
     "data": {
      "text/plain": [
       "<_sre.SRE_Match object; span=(0, 3), match='G. '>"
      ]
     },
     "execution_count": 27,
     "metadata": {},
     "output_type": "execute_result"
    }
   ],
   "source": [
    "cutoff_name = r'^[A-Z]+\\.\\ ?'\n",
    "text = 'G. bsdjhvshjvf(1220)'\n",
    "re.match(cutoff_name, text)"
   ]
  },
  {
   "cell_type": "markdown",
   "metadata": {},
   "source": [
    "For references we might cut off the year from the authors. In that case we need to change strategy and move the one that is below up if the upper string satisfies the condition.\n",
    "\n",
    "Here we have to other conditions that take care of potential issues such as having a word at the end or just a list of authors (and thus our way of identifying the beginning of a sentence will be not work)"
   ]
  },
  {
   "cell_type": "code",
   "execution_count": 28,
   "metadata": {},
   "outputs": [],
   "source": [
    "def match_author(authors):\n",
    "    regex = r'(([\\p{L}\\-]*[\\,\\&] [A-Z\\.\\ ]+[\\&\\,]?)*[\\p{L}\\ ]*$)'\n",
    "    USA = r'([A-Z]{2,})'\n",
    "    return not reg.search(USA, authors) and reg.match(regex, authors)\n"
   ]
  },
  {
   "cell_type": "code",
   "execution_count": 29,
   "metadata": {},
   "outputs": [
    {
     "data": {
      "text/plain": [
       "'Yoon, S., Anderson, E., Koehler-Yom, Evans, C., Park, M., J., Sheldon, J., Schoenfeld, I., Wendel, D.,'"
      ]
     },
     "execution_count": 29,
     "metadata": {},
     "output_type": "execute_result"
    }
   ],
   "source": [
    "sentence = 'Yoon, S., Anderson, E., Koehler-Yom, Evans, C., Park, M., J., Sheldon, J., Schoenfeld, I., Wendel, D.,'\n",
    "match_author(sentence).group(0)"
   ]
  },
  {
   "cell_type": "code",
   "execution_count": 30,
   "metadata": {},
   "outputs": [
    {
     "data": {
      "text/plain": [
       "<regex.Match object; span=(105, 109), match=' and'>"
      ]
     },
     "execution_count": 30,
     "metadata": {},
     "output_type": "execute_result"
    }
   ],
   "source": [
    "text = 'Walther, J. B., & Parks, M. R. (2002). Cues filtered out, cues filter in: computer mediated communication and'\n",
    "words_at_end = r'( of| and| the| | [\\p{Lu}])$'\n",
    "reg.search(words_at_end, text)"
   ]
  },
  {
   "cell_type": "code",
   "execution_count": 31,
   "metadata": {},
   "outputs": [],
   "source": [
    "def contains_author(sentence):\n",
    "    regex = r'(^[\\p{L}\\-\\’\\'\\*]*[\\,\\&] [A-Z\\.\\ ]+[\\&\\,]?)'\n",
    "    if reg.search(regex, sentence):\n",
    "        return len(reg.search(regex, sentence).group(0)) > 0\n",
    "    else:\n",
    "        return False"
   ]
  },
  {
   "cell_type": "code",
   "execution_count": 32,
   "metadata": {},
   "outputs": [],
   "source": [
    "#check if propper start\n",
    "ref_1 = [moving_up(r, lambda x: re.match(cutoff_name, x)) for r in references]\n",
    "ref_1 = [moving_down(r, lambda x: reg.search('In [\\p{Lu}\\-\\.]*\\.$|\\:$|\\,$', x)) for r in ref_1]"
   ]
  },
  {
   "cell_type": "code",
   "execution_count": 33,
   "metadata": {},
   "outputs": [],
   "source": [
    "#make sure all authors listed by reference are are on one line\n",
    "ref_1 = [moving_up(r) for r in ref_1]\n",
    "\n",
    "ref_2 = [moving_down(r, match_author) for r in ref_1]\n",
    "ref_2 = [moving_down(r, lambda x: reg.search(words_at_end, x)) for r in ref_2]\n",
    "\n",
    "ref_3 = [moving_up(r, lambda x: not (contains_author(x) or contains_citation_beginning(x))) for r in ref_2]\n",
    "#pivoting up around strings containing citation\n",
    "ref_4 = [moving_up(r, lambda x: not contains_citation_beginning(x)) for r in ref_3]"
   ]
  },
  {
   "cell_type": "markdown",
   "metadata": {},
   "source": [
    "Add the reference into dataframe, associating the source text to it:"
   ]
  },
  {
   "cell_type": "code",
   "execution_count": 34,
   "metadata": {},
   "outputs": [],
   "source": [
    "references_df = pd.DataFrame([(f, source[i]) for i, flat in enumerate(ref_4) for f in flat], columns=['ref', 'file'])"
   ]
  },
  {
   "cell_type": "code",
   "execution_count": 35,
   "metadata": {},
   "outputs": [
    {
     "data": {
      "text/plain": [
       "['Rogoff, B. (1994) Developing an understanding of communities of learning. Mind, Culture, and Activity, 1(4), 209-229.',\n",
       " 'Weintrop, D., & Wilensky, U. (2017a). Between a Block and a Typeface: Designing and Evaluating Hybrid Programming Environments. In Proc. of the 2017 Conference on Interaction Design and Children (pp. 183–192). New York, NY, USA: ACM.',\n",
       " 'Engeström, Y. (1987). Learning by Expanding: An Activity-Theoretical Approach to Developmental Research. Helsinki: Orienta-Konsulti Oy.',\n",
       " 'Gick, M. L., & Holyoak, K. J. (1983). Schema induction and analogical transfer. Cognitive Psychology, 15, 1-38. doi:10.1016/0010-0285(83)90002-6',\n",
       " 'Strauss, A. L., & Corbin, J. M. (2008). Basics of qualitative research: techniques and procedures for developing grounded theory. Los Angeles: SAGE Publications.',\n",
       " 'Sacks, H. (1967/1992). Omnirelevant devices; settinged activities; “indicator terms” (February 16, 1967). In G. Jefferson (Ed.), Lectures on conversation: Volumes I and II (pp. 515–522). Oxford, England: Blackwell.',\n",
       " 'VanLehn, K. (2011). The relative effectiveness of human tutoring, intelligent tutoring systems, and other tutoring systems. Educational Psychologist, 46(4), 197-221.',\n",
       " 'Finnish National Board of Education (FNBE) (2015). National Core Curriculum for General Upper Secondary Schools 2015. Helsinki: Finnish National Board of Education (FNBE).',\n",
       " 'Talbert, J. E., & McLaughlin, M. W. (1999). Assessing the school environment: Embedded contexts and bottom-up research strategy. In S. L. Friedman & T. D. Wachs (Eds.), Measuring environment across the life span (pp. 197-226). Washington, D.C.: American Psychological Association.',\n",
       " 'Hecking, T., Chounta, I.-A., & Hoppe, H. U. (2016). Investigating Social and Semantic User Roles in MOOC Discussion Forums. In Proceedings of the Sixth International Conference on Learning Analytics & Knowledge (pp. 198–207). New York, NY, USA: ACM.']"
      ]
     },
     "execution_count": 35,
     "metadata": {},
     "output_type": "execute_result"
    }
   ],
   "source": [
    "references_df.sample(10).ref.tolist()"
   ]
  },
  {
   "cell_type": "markdown",
   "metadata": {},
   "source": [
    "We use length and initial of the reference to preform a sanity check, by looking at initials (which should be upper case letters) and the total length of a reference."
   ]
  },
  {
   "cell_type": "code",
   "execution_count": 36,
   "metadata": {},
   "outputs": [],
   "source": [
    "references_df['length'] = references_df.ref.map(lambda x: len(x))\n",
    "references_df['initial'] = references_df.ref.map(lambda x: x[0])"
   ]
  },
  {
   "cell_type": "code",
   "execution_count": 37,
   "metadata": {},
   "outputs": [
    {
     "data": {
      "text/plain": [
       "count    6022.000000\n",
       "mean      184.964630\n",
       "std        67.998524\n",
       "min         4.000000\n",
       "25%       140.000000\n",
       "50%       179.000000\n",
       "75%       218.000000\n",
       "max      1335.000000\n",
       "Name: length, dtype: float64"
      ]
     },
     "execution_count": 37,
     "metadata": {},
     "output_type": "execute_result"
    },
    {
     "data": {
      "image/png": "[encoded data removed]",
      "text/plain": [
       "<Figure size 432x288 with 1 Axes>"
      ]
     },
     "metadata": {
      "needs_background": "light"
     },
     "output_type": "display_data"
    }
   ],
   "source": [
    "references_df.length.plot(kind='box')\n",
    "references_df.length.describe()"
   ]
  },
  {
   "cell_type": "code",
   "execution_count": 38,
   "metadata": {},
   "outputs": [
    {
     "data": {
      "text/html": [
       "<div>\n",
       "<style scoped>\n",
       "    .dataframe tbody tr th:only-of-type {\n",
       "        vertical-align: middle;\n",
       "    }\n",
       "\n",
       "    .dataframe tbody tr th {\n",
       "        vertical-align: top;\n",
       "    }\n",
       "\n",
       "    .dataframe thead th {\n",
       "        text-align: right;\n",
       "    }\n",
       "</style>\n",
       "<table border=\"1\" class=\"dataframe\">\n",
       "  <thead>\n",
       "    <tr style=\"text-align: right;\">\n",
       "      <th></th>\n",
       "      <th>ref</th>\n",
       "      <th>file</th>\n",
       "      <th>length</th>\n",
       "      <th>initial</th>\n",
       "    </tr>\n",
       "  </thead>\n",
       "  <tbody>\n",
       "    <tr>\n",
       "      <th>766</th>\n",
       "      <td>OECD (2013). PISA 2012 Results. Paris: OECD.</td>\n",
       "      <td>core_import_268</td>\n",
       "      <td>44</td>\n",
       "      <td>O</td>\n",
       "    </tr>\n",
       "    <tr>\n",
       "      <th>1403</th>\n",
       "      <td>Wilensky, U. (1999). {NetLogo}.</td>\n",
       "      <td>core_import_1</td>\n",
       "      <td>31</td>\n",
       "      <td>W</td>\n",
       "    </tr>\n",
       "    <tr>\n",
       "      <th>3323</th>\n",
       "      <td>Spradley, J. P. (1980). Participant observation.</td>\n",
       "      <td>core_import_215</td>\n",
       "      <td>48</td>\n",
       "      <td>S</td>\n",
       "    </tr>\n",
       "    <tr>\n",
       "      <th>5050</th>\n",
       "      <td>1855</td>\n",
       "      <td>core_import_513</td>\n",
       "      <td>4</td>\n",
       "      <td>1</td>\n",
       "    </tr>\n",
       "    <tr>\n",
       "      <th>5133</th>\n",
       "      <td>Twenge, J. (2017). iGen. New York: Atria Books.</td>\n",
       "      <td>core_import_507</td>\n",
       "      <td>47</td>\n",
       "      <td>T</td>\n",
       "    </tr>\n",
       "    <tr>\n",
       "      <th>6007</th>\n",
       "      <td>Scott, J. (2017). Social network analysis. Sage.</td>\n",
       "      <td>core_import_475</td>\n",
       "      <td>48</td>\n",
       "      <td>S</td>\n",
       "    </tr>\n",
       "  </tbody>\n",
       "</table>\n",
       "</div>"
      ],
      "text/plain": [
       "                                                   ref             file  \\\n",
       "766       OECD (2013). PISA 2012 Results. Paris: OECD.  core_import_268   \n",
       "1403                   Wilensky, U. (1999). {NetLogo}.    core_import_1   \n",
       "3323  Spradley, J. P. (1980). Participant observation.  core_import_215   \n",
       "5050                                              1855  core_import_513   \n",
       "5133   Twenge, J. (2017). iGen. New York: Atria Books.  core_import_507   \n",
       "6007  Scott, J. (2017). Social network analysis. Sage.  core_import_475   \n",
       "\n",
       "      length initial  \n",
       "766       44       O  \n",
       "1403      31       W  \n",
       "3323      48       S  \n",
       "5050       4       1  \n",
       "5133      47       T  \n",
       "6007      48       S  "
      ]
     },
     "execution_count": 38,
     "metadata": {},
     "output_type": "execute_result"
    }
   ],
   "source": [
    "references_df[references_df.length < 50]"
   ]
  },
  {
   "cell_type": "code",
   "execution_count": 39,
   "metadata": {},
   "outputs": [],
   "source": [
    "references_df = references_df[references_df.length > 30]"
   ]
  },
  {
   "cell_type": "markdown",
   "metadata": {},
   "source": [
    "No loss in the super short one, 1855 is from the previous page, and the only other invalid citation is The press reference. We do not need this part,"
   ]
  },
  {
   "cell_type": "markdown",
   "metadata": {},
   "source": [
    "Inspecting the iverly long references, we see that they all come from papers that were not split up properly/do not match the metadata. Hence we can discard them without any loss."
   ]
  },
  {
   "cell_type": "code",
   "execution_count": 40,
   "metadata": {},
   "outputs": [
    {
     "data": {
      "text/plain": [
       "401     core_import_323\n",
       "461     core_import_269\n",
       "1108    core_import_523\n",
       "4736    core_import_276\n",
       "Name: file, dtype: object"
      ]
     },
     "execution_count": 40,
     "metadata": {},
     "output_type": "execute_result"
    }
   ],
   "source": [
    "references_df[references_df.length > 600].file.drop_duplicates()"
   ]
  },
  {
   "cell_type": "markdown",
   "metadata": {},
   "source": [
    "Bad citing: import2015full_335, import2015short_192, import2016full_34, import2017_35, import2018_269, import2018_323, import2015short_1110"
   ]
  },
  {
   "cell_type": "markdown",
   "metadata": {},
   "source": [
    "Again, invalid citation is either from invalid file (import2016short_145) or actually valid but long citation"
   ]
  },
  {
   "cell_type": "markdown",
   "metadata": {},
   "source": [
    "We now chech the initial: We see that the method seems to work for most references, and that some references start with lower case letters, mostly due to different conventions between name writing, thing the dutch 'van'"
   ]
  },
  {
   "cell_type": "code",
   "execution_count": 41,
   "metadata": {},
   "outputs": [
    {
     "data": {
      "text/html": [
       "<div>\n",
       "<style scoped>\n",
       "    .dataframe tbody tr th:only-of-type {\n",
       "        vertical-align: middle;\n",
       "    }\n",
       "\n",
       "    .dataframe tbody tr th {\n",
       "        vertical-align: top;\n",
       "    }\n",
       "\n",
       "    .dataframe thead th {\n",
       "        text-align: right;\n",
       "    }\n",
       "</style>\n",
       "<table border=\"1\" class=\"dataframe\">\n",
       "  <thead>\n",
       "    <tr style=\"text-align: right;\">\n",
       "      <th></th>\n",
       "      <th>ref</th>\n",
       "      <th>file</th>\n",
       "      <th>length</th>\n",
       "      <th>initial</th>\n",
       "    </tr>\n",
       "  </thead>\n",
       "  <tbody>\n",
       "    <tr>\n",
       "      <th>492</th>\n",
       "      <td>Umphress, J. F. (2016). Parents as skilled kno...</td>\n",
       "      <td>core_import_269</td>\n",
       "      <td>224</td>\n",
       "      <td>U</td>\n",
       "    </tr>\n",
       "    <tr>\n",
       "      <th>3106</th>\n",
       "      <td>boyd, d. (2014). It’s complicated: The social ...</td>\n",
       "      <td>core_import_176</td>\n",
       "      <td>109</td>\n",
       "      <td>b</td>\n",
       "    </tr>\n",
       "    <tr>\n",
       "      <th>3920</th>\n",
       "      <td>Uttal, D. H., Meadow, N. G., Tipton, E., Hand,...</td>\n",
       "      <td>core_import_68</td>\n",
       "      <td>218</td>\n",
       "      <td>U</td>\n",
       "    </tr>\n",
       "    <tr>\n",
       "      <th>4021</th>\n",
       "      <td>Ullucci, K., &amp; Howard, T. (2015). Pathologizin...</td>\n",
       "      <td>core_import_171</td>\n",
       "      <td>387</td>\n",
       "      <td>U</td>\n",
       "    </tr>\n",
       "    <tr>\n",
       "      <th>4123</th>\n",
       "      <td>Çepni, S., Taş, E., &amp; Köse, S. (2006). The eff...</td>\n",
       "      <td>core_import_173</td>\n",
       "      <td>196</td>\n",
       "      <td>Ç</td>\n",
       "    </tr>\n",
       "    <tr>\n",
       "      <th>4412</th>\n",
       "      <td>hooks, b. (1994). Engaged Pedagogy. In Teachin...</td>\n",
       "      <td>core_import_370</td>\n",
       "      <td>137</td>\n",
       "      <td>h</td>\n",
       "    </tr>\n",
       "    <tr>\n",
       "      <th>4830</th>\n",
       "      <td>Ødegaard, M. (2003). Dramatic science. A criti...</td>\n",
       "      <td>core_import_466</td>\n",
       "      <td>129</td>\n",
       "      <td>Ø</td>\n",
       "    </tr>\n",
       "    <tr>\n",
       "      <th>4877</th>\n",
       "      <td>Çakır, M. P., Zemel, A., &amp; Stahl, G. (2009). T...</td>\n",
       "      <td>core_import_506</td>\n",
       "      <td>198</td>\n",
       "      <td>Ç</td>\n",
       "    </tr>\n",
       "    <tr>\n",
       "      <th>4915</th>\n",
       "      <td>Ullman, D. G. (2001). Robust decision-making f...</td>\n",
       "      <td>core_import_512</td>\n",
       "      <td>107</td>\n",
       "      <td>U</td>\n",
       "    </tr>\n",
       "    <tr>\n",
       "      <th>5574</th>\n",
       "      <td>hooks, b. (2015). Sisters of the yam: Black wo...</td>\n",
       "      <td>core_import_264</td>\n",
       "      <td>101</td>\n",
       "      <td>h</td>\n",
       "    </tr>\n",
       "    <tr>\n",
       "      <th>5853</th>\n",
       "      <td>Uttal, D. H., Meadow, N. G., Tipton, E., Hand,...</td>\n",
       "      <td>core_import_20</td>\n",
       "      <td>240</td>\n",
       "      <td>U</td>\n",
       "    </tr>\n",
       "  </tbody>\n",
       "</table>\n",
       "</div>"
      ],
      "text/plain": [
       "                                                    ref             file  \\\n",
       "492   Umphress, J. F. (2016). Parents as skilled kno...  core_import_269   \n",
       "3106  boyd, d. (2014). It’s complicated: The social ...  core_import_176   \n",
       "3920  Uttal, D. H., Meadow, N. G., Tipton, E., Hand,...   core_import_68   \n",
       "4021  Ullucci, K., & Howard, T. (2015). Pathologizin...  core_import_171   \n",
       "4123  Çepni, S., Taş, E., & Köse, S. (2006). The eff...  core_import_173   \n",
       "4412  hooks, b. (1994). Engaged Pedagogy. In Teachin...  core_import_370   \n",
       "4830  Ødegaard, M. (2003). Dramatic science. A criti...  core_import_466   \n",
       "4877  Çakır, M. P., Zemel, A., & Stahl, G. (2009). T...  core_import_506   \n",
       "4915  Ullman, D. G. (2001). Robust decision-making f...  core_import_512   \n",
       "5574  hooks, b. (2015). Sisters of the yam: Black wo...  core_import_264   \n",
       "5853  Uttal, D. H., Meadow, N. G., Tipton, E., Hand,...   core_import_20   \n",
       "\n",
       "      length initial  \n",
       "492      224       U  \n",
       "3106     109       b  \n",
       "3920     218       U  \n",
       "4021     387       U  \n",
       "4123     196       Ç  \n",
       "4412     137       h  \n",
       "4830     129       Ø  \n",
       "4877     198       Ç  \n",
       "4915     107       U  \n",
       "5574     101       h  \n",
       "5853     240       U  "
      ]
     },
     "execution_count": 41,
     "metadata": {},
     "output_type": "execute_result"
    }
   ],
   "source": [
    "r = references_df[references_df.initial.isin(references_df.initial.value_counts().tail(5).index)]\n",
    "r#[~r.file.duplicated()]"
   ]
  },
  {
   "cell_type": "markdown",
   "metadata": {},
   "source": [
    "non APA citations: import2018_523"
   ]
  },
  {
   "cell_type": "code",
   "execution_count": 42,
   "metadata": {},
   "outputs": [
    {
     "data": {
      "text/plain": [
       "<matplotlib.axes._subplots.AxesSubplot at 0x112cf83c8>"
      ]
     },
     "execution_count": 42,
     "metadata": {},
     "output_type": "execute_result"
    },
    {
     "data": {
      "image/png": "[encoded data removed]",
      "text/plain": [
       "<Figure size 1440x720 with 1 Axes>"
      ]
     },
     "metadata": {
      "needs_background": "light"
     },
     "output_type": "display_data"
    }
   ],
   "source": [
    "plt.figure(figsize=(20, 10))\n",
    "references_df.initial.value_counts().sort_values(ascending=True).plot(kind='barh')"
   ]
  },
  {
   "cell_type": "code",
   "execution_count": 43,
   "metadata": {},
   "outputs": [
    {
     "data": {
      "text/html": [
       "<div>\n",
       "<style scoped>\n",
       "    .dataframe tbody tr th:only-of-type {\n",
       "        vertical-align: middle;\n",
       "    }\n",
       "\n",
       "    .dataframe tbody tr th {\n",
       "        vertical-align: top;\n",
       "    }\n",
       "\n",
       "    .dataframe thead th {\n",
       "        text-align: right;\n",
       "    }\n",
       "</style>\n",
       "<table border=\"1\" class=\"dataframe\">\n",
       "  <thead>\n",
       "    <tr style=\"text-align: right;\">\n",
       "      <th></th>\n",
       "      <th>ref</th>\n",
       "      <th>file</th>\n",
       "      <th>length</th>\n",
       "      <th>initial</th>\n",
       "    </tr>\n",
       "  </thead>\n",
       "  <tbody>\n",
       "    <tr>\n",
       "      <th>3106</th>\n",
       "      <td>boyd, d. (2014). It’s complicated: The social ...</td>\n",
       "      <td>core_import_176</td>\n",
       "      <td>109</td>\n",
       "      <td>b</td>\n",
       "    </tr>\n",
       "  </tbody>\n",
       "</table>\n",
       "</div>"
      ],
      "text/plain": [
       "                                                    ref             file  \\\n",
       "3106  boyd, d. (2014). It’s complicated: The social ...  core_import_176   \n",
       "\n",
       "      length initial  \n",
       "3106     109       b  "
      ]
     },
     "execution_count": 43,
     "metadata": {},
     "output_type": "execute_result"
    }
   ],
   "source": [
    "#also correctly parsed i, e are fine, a are not too bad, leave it\n",
    "#only very few references are incorrect if they start by lowercase. we accept this\n",
    "#b is correct\n",
    "references_df[references_df['initial'] == 'b']"
   ]
  },
  {
   "cell_type": "markdown",
   "metadata": {},
   "source": [
    "Remove overly long references are they are due to badly parsed pdfs:"
   ]
  },
  {
   "cell_type": "code",
   "execution_count": 44,
   "metadata": {},
   "outputs": [],
   "source": [
    "references_df = references_df[(references_df.length < 800)]"
   ]
  },
  {
   "cell_type": "code",
   "execution_count": 45,
   "metadata": {},
   "outputs": [
    {
     "name": "stdout",
     "output_type": "stream",
     "text": [
      "We can parse references from 445 documents.\n"
     ]
    }
   ],
   "source": [
    "print('We can parse references from {} documents.'.format(references_df.file.value_counts().shape[0]))"
   ]
  },
  {
   "cell_type": "markdown",
   "metadata": {},
   "source": [
    "Example reference, where we can see that our parsing method works quite well:"
   ]
  },
  {
   "cell_type": "code",
   "execution_count": 46,
   "metadata": {},
   "outputs": [
    {
     "data": {
      "text/plain": [
       "['Gutiérrez, K. D., & Jurow, A. S. (2016). Social design experiments: Toward equity by design. Journal of the Learning Sciences, 25(4), 565-598.',\n",
       " 'Buechley, L., & Eisenberg, M. (2008). The LilyPad Arduino: Toward wearable engineering for everyone. IEEE Pervasive, 7, 12-15.',\n",
       " 'Buxton, C. A. (2010). Social Problem Solving Through Science: An Approach to Critical, Place-Based, Science Teaching and Learning. Equity & Excellence in Education, 43(1), 120–135.',\n",
       " 'Sawyer, R.K. (2003). Improvised Dialogues. Westport: Ablex Publishing.',\n",
       " 'Moss, C.M., & Brookhart, S.M. (2012). Learning Targets: Helping Students Aim for Understanding in Today’s Lesson. Alexandria, VA: ASCD.']"
      ]
     },
     "execution_count": 46,
     "metadata": {},
     "output_type": "execute_result"
    }
   ],
   "source": [
    "references_df[references_df.length < 200].sample(5).ref.tolist()"
   ]
  },
  {
   "cell_type": "markdown",
   "metadata": {},
   "source": [
    "# Approach to get author names from references:"
   ]
  },
  {
   "cell_type": "markdown",
   "metadata": {},
   "source": [
    "For APA style it is easy to extract the year and author of the cited reference, as we know that all authors are listed before (some time reference) Hence we extract the section before \"some time reference\" and then use the special way that a list of authors is cited in APA style to split up the authors:"
   ]
  },
  {
   "cell_type": "code",
   "execution_count": 47,
   "metadata": {},
   "outputs": [],
   "source": [
    "def get_authors(sentence, debug = False):\n",
    "    regex = r'[\\S\\s]*\\((18|19|20)\\d{2}[\\,\\ \\w\\d]*\\)'\n",
    "    if re.search(regex, sentence):\n",
    "        s = re.findall(regex, sentence)[0]\n",
    "        if len(s) > 9:\n",
    "            return (s)\n",
    "    elif debug:\n",
    "        return '#'+sentence\n",
    "    \n",
    "    return np.nan\n",
    "\n",
    "\n",
    "def get_authors_month(sentence, debug = False):\n",
    "    \n",
    "    #make sure sentence is encoded in the same way:\n",
    "    sentence = unicodedata.normalize('NFC', sentence)\n",
    "    regex = r'[\\p{L}\\,\\ \\.\\:\\;\\/\\&\\-\\'\\`\\(\\)\\’\\–\\¨\\…\\‐\\*\\´\\＆\\\\]*\\([\\,\\ \\p{L}\\d\\-]*(18|19|20)\\d{2}[\\,\\ \\p{L}\\d\\-]*\\)'\n",
    "    match_bad_year = r'[\\S\\s]*\\((18|19|20)\\d{2}\\/(18|19|20)\\d{2}\\)'\n",
    "    \n",
    "    match_press = r'[\\S\\s]*\\((i|I)n (P|p)ress|manuscript under review\\)'\n",
    "    match_forth = r'[\\S\\s]*\\((f|F)orthcoming\\)'\n",
    "    match_accepted = r'[\\S\\s]*\\((a|A)ccepted\\)'\n",
    "    match_submitted = r'[\\S\\s]*\\((s|S)ubmitted\\)'\n",
    "    match_underreview = r'[\\S\\s]*\\((u|U)nder (R|r)eview\\)'\n",
    "    \n",
    "    #sentence = sentence.lower()\n",
    "    if reg.match(regex, sentence):\n",
    "        s = reg.search(regex, sentence).group(0)\n",
    "        if len(s) > 9:\n",
    "            return s\n",
    "    elif re.match(match_bad_year, sentence):\n",
    "        return re.search(match_bad_year, sentence).group(0)\n",
    "    elif re.match(match_press, sentence):\n",
    "        return re.search(match_press, sentence).group(0)\n",
    "    elif re.match(match_forth, sentence):\n",
    "        return re.search(match_forth, sentence).group(0)\n",
    "    elif re.match(match_accepted, sentence):\n",
    "        return re.search(match_accepted, sentence).group(0)\n",
    "    elif re.match(match_submitted, sentence):\n",
    "        return re.search(match_submitted, sentence).group(0)\n",
    "    elif re.match(match_underreview, sentence):\n",
    "        return re.search(match_underreview, sentence).group(0)\n",
    "    \n",
    "    return np.nan"
   ]
  },
  {
   "cell_type": "markdown",
   "metadata": {},
   "source": [
    "Extract authors and month:"
   ]
  },
  {
   "cell_type": "code",
   "execution_count": 48,
   "metadata": {},
   "outputs": [],
   "source": [
    "references_df['ref_parsed'] = references_df.apply(lambda x: get_authors_month(x['ref']), axis=1)"
   ]
  },
  {
   "cell_type": "code",
   "execution_count": 49,
   "metadata": {},
   "outputs": [
    {
     "name": "stdout",
     "output_type": "stream",
     "text": [
      "Percentage of unparsed references: 0.00\n",
      "Number of unparsed references:  10\n",
      "Number of properly parsed references:  6020\n"
     ]
    }
   ],
   "source": [
    "print('Percentage of unparsed references: {:0.2f}'.format(references_df.ref_parsed.isna().sum()/references_df.ref_parsed.shape[0]))\n",
    "print('Number of unparsed references: ', references_df[references_df.ref_parsed.isna()].ref.shape[0])\n",
    "print('Number of properly parsed references: ', references_df.ref_parsed.shape[0])"
   ]
  },
  {
   "cell_type": "markdown",
   "metadata": {},
   "source": [
    "Taking a look at the unparsed files, we see that many references that could not be parsed are form manuals, or not cited propperly. We do not care about these and can thus discard them."
   ]
  },
  {
   "cell_type": "code",
   "execution_count": 50,
   "metadata": {},
   "outputs": [
    {
     "data": {
      "text/plain": [
       "['Shayan Doroudi and Emma Brunskill. The misidentified identifiability problem of Bayesian Knowledge Tracing. In Educational Data Mining, pages 143–149. International Educational Data Mining Society, 2017. Shayan Doroudi, Ece Kamar, Emma Brunskill, and Eric Horvitz. Toward a learning science for complex crowdsourcing tasks. In Proceedings of the 2016 CHI Conference on Human Factors in Computing Systems, pages 2623–2634. ACM, 2016. Shayan Doroudi, Vincent Aleven, and Emma Brunskill. Robust Evaluation Matrix: Towards a more principled offline exploration of instructional policies. In Proceedings of the Fourth (2017) ACM Conference on Learning@ Scale, pages 3–12. ACM, 2017. 1882',\n",
       " 'Activities. Journal of the Learning Sciences, (just-accepted).',\n",
       " 'Education. Submitted to International Journal of Science Education.',\n",
       " 'Mobile Augmented Reality Experimentation. In Technology Platform Innovations and Forthcoming Trends in Ubiquitous Learning (pp. 19-34). IGI Global.',\n",
       " 'Aarts, J. W. M., van Oers, A. M., Faber, M. J., Cohlen, B. J., Nelen, W. L. D. M., Kremer, J. A. M., & van',\n",
       " 'Barber, E.W. 1994. Women’s work - The first 20,000 years: Women, cloth and society in early times. New York: W.W. Norton.',\n",
       " 'American Association for the Advancement of Science (AAAS; 2016). Benchmarks for Science Literacy. New York, Oxford University Press. Retrieved from www.AAAS.org.',\n",
       " 'Due to space constraints please find the full Reference List here: http://bit.ly/youthlearningsocialmedia',\n",
       " 'Alaimo, S. & Hekman, S., Eds., Material Feminisms, Bloomington, IN: Indiana University Press.',\n",
       " 'Achieve, 2013. Next Generation Science Standards. Washington, D.C.: Achieve, Inc.']"
      ]
     },
     "execution_count": 50,
     "metadata": {},
     "output_type": "execute_result"
    }
   ],
   "source": [
    "references_df[references_df.ref_parsed.isna()].ref.tolist()  "
   ]
  },
  {
   "cell_type": "markdown",
   "metadata": {},
   "source": [
    "Taking a peek at how the dataframe currently looks like:"
   ]
  },
  {
   "cell_type": "code",
   "execution_count": 51,
   "metadata": {
    "scrolled": true
   },
   "outputs": [
    {
     "data": {
      "text/html": [
       "<div>\n",
       "<style scoped>\n",
       "    .dataframe tbody tr th:only-of-type {\n",
       "        vertical-align: middle;\n",
       "    }\n",
       "\n",
       "    .dataframe tbody tr th {\n",
       "        vertical-align: top;\n",
       "    }\n",
       "\n",
       "    .dataframe thead th {\n",
       "        text-align: right;\n",
       "    }\n",
       "</style>\n",
       "<table border=\"1\" class=\"dataframe\">\n",
       "  <thead>\n",
       "    <tr style=\"text-align: right;\">\n",
       "      <th></th>\n",
       "      <th>ref</th>\n",
       "      <th>file</th>\n",
       "      <th>length</th>\n",
       "      <th>initial</th>\n",
       "      <th>ref_parsed</th>\n",
       "    </tr>\n",
       "  </thead>\n",
       "  <tbody>\n",
       "    <tr>\n",
       "      <th>0</th>\n",
       "      <td>Burden, K., Aubusson, P., Brindley, S &amp; Schuck...</td>\n",
       "      <td>core_import_478</td>\n",
       "      <td>223</td>\n",
       "      <td>B</td>\n",
       "      <td>Burden, K., Aubusson, P., Brindley, S &amp; Schuck...</td>\n",
       "    </tr>\n",
       "    <tr>\n",
       "      <th>1</th>\n",
       "      <td>Ertmer, P. A., Ottenbreit-Leftwich, A. T., Sad...</td>\n",
       "      <td>core_import_478</td>\n",
       "      <td>208</td>\n",
       "      <td>E</td>\n",
       "      <td>Ertmer, P. A., Ottenbreit-Leftwich, A. T., Sad...</td>\n",
       "    </tr>\n",
       "    <tr>\n",
       "      <th>2</th>\n",
       "      <td>Fishman, B. J., Davis, E. A., &amp; Chan, C. K. K....</td>\n",
       "      <td>core_import_478</td>\n",
       "      <td>256</td>\n",
       "      <td>F</td>\n",
       "      <td>Fishman, B. J., Davis, E. A., &amp; Chan, C. K. K....</td>\n",
       "    </tr>\n",
       "    <tr>\n",
       "      <th>3</th>\n",
       "      <td>Goode, J. (2010). The digital identity divide:...</td>\n",
       "      <td>core_import_478</td>\n",
       "      <td>134</td>\n",
       "      <td>G</td>\n",
       "      <td>Goode, J. (2010)</td>\n",
       "    </tr>\n",
       "    <tr>\n",
       "      <th>4</th>\n",
       "      <td>Loveless, A., &amp; Williamson, B. (2013). Learnin...</td>\n",
       "      <td>core_import_478</td>\n",
       "      <td>150</td>\n",
       "      <td>L</td>\n",
       "      <td>Loveless, A., &amp; Williamson, B. (2013)</td>\n",
       "    </tr>\n",
       "  </tbody>\n",
       "</table>\n",
       "</div>"
      ],
      "text/plain": [
       "                                                 ref             file  length  \\\n",
       "0  Burden, K., Aubusson, P., Brindley, S & Schuck...  core_import_478     223   \n",
       "1  Ertmer, P. A., Ottenbreit-Leftwich, A. T., Sad...  core_import_478     208   \n",
       "2  Fishman, B. J., Davis, E. A., & Chan, C. K. K....  core_import_478     256   \n",
       "3  Goode, J. (2010). The digital identity divide:...  core_import_478     134   \n",
       "4  Loveless, A., & Williamson, B. (2013). Learnin...  core_import_478     150   \n",
       "\n",
       "  initial                                         ref_parsed  \n",
       "0       B  Burden, K., Aubusson, P., Brindley, S & Schuck...  \n",
       "1       E  Ertmer, P. A., Ottenbreit-Leftwich, A. T., Sad...  \n",
       "2       F  Fishman, B. J., Davis, E. A., & Chan, C. K. K....  \n",
       "3       G                                   Goode, J. (2010)  \n",
       "4       L              Loveless, A., & Williamson, B. (2013)  "
      ]
     },
     "execution_count": 51,
     "metadata": {},
     "output_type": "execute_result"
    }
   ],
   "source": [
    "references_df.head()"
   ]
  },
  {
   "cell_type": "markdown",
   "metadata": {},
   "source": [
    "# Extracting year of individual references:\n",
    "### Extracting the year of publication:\n",
    "\n",
    "Again we can use the structure of apa citations to extract the year of the citation, in case of 'in press' we just set the year to the year of the file:"
   ]
  },
  {
   "cell_type": "code",
   "execution_count": 52,
   "metadata": {},
   "outputs": [],
   "source": [
    "def extract_year(x, current_year):\n",
    "    match_press = r'\\(in press|submitted|under review|accepted|forthcoming'\n",
    "    years = r'\\([\\w\\d\\,\\ \\.\\-]*(18|19|20)\\d{2}[\\,\\ \\w\\d\\/\\-]*\\)'\n",
    "    year = re.search(years, x)\n",
    "    if re.search(match_press, x.lower()):\n",
    "        return current_year\n",
    "    if year:\n",
    "        year = year.group(0)\n",
    "        year = re.findall('\\d{4}', year)\n",
    "        return int(year[0])\n",
    "    else:\n",
    "        return np.nan"
   ]
  },
  {
   "cell_type": "code",
   "execution_count": 54,
   "metadata": {},
   "outputs": [
    {
     "data": {
      "text/html": [
       "<div>\n",
       "<style scoped>\n",
       "    .dataframe tbody tr th:only-of-type {\n",
       "        vertical-align: middle;\n",
       "    }\n",
       "\n",
       "    .dataframe tbody tr th {\n",
       "        vertical-align: top;\n",
       "    }\n",
       "\n",
       "    .dataframe thead th {\n",
       "        text-align: right;\n",
       "    }\n",
       "</style>\n",
       "<table border=\"1\" class=\"dataframe\">\n",
       "  <thead>\n",
       "    <tr style=\"text-align: right;\">\n",
       "      <th></th>\n",
       "      <th>ref</th>\n",
       "      <th>file</th>\n",
       "      <th>length</th>\n",
       "      <th>initial</th>\n",
       "      <th>ref_parsed</th>\n",
       "    </tr>\n",
       "  </thead>\n",
       "  <tbody>\n",
       "    <tr>\n",
       "      <th>0</th>\n",
       "      <td>Burden, K., Aubusson, P., Brindley, S &amp; Schuck...</td>\n",
       "      <td>core_import_478</td>\n",
       "      <td>223</td>\n",
       "      <td>B</td>\n",
       "      <td>Burden, K., Aubusson, P., Brindley, S &amp; Schuck...</td>\n",
       "    </tr>\n",
       "    <tr>\n",
       "      <th>1</th>\n",
       "      <td>Ertmer, P. A., Ottenbreit-Leftwich, A. T., Sad...</td>\n",
       "      <td>core_import_478</td>\n",
       "      <td>208</td>\n",
       "      <td>E</td>\n",
       "      <td>Ertmer, P. A., Ottenbreit-Leftwich, A. T., Sad...</td>\n",
       "    </tr>\n",
       "    <tr>\n",
       "      <th>2</th>\n",
       "      <td>Fishman, B. J., Davis, E. A., &amp; Chan, C. K. K....</td>\n",
       "      <td>core_import_478</td>\n",
       "      <td>256</td>\n",
       "      <td>F</td>\n",
       "      <td>Fishman, B. J., Davis, E. A., &amp; Chan, C. K. K....</td>\n",
       "    </tr>\n",
       "    <tr>\n",
       "      <th>3</th>\n",
       "      <td>Goode, J. (2010). The digital identity divide:...</td>\n",
       "      <td>core_import_478</td>\n",
       "      <td>134</td>\n",
       "      <td>G</td>\n",
       "      <td>Goode, J. (2010)</td>\n",
       "    </tr>\n",
       "    <tr>\n",
       "      <th>4</th>\n",
       "      <td>Loveless, A., &amp; Williamson, B. (2013). Learnin...</td>\n",
       "      <td>core_import_478</td>\n",
       "      <td>150</td>\n",
       "      <td>L</td>\n",
       "      <td>Loveless, A., &amp; Williamson, B. (2013)</td>\n",
       "    </tr>\n",
       "  </tbody>\n",
       "</table>\n",
       "</div>"
      ],
      "text/plain": [
       "                                                 ref             file  length  \\\n",
       "0  Burden, K., Aubusson, P., Brindley, S & Schuck...  core_import_478     223   \n",
       "1  Ertmer, P. A., Ottenbreit-Leftwich, A. T., Sad...  core_import_478     208   \n",
       "2  Fishman, B. J., Davis, E. A., & Chan, C. K. K....  core_import_478     256   \n",
       "3  Goode, J. (2010). The digital identity divide:...  core_import_478     134   \n",
       "4  Loveless, A., & Williamson, B. (2013). Learnin...  core_import_478     150   \n",
       "\n",
       "  initial                                         ref_parsed  \n",
       "0       B  Burden, K., Aubusson, P., Brindley, S & Schuck...  \n",
       "1       E  Ertmer, P. A., Ottenbreit-Leftwich, A. T., Sad...  \n",
       "2       F  Fishman, B. J., Davis, E. A., & Chan, C. K. K....  \n",
       "3       G                                   Goode, J. (2010)  \n",
       "4       L              Loveless, A., & Williamson, B. (2013)  "
      ]
     },
     "execution_count": 54,
     "metadata": {},
     "output_type": "execute_result"
    }
   ],
   "source": [
    "references_df.head()"
   ]
  },
  {
   "cell_type": "code",
   "execution_count": 55,
   "metadata": {},
   "outputs": [
    {
     "ename": "AttributeError",
     "evalue": "'NoneType' object has no attribute 'group'",
     "output_type": "error",
     "traceback": [
      "\u001b[0;31m---------------------------------------------------------------------------\u001b[0m",
      "\u001b[0;31mAttributeError\u001b[0m                            Traceback (most recent call last)",
      "\u001b[0;32m<ipython-input-55-77079e3046b0>\u001b[0m in \u001b[0;36m<module>\u001b[0;34m()\u001b[0m\n\u001b[0;32m----> 1\u001b[0;31m \u001b[0mreferences_df\u001b[0m\u001b[0;34m.\u001b[0m\u001b[0mfile\u001b[0m\u001b[0;34m.\u001b[0m\u001b[0mmap\u001b[0m\u001b[0;34m(\u001b[0m\u001b[0;32mlambda\u001b[0m \u001b[0mx\u001b[0m\u001b[0;34m:\u001b[0m \u001b[0mint\u001b[0m\u001b[0;34m(\u001b[0m\u001b[0mre\u001b[0m\u001b[0;34m.\u001b[0m\u001b[0msearch\u001b[0m\u001b[0;34m(\u001b[0m\u001b[0;34m'20[\\d]{2}'\u001b[0m\u001b[0;34m,\u001b[0m \u001b[0mx\u001b[0m\u001b[0;34m)\u001b[0m\u001b[0;34m.\u001b[0m\u001b[0mgroup\u001b[0m\u001b[0;34m(\u001b[0m\u001b[0;36m0\u001b[0m\u001b[0;34m)\u001b[0m\u001b[0;34m)\u001b[0m\u001b[0;34m)\u001b[0m\u001b[0;34m\u001b[0m\u001b[0m\n\u001b[0m",
      "\u001b[0;32m/Users/zhenchensu/anaconda2/envs/ada/lib/python3.5/site-packages/pandas/core/series.py\u001b[0m in \u001b[0;36mmap\u001b[0;34m(self, arg, na_action)\u001b[0m\n\u001b[1;32m   2996\u001b[0m         \"\"\"\n\u001b[1;32m   2997\u001b[0m         new_values = super(Series, self)._map_values(\n\u001b[0;32m-> 2998\u001b[0;31m             arg, na_action=na_action)\n\u001b[0m\u001b[1;32m   2999\u001b[0m         return self._constructor(new_values,\n\u001b[1;32m   3000\u001b[0m                                  index=self.index).__finalize__(self)\n",
      "\u001b[0;32m/Users/zhenchensu/anaconda2/envs/ada/lib/python3.5/site-packages/pandas/core/base.py\u001b[0m in \u001b[0;36m_map_values\u001b[0;34m(self, mapper, na_action)\u001b[0m\n\u001b[1;32m   1002\u001b[0m \u001b[0;34m\u001b[0m\u001b[0m\n\u001b[1;32m   1003\u001b[0m         \u001b[0;31m# mapper is a function\u001b[0m\u001b[0;34m\u001b[0m\u001b[0;34m\u001b[0m\u001b[0m\n\u001b[0;32m-> 1004\u001b[0;31m         \u001b[0mnew_values\u001b[0m \u001b[0;34m=\u001b[0m \u001b[0mmap_f\u001b[0m\u001b[0;34m(\u001b[0m\u001b[0mvalues\u001b[0m\u001b[0;34m,\u001b[0m \u001b[0mmapper\u001b[0m\u001b[0;34m)\u001b[0m\u001b[0;34m\u001b[0m\u001b[0m\n\u001b[0m\u001b[1;32m   1005\u001b[0m \u001b[0;34m\u001b[0m\u001b[0m\n\u001b[1;32m   1006\u001b[0m         \u001b[0;32mreturn\u001b[0m \u001b[0mnew_values\u001b[0m\u001b[0;34m\u001b[0m\u001b[0m\n",
      "\u001b[0;32mpandas/_libs/src/inference.pyx\u001b[0m in \u001b[0;36mpandas._libs.lib.map_infer\u001b[0;34m()\u001b[0m\n",
      "\u001b[0;32m<ipython-input-55-77079e3046b0>\u001b[0m in \u001b[0;36m<lambda>\u001b[0;34m(x)\u001b[0m\n\u001b[0;32m----> 1\u001b[0;31m \u001b[0mreferences_df\u001b[0m\u001b[0;34m.\u001b[0m\u001b[0mfile\u001b[0m\u001b[0;34m.\u001b[0m\u001b[0mmap\u001b[0m\u001b[0;34m(\u001b[0m\u001b[0;32mlambda\u001b[0m \u001b[0mx\u001b[0m\u001b[0;34m:\u001b[0m \u001b[0mint\u001b[0m\u001b[0;34m(\u001b[0m\u001b[0mre\u001b[0m\u001b[0;34m.\u001b[0m\u001b[0msearch\u001b[0m\u001b[0;34m(\u001b[0m\u001b[0;34m'20[\\d]{2}'\u001b[0m\u001b[0;34m,\u001b[0m \u001b[0mx\u001b[0m\u001b[0;34m)\u001b[0m\u001b[0;34m.\u001b[0m\u001b[0mgroup\u001b[0m\u001b[0;34m(\u001b[0m\u001b[0;36m0\u001b[0m\u001b[0;34m)\u001b[0m\u001b[0;34m)\u001b[0m\u001b[0;34m)\u001b[0m\u001b[0;34m\u001b[0m\u001b[0m\n\u001b[0m",
      "\u001b[0;31mAttributeError\u001b[0m: 'NoneType' object has no attribute 'group'"
     ]
    }
   ],
   "source": [
    "references_df.file.map(lambda x: int(re.search('20[\\d]{2}', x).group(0)))"
   ]
  },
  {
   "cell_type": "code",
   "execution_count": 53,
   "metadata": {},
   "outputs": [
    {
     "ename": "AttributeError",
     "evalue": "'NoneType' object has no attribute 'group'",
     "output_type": "error",
     "traceback": [
      "\u001b[0;31m---------------------------------------------------------------------------\u001b[0m",
      "\u001b[0;31mAttributeError\u001b[0m                            Traceback (most recent call last)",
      "\u001b[0;32m<ipython-input-53-08bfe3b378ff>\u001b[0m in \u001b[0;36m<module>\u001b[0;34m()\u001b[0m\n\u001b[0;32m----> 1\u001b[0;31m \u001b[0mreferences_df\u001b[0m\u001b[0;34m[\u001b[0m\u001b[0;34m'pub_year'\u001b[0m\u001b[0;34m]\u001b[0m \u001b[0;34m=\u001b[0m \u001b[0mreferences_df\u001b[0m\u001b[0;34m.\u001b[0m\u001b[0mfile\u001b[0m\u001b[0;34m.\u001b[0m\u001b[0mmap\u001b[0m\u001b[0;34m(\u001b[0m\u001b[0;32mlambda\u001b[0m \u001b[0mx\u001b[0m\u001b[0;34m:\u001b[0m \u001b[0mint\u001b[0m\u001b[0;34m(\u001b[0m\u001b[0mre\u001b[0m\u001b[0;34m.\u001b[0m\u001b[0msearch\u001b[0m\u001b[0;34m(\u001b[0m\u001b[0;34m'20[\\d]{2}'\u001b[0m\u001b[0;34m,\u001b[0m \u001b[0mx\u001b[0m\u001b[0;34m)\u001b[0m\u001b[0;34m.\u001b[0m\u001b[0mgroup\u001b[0m\u001b[0;34m(\u001b[0m\u001b[0;36m0\u001b[0m\u001b[0;34m)\u001b[0m\u001b[0;34m)\u001b[0m\u001b[0;34m)\u001b[0m\u001b[0;34m\u001b[0m\u001b[0m\n\u001b[0m",
      "\u001b[0;32m/Users/zhenchensu/anaconda2/envs/ada/lib/python3.5/site-packages/pandas/core/series.py\u001b[0m in \u001b[0;36mmap\u001b[0;34m(self, arg, na_action)\u001b[0m\n\u001b[1;32m   2996\u001b[0m         \"\"\"\n\u001b[1;32m   2997\u001b[0m         new_values = super(Series, self)._map_values(\n\u001b[0;32m-> 2998\u001b[0;31m             arg, na_action=na_action)\n\u001b[0m\u001b[1;32m   2999\u001b[0m         return self._constructor(new_values,\n\u001b[1;32m   3000\u001b[0m                                  index=self.index).__finalize__(self)\n",
      "\u001b[0;32m/Users/zhenchensu/anaconda2/envs/ada/lib/python3.5/site-packages/pandas/core/base.py\u001b[0m in \u001b[0;36m_map_values\u001b[0;34m(self, mapper, na_action)\u001b[0m\n\u001b[1;32m   1002\u001b[0m \u001b[0;34m\u001b[0m\u001b[0m\n\u001b[1;32m   1003\u001b[0m         \u001b[0;31m# mapper is a function\u001b[0m\u001b[0;34m\u001b[0m\u001b[0;34m\u001b[0m\u001b[0m\n\u001b[0;32m-> 1004\u001b[0;31m         \u001b[0mnew_values\u001b[0m \u001b[0;34m=\u001b[0m \u001b[0mmap_f\u001b[0m\u001b[0;34m(\u001b[0m\u001b[0mvalues\u001b[0m\u001b[0;34m,\u001b[0m \u001b[0mmapper\u001b[0m\u001b[0;34m)\u001b[0m\u001b[0;34m\u001b[0m\u001b[0m\n\u001b[0m\u001b[1;32m   1005\u001b[0m \u001b[0;34m\u001b[0m\u001b[0m\n\u001b[1;32m   1006\u001b[0m         \u001b[0;32mreturn\u001b[0m \u001b[0mnew_values\u001b[0m\u001b[0;34m\u001b[0m\u001b[0m\n",
      "\u001b[0;32mpandas/_libs/src/inference.pyx\u001b[0m in \u001b[0;36mpandas._libs.lib.map_infer\u001b[0;34m()\u001b[0m\n",
      "\u001b[0;32m<ipython-input-53-08bfe3b378ff>\u001b[0m in \u001b[0;36m<lambda>\u001b[0;34m(x)\u001b[0m\n\u001b[0;32m----> 1\u001b[0;31m \u001b[0mreferences_df\u001b[0m\u001b[0;34m[\u001b[0m\u001b[0;34m'pub_year'\u001b[0m\u001b[0;34m]\u001b[0m \u001b[0;34m=\u001b[0m \u001b[0mreferences_df\u001b[0m\u001b[0;34m.\u001b[0m\u001b[0mfile\u001b[0m\u001b[0;34m.\u001b[0m\u001b[0mmap\u001b[0m\u001b[0;34m(\u001b[0m\u001b[0;32mlambda\u001b[0m \u001b[0mx\u001b[0m\u001b[0;34m:\u001b[0m \u001b[0mint\u001b[0m\u001b[0;34m(\u001b[0m\u001b[0mre\u001b[0m\u001b[0;34m.\u001b[0m\u001b[0msearch\u001b[0m\u001b[0;34m(\u001b[0m\u001b[0;34m'20[\\d]{2}'\u001b[0m\u001b[0;34m,\u001b[0m \u001b[0mx\u001b[0m\u001b[0;34m)\u001b[0m\u001b[0;34m.\u001b[0m\u001b[0mgroup\u001b[0m\u001b[0;34m(\u001b[0m\u001b[0;36m0\u001b[0m\u001b[0;34m)\u001b[0m\u001b[0;34m)\u001b[0m\u001b[0;34m)\u001b[0m\u001b[0;34m\u001b[0m\u001b[0m\n\u001b[0m",
      "\u001b[0;31mAttributeError\u001b[0m: 'NoneType' object has no attribute 'group'"
     ]
    }
   ],
   "source": [
    "references_df['pub_year'] = references_df.file.map(lambda x: int(re.search('20[\\d]{2}', x).group(0)))"
   ]
  },
  {
   "cell_type": "code",
   "execution_count": 48,
   "metadata": {},
   "outputs": [],
   "source": [
    "references_df.loc[~references_df.ref_parsed.isna(),'year'] = references_df[~references_df.ref_parsed.isna()].apply(\n",
    "    lambda x: extract_year(x.ref_parsed, x.pub_year), axis=1)"
   ]
  },
  {
   "cell_type": "code",
   "execution_count": 49,
   "metadata": {},
   "outputs": [
    {
     "data": {
      "text/plain": [
       "(0, 7)"
      ]
     },
     "execution_count": 49,
     "metadata": {},
     "output_type": "execute_result"
    }
   ],
   "source": [
    "references_df[references_df.year.isna() & references_df.ref_parsed.notna()].shape"
   ]
  },
  {
   "cell_type": "code",
   "execution_count": 50,
   "metadata": {},
   "outputs": [
    {
     "data": {
      "text/plain": [
       "[]"
      ]
     },
     "execution_count": 50,
     "metadata": {},
     "output_type": "execute_result"
    }
   ],
   "source": [
    "references_df[references_df.year.isna() & references_df.ref_parsed.notna()].ref_parsed.tolist()"
   ]
  },
  {
   "cell_type": "markdown",
   "metadata": {},
   "source": [
    "## Look at extracting individual  author names:"
   ]
  },
  {
   "cell_type": "markdown",
   "metadata": {},
   "source": [
    "For now we look only the the authors that come up in any citation in the paper. So we do not care about order or the specific reference they are associated with:"
   ]
  },
  {
   "cell_type": "markdown",
   "metadata": {},
   "source": [
    "We again use a regex to extract neighbours, but in the end we use the approach of spliting up the file after a ., or an and or & or ;"
   ]
  },
  {
   "cell_type": "code",
   "execution_count": 51,
   "metadata": {},
   "outputs": [
    {
     "data": {
      "text/plain": [
       "['Yoon, S.,',\n",
       " 'Anderson, E.,',\n",
       " 'Evans, C.,',\n",
       " 'Park, M.,',\n",
       " 'Sheldon, J.,',\n",
       " 'Schoenfeld, I.,',\n",
       " 'Wendel, D.,',\n",
       " 'Scheintaub, H.,',\n",
       " 'Klopfer, E.']"
      ]
     },
     "execution_count": 51,
     "metadata": {},
     "output_type": "execute_result"
    }
   ],
   "source": [
    "authors = 'Yoon, S., Anderson, E., Koehler-Yom, Evans, C., Park, M., J., Sheldon, J., Schoenfeld, I., Wendel, D., Scheintaub, H., Klopfer, E.'\n",
    "\n",
    "re.findall(r'([A-Z][^\\W\\d_\\-]*\\,?\\&? [A-Z]\\.\\,?)', authors)"
   ]
  },
  {
   "cell_type": "code",
   "execution_count": 52,
   "metadata": {},
   "outputs": [],
   "source": [
    "regex = r'([\\w\\-]*[\\,] [A-Z\\.\\ ]+[\\&\\,]?)'"
   ]
  },
  {
   "cell_type": "code",
   "execution_count": 53,
   "metadata": {},
   "outputs": [
    {
     "data": {
      "text/plain": [
       "['Selwyn N. ']"
      ]
     },
     "execution_count": 53,
     "metadata": {},
     "output_type": "execute_result"
    }
   ],
   "source": [
    "#extract authors and clean strings a bit\n",
    "author_split = r'([\\p{L}\\-]*[\\,] [\\p{L}\\.\\ \\-]*[\\&\\,\\.]?)'\n",
    "author_split_2 = r'([\\p{L}\\-\\.\\ ]* [\\p{L}\\. \\ \\-]*[\\,\\.]?)'\n",
    "\n",
    "reg.findall(author_split_2, 'Selwyn N. (2007)')"
   ]
  },
  {
   "cell_type": "markdown",
   "metadata": {},
   "source": [
    "This function implements the searching for individual authors:"
   ]
  },
  {
   "cell_type": "code",
   "execution_count": 54,
   "metadata": {},
   "outputs": [],
   "source": [
    "def extract_author(x):\n",
    "    author_split = r'\\.\\,| & | and |;'\n",
    "    list_authors = reg.split(author_split, x)\n",
    "    list_authors = [name.replace('&', '').replace(',', '').strip() for name in list_authors]\n",
    "    #remove end of string that isn't name\n",
    "    list_authors = [re.sub(r'\\([\\s\\S]*\\)|\\.\\.\\.|…| et al.|\\.', '', name).strip() for name in list_authors if len(name) > 0]\n",
    "    list_authors = [name for name in list_authors if len(name) > 0]\n",
    "    return list_authors"
   ]
  },
  {
   "cell_type": "markdown",
   "metadata": {},
   "source": [
    "We get the individual authors and then change the structure of the dataframe to have one author column containing a single author."
   ]
  },
  {
   "cell_type": "code",
   "execution_count": 55,
   "metadata": {},
   "outputs": [],
   "source": [
    "references_df['authors'] =  references_df[~references_df.ref_parsed.isna()].ref_parsed.map(lambda x: extract_author(x))\n",
    "\n",
    "#go from a list of authors to on author per row\n",
    "\n",
    "tags = references_df.authors.apply(pd.Series)\n",
    "tags = tags.rename(columns = lambda x : 'tag_' + str(x))\n",
    "\n",
    "df = pd.concat([references_df, tags], axis=1)\n",
    "tag_cols = [c for c in df.columns if 'tag' not in c]\n",
    "df = df.melt(id_vars=tag_cols)\n",
    "\n",
    "df['author'] = df['value']\n",
    "df = df[df.value.notna()].reset_index(drop=True)\n",
    "del df['variable'], df['authors'], df['value']"
   ]
  },
  {
   "cell_type": "markdown",
   "metadata": {},
   "source": [
    "We now check the result we get sofar:"
   ]
  },
  {
   "cell_type": "code",
   "execution_count": 56,
   "metadata": {},
   "outputs": [
    {
     "data": {
      "text/plain": [
       "0               Lave J\n",
       "1            Miles M B\n",
       "2              Pea R D\n",
       "3             Rogoff B\n",
       "4              Shirk J\n",
       "5             Gomoll A\n",
       "6             Gomoll A\n",
       "7     Hmelo-Silver C E\n",
       "8            Mondada L\n",
       "9          Knoblauch H\n",
       "10            Schaal S\n",
       "11           Booth J L\n",
       "12            Booth JL\n",
       "13          Empson S B\n",
       "14          McNeil N M\n",
       "15           Siegler R\n",
       "16         Siegler R S\n",
       "17         Siegler R S\n",
       "18         Siegler R S\n",
       "19                Wu H\n",
       "Name: author, dtype: object"
      ]
     },
     "execution_count": 56,
     "metadata": {},
     "output_type": "execute_result"
    }
   ],
   "source": [
    "df.author.head(20)"
   ]
  },
  {
   "cell_type": "markdown",
   "metadata": {},
   "source": [
    "This seems to work quite well, but lets check the short names to in case we have outliers:\n",
    "\n",
    "We see that there are some issues, but overall not that many"
   ]
  },
  {
   "cell_type": "code",
   "execution_count": 57,
   "metadata": {},
   "outputs": [
    {
     "data": {
      "text/plain": [
       "L    4\n",
       "K    3\n",
       "M    3\n",
       "J    3\n",
       "Z    1\n",
       "W    1\n",
       "D    1\n",
       "C    1\n",
       "Name: author, dtype: int64"
      ]
     },
     "execution_count": 57,
     "metadata": {},
     "output_type": "execute_result"
    }
   ],
   "source": [
    "df[df.author.map(lambda x: len(x) < 2)].author.value_counts()"
   ]
  },
  {
   "cell_type": "markdown",
   "metadata": {},
   "source": [
    "Here we see that the issues are to to irregular listing of names. It makes sense that we have issues extracting these strings:"
   ]
  },
  {
   "cell_type": "code",
   "execution_count": 58,
   "metadata": {},
   "outputs": [
    {
     "data": {
      "text/plain": [
       "['Buckingham Shum, S., Knight, S., McNamara, D., Allen, L., K. ., Betik, D., & Crossley, S. (2016)',\n",
       " 'Glenberg, A., M., Willford, J., Gibson, B., Goldberg, A., & Zhu, X. (2012)',\n",
       " 'Strijbos, J. W., Martens, R., L., Prins, F. J., & Jochems, W. M. G. (2006)',\n",
       " 'Howell, J., Tofel-Grehl, C., Fields., D., & Duchamp. G. (2016)',\n",
       " 'Schneider, B., Sharma., K., Cuendet, S., Zufferey, G., Dillenbourg, P., & Pea, R. (2016)']"
      ]
     },
     "execution_count": 58,
     "metadata": {},
     "output_type": "execute_result"
    }
   ],
   "source": [
    "s = df[df.author.map(lambda x: len(x) < 2)].sample(5)\n",
    "\n",
    "s.ref_parsed.tolist()"
   ]
  },
  {
   "cell_type": "code",
   "execution_count": 59,
   "metadata": {},
   "outputs": [
    {
     "data": {
      "text/plain": [
       "['K', 'M', 'L', 'D', 'K']"
      ]
     },
     "execution_count": 59,
     "metadata": {},
     "output_type": "execute_result"
    }
   ],
   "source": [
    "s.author.tolist()"
   ]
  },
  {
   "cell_type": "code",
   "execution_count": 60,
   "metadata": {},
   "outputs": [
    {
     "data": {
      "text/plain": [
       "[]"
      ]
     },
     "execution_count": 60,
     "metadata": {},
     "output_type": "execute_result"
    }
   ],
   "source": [
    "df[df.author == 'M. Chui B. Brown J. Bughin R. Dobbs C. Roxburgh et al.'].ref_parsed.tolist()"
   ]
  },
  {
   "cell_type": "code",
   "execution_count": 61,
   "metadata": {},
   "outputs": [
    {
     "data": {
      "text/plain": [
       "['Manyika J', 'M Chui B Brown J Bughin R Dobbs C Roxburgh']"
      ]
     },
     "execution_count": 61,
     "metadata": {},
     "output_type": "execute_result"
    }
   ],
   "source": [
    "extract_author('Manyika, J., M. Chui, B. Brown, J. Bughin, R. Dobbs, C. Roxburgh, et al. (2011)')"
   ]
  },
  {
   "cell_type": "markdown",
   "metadata": {},
   "source": [
    "When we look at the extra logn names, we ca also see that the extaction works reasonably well:\n",
    "\n",
    "(again bearing in mind that some people do not follow the conventions, but there are so few of them that we will exclude them)"
   ]
  },
  {
   "cell_type": "code",
   "execution_count": 62,
   "metadata": {},
   "outputs": [
    {
     "data": {
      "text/plain": [
       "Design-Based Research Collective                                                                    7\n",
       "National Academies of Sciences Engineering                                                          5\n",
       "Common Core State Standards Initiative                                                              4\n",
       "National Academy of Engineering                                                                     4\n",
       "The Design-Based Research Collective                                                                4\n",
       "National Council of Teachers of Mathematics                                                         3\n",
       "The Politics of Learning Writing Collective                                                         3\n",
       "National Governors Association Center for Best Practices                                            3\n",
       "National Science Teachers Association                                                               2\n",
       "Knowledge Forum Japan Research Group                                                                2\n",
       "Interaction IEEE Transactions on Learning Technologies                                              2\n",
       "* References marked with an asterisk indicate studies included in the review  * Anderson K T        2\n",
       "National Center for Education Statistics                                                            2\n",
       "M Chui B Brown J Bughin R Dobbs C Roxburgh                                                          2\n",
       "Finnish National Board of Education                                                                 2\n",
       "the Council of Chief State School                                                                   2\n",
       "Moher D Liberati A Tetzlaff J Altman DG The PRISMA Group                                            1\n",
       "National Science Foundation National Center for Science                                             1\n",
       "Moss-Racusin CA Dovidio JF Brescoll VL Graham MJ                                                    1\n",
       "Howard Hughes Medical Institute                                                                     1\n",
       "International Publishing Shaffer D W                                                                1\n",
       "Design Based Research Collective                                                                    1\n",
       "Exposition Salt Lake City UT US Department of Education                                             1\n",
       "Organisation for Economic Co-operation                                                              1\n",
       "International Society for Technology in Education                                                   1\n",
       "Middle School Mathematics through Applications Project Group                                        1\n",
       "National Research Council Committee on Early Childhood Mathematics                                  1\n",
       "National Academies Press Rivard L O P                                                               1\n",
       "the Knowledge Transfer Study Group                                                                  1\n",
       "Cambridge University Press Edelsbrunner P A                                                         1\n",
       "                                                                                                   ..\n",
       "Taylor KH  Learning along lines: Locative literacies for reading                                    1\n",
       "Cambridge University Press New York Tan S C                                                         1\n",
       "Educational Research Association Sherin M G                                                         1\n",
       "Next Generation Science Standards                                                                   1\n",
       "de los Angeles Constantino-Gonzalez M                                                               1\n",
       "Oliver Ferschke Iris Howley Gaurav Tomar Diyi Yang C R                                              1\n",
       "functions: Foundational ways of thinking in mathematics In J Cai                                    1\n",
       "United States Department of Education Office of Educational Technology                              1\n",
       "Snyder Michael Beenen David Salesin David Baker Zoran Popović                                       1\n",
       "National Research Council of the National Academies                                                 1\n",
       "Singapore Ministry of Education                                                                     1\n",
       "Leu D J Gregory McVerry J Ian O'Byrne W                                                             1\n",
       "Ras Eric Ralf Carbon Björn Decker                                                                   1\n",
       "Council of Chief State School Officers                                                              1\n",
       "Cobb S Millen L Glover T Hawkins T Patel H Eastgate R Parsons S                                     1\n",
       "Center for Education Statistics US Department of Education Statistical Analysis Report              1\n",
       "Politics of Learning Writing Collective The The learning sciences in a new era of US nationalism    1\n",
       "Ackerman N Atherton T Deconinck W Falk M Garmon S Henry E                                           1\n",
       "Erlbaum Associates Organization for Economic Co-operation                                           1\n",
       "International Conference on Supporting Group Work Rosé C                                            1\n",
       "Politics of Learning Writing Collective                                                             1\n",
       "American Association for the Advancement of Science                                                 1\n",
       "writing the city Journal of the Learning Sciences                                                   1\n",
       "Metropolitan University Fletcher-Watson S                                                           1\n",
       "National Governors Association Center for Best Practices Council of Chief State School Officers     1\n",
       "Kolodner Janet L David Crismond Jackie Gray Jennifer Holbrook                                       1\n",
       "Australian Curriculum Studies Association                                                           1\n",
       "Carlson M P  Variation covariation                                                                  1\n",
       "Next Generation Science Standards Lead States                                                       1\n",
       "National Center for Educational Statistics                                                          1\n",
       "Name: author, Length: 69, dtype: int64"
      ]
     },
     "execution_count": 62,
     "metadata": {},
     "output_type": "execute_result"
    }
   ],
   "source": [
    "df[df.author.map(lambda x: len(x) > 30)].author.value_counts()"
   ]
  },
  {
   "cell_type": "code",
   "execution_count": 65,
   "metadata": {},
   "outputs": [
    {
     "data": {
      "text/html": [
       "<div>\n",
       "<style scoped>\n",
       "    .dataframe tbody tr th:only-of-type {\n",
       "        vertical-align: middle;\n",
       "    }\n",
       "\n",
       "    .dataframe tbody tr th {\n",
       "        vertical-align: top;\n",
       "    }\n",
       "\n",
       "    .dataframe thead th {\n",
       "        text-align: right;\n",
       "    }\n",
       "</style>\n",
       "<table border=\"1\" class=\"dataframe\">\n",
       "  <thead>\n",
       "    <tr style=\"text-align: right;\">\n",
       "      <th></th>\n",
       "      <th>ref</th>\n",
       "      <th>file</th>\n",
       "      <th>length</th>\n",
       "      <th>initial</th>\n",
       "      <th>ref_parsed</th>\n",
       "      <th>pub_year</th>\n",
       "      <th>year</th>\n",
       "      <th>author</th>\n",
       "    </tr>\n",
       "  </thead>\n",
       "  <tbody>\n",
       "    <tr>\n",
       "      <th>0</th>\n",
       "      <td>Lave, J., &amp; Wenger, E. (1991). Situated learni...</td>\n",
       "      <td>import2018_371</td>\n",
       "      <td>108</td>\n",
       "      <td>L</td>\n",
       "      <td>Lave, J., &amp; Wenger, E. (1991)</td>\n",
       "      <td>2018</td>\n",
       "      <td>1991.0</td>\n",
       "      <td>Lave J</td>\n",
       "    </tr>\n",
       "    <tr>\n",
       "      <th>1</th>\n",
       "      <td>Miles, M. B., Huberman, A. M., &amp; Saldana, J. (...</td>\n",
       "      <td>import2018_371</td>\n",
       "      <td>107</td>\n",
       "      <td>M</td>\n",
       "      <td>Miles, M. B., Huberman, A. M., &amp; Saldana, J. (...</td>\n",
       "      <td>2018</td>\n",
       "      <td>2013.0</td>\n",
       "      <td>Miles M B</td>\n",
       "    </tr>\n",
       "    <tr>\n",
       "      <th>2</th>\n",
       "      <td>Pea, R. D., Gomez, L. M., Edelson, D. C., Fish...</td>\n",
       "      <td>import2018_371</td>\n",
       "      <td>294</td>\n",
       "      <td>P</td>\n",
       "      <td>Pea, R. D., Gomez, L. M., Edelson, D. C., Fish...</td>\n",
       "      <td>2018</td>\n",
       "      <td>1997.0</td>\n",
       "      <td>Pea R D</td>\n",
       "    </tr>\n",
       "    <tr>\n",
       "      <th>3</th>\n",
       "      <td>Rogoff, B. (1995). Observing sociocultural act...</td>\n",
       "      <td>import2018_371</td>\n",
       "      <td>269</td>\n",
       "      <td>R</td>\n",
       "      <td>Rogoff, B. (1995)</td>\n",
       "      <td>2018</td>\n",
       "      <td>1995.0</td>\n",
       "      <td>Rogoff B</td>\n",
       "    </tr>\n",
       "    <tr>\n",
       "      <th>4</th>\n",
       "      <td>Shirk, J., Ballard, H., Wilderman, C., Phillip...</td>\n",
       "      <td>import2018_371</td>\n",
       "      <td>215</td>\n",
       "      <td>S</td>\n",
       "      <td>Shirk, J., Ballard, H., Wilderman, C., Phillip...</td>\n",
       "      <td>2018</td>\n",
       "      <td>2012.0</td>\n",
       "      <td>Shirk J</td>\n",
       "    </tr>\n",
       "    <tr>\n",
       "      <th>5</th>\n",
       "      <td>Gomoll, A., Šabanović, S., Tolar, E., Hmelo-Si...</td>\n",
       "      <td>import2018_417</td>\n",
       "      <td>288</td>\n",
       "      <td>G</td>\n",
       "      <td>Gomoll, A., Šabanović, S., Tolar, E., Hmelo-Si...</td>\n",
       "      <td>2018</td>\n",
       "      <td>2017.0</td>\n",
       "      <td>Gomoll A</td>\n",
       "    </tr>\n",
       "    <tr>\n",
       "      <th>6</th>\n",
       "      <td>Gomoll, A., Hmelo-Silver, C. E., Šabanović, S....</td>\n",
       "      <td>import2018_417</td>\n",
       "      <td>250</td>\n",
       "      <td>G</td>\n",
       "      <td>Gomoll, A., Hmelo-Silver, C. E., Šabanović, S....</td>\n",
       "      <td>2018</td>\n",
       "      <td>2016.0</td>\n",
       "      <td>Gomoll A</td>\n",
       "    </tr>\n",
       "    <tr>\n",
       "      <th>7</th>\n",
       "      <td>Hmelo-Silver, C. E., Jordan, R., Liu, L., &amp; Ch...</td>\n",
       "      <td>import2018_417</td>\n",
       "      <td>234</td>\n",
       "      <td>H</td>\n",
       "      <td>Hmelo-Silver, C. E., Jordan, R., Liu, L., &amp; Ch...</td>\n",
       "      <td>2018</td>\n",
       "      <td>2011.0</td>\n",
       "      <td>Hmelo-Silver C E</td>\n",
       "    </tr>\n",
       "    <tr>\n",
       "      <th>8</th>\n",
       "      <td>Mondada, L. (2006). Video recording as the ref...</td>\n",
       "      <td>import2018_417</td>\n",
       "      <td>298</td>\n",
       "      <td>M</td>\n",
       "      <td>Mondada, L. (2006)</td>\n",
       "      <td>2018</td>\n",
       "      <td>2006.0</td>\n",
       "      <td>Mondada L</td>\n",
       "    </tr>\n",
       "    <tr>\n",
       "      <th>9</th>\n",
       "      <td>Knoblauch, H., Schnettler, B., and Raab, J. (2...</td>\n",
       "      <td>import2018_417</td>\n",
       "      <td>280</td>\n",
       "      <td>K</td>\n",
       "      <td>Knoblauch, H., Schnettler, B., and Raab, J. (2...</td>\n",
       "      <td>2018</td>\n",
       "      <td>2006.0</td>\n",
       "      <td>Knoblauch H</td>\n",
       "    </tr>\n",
       "    <tr>\n",
       "      <th>10</th>\n",
       "      <td>Schaal, S. (2007). The new robotics—towards hu...</td>\n",
       "      <td>import2018_417</td>\n",
       "      <td>102</td>\n",
       "      <td>S</td>\n",
       "      <td>Schaal, S. (2007)</td>\n",
       "      <td>2018</td>\n",
       "      <td>2007.0</td>\n",
       "      <td>Schaal S</td>\n",
       "    </tr>\n",
       "    <tr>\n",
       "      <th>11</th>\n",
       "      <td>Booth, J. L., &amp; Newton, K. J. (2012). Fraction...</td>\n",
       "      <td>import2018_403</td>\n",
       "      <td>144</td>\n",
       "      <td>B</td>\n",
       "      <td>Booth, J. L., &amp; Newton, K. J. (2012)</td>\n",
       "      <td>2018</td>\n",
       "      <td>2012.0</td>\n",
       "      <td>Booth J L</td>\n",
       "    </tr>\n",
       "    <tr>\n",
       "      <th>12</th>\n",
       "      <td>Booth, J.L., Newton, K.J., Twiss-Garrity, L. (...</td>\n",
       "      <td>import2018_403</td>\n",
       "      <td>187</td>\n",
       "      <td>B</td>\n",
       "      <td>Booth, J.L., Newton, K.J., Twiss-Garrity, L. (...</td>\n",
       "      <td>2018</td>\n",
       "      <td>2014.0</td>\n",
       "      <td>Booth JL</td>\n",
       "    </tr>\n",
       "    <tr>\n",
       "      <th>13</th>\n",
       "      <td>Empson, S. B., &amp; Levi L. (2011). Extending chi...</td>\n",
       "      <td>import2018_403</td>\n",
       "      <td>117</td>\n",
       "      <td>E</td>\n",
       "      <td>Empson, S. B., &amp; Levi L. (2011)</td>\n",
       "      <td>2018</td>\n",
       "      <td>2011.0</td>\n",
       "      <td>Empson S B</td>\n",
       "    </tr>\n",
       "    <tr>\n",
       "      <th>14</th>\n",
       "      <td>McNeil, N. M. &amp; Alibali, M. W. (2004). You’ll ...</td>\n",
       "      <td>import2018_403</td>\n",
       "      <td>162</td>\n",
       "      <td>M</td>\n",
       "      <td>McNeil, N. M. &amp; Alibali, M. W. (2004)</td>\n",
       "      <td>2018</td>\n",
       "      <td>2004.0</td>\n",
       "      <td>McNeil N M</td>\n",
       "    </tr>\n",
       "    <tr>\n",
       "      <th>15</th>\n",
       "      <td>Siegler, R., Carpenter, T., Fennell, F., Geary...</td>\n",
       "      <td>import2018_403</td>\n",
       "      <td>314</td>\n",
       "      <td>S</td>\n",
       "      <td>Siegler, R., Carpenter, T., Fennell, F., Geary...</td>\n",
       "      <td>2018</td>\n",
       "      <td>2010.0</td>\n",
       "      <td>Siegler R</td>\n",
       "    </tr>\n",
       "    <tr>\n",
       "      <th>16</th>\n",
       "      <td>Siegler, R. S., &amp; Opfer, J. E. (2003). The dev...</td>\n",
       "      <td>import2018_403</td>\n",
       "      <td>176</td>\n",
       "      <td>S</td>\n",
       "      <td>Siegler, R. S., &amp; Opfer, J. E. (2003)</td>\n",
       "      <td>2018</td>\n",
       "      <td>2003.0</td>\n",
       "      <td>Siegler R S</td>\n",
       "    </tr>\n",
       "    <tr>\n",
       "      <th>17</th>\n",
       "      <td>Siegler, R. S., &amp; Pyke, A. A. (2012). Developm...</td>\n",
       "      <td>import2018_403</td>\n",
       "      <td>154</td>\n",
       "      <td>S</td>\n",
       "      <td>Siegler, R. S., &amp; Pyke, A. A. (2012)</td>\n",
       "      <td>2018</td>\n",
       "      <td>2012.0</td>\n",
       "      <td>Siegler R S</td>\n",
       "    </tr>\n",
       "    <tr>\n",
       "      <th>18</th>\n",
       "      <td>Siegler, R. S., Thompson, C. A., Schneider, M....</td>\n",
       "      <td>import2018_403</td>\n",
       "      <td>153</td>\n",
       "      <td>S</td>\n",
       "      <td>Siegler, R. S., Thompson, C. A., Schneider, M....</td>\n",
       "      <td>2018</td>\n",
       "      <td>2011.0</td>\n",
       "      <td>Siegler R S</td>\n",
       "    </tr>\n",
       "    <tr>\n",
       "      <th>19</th>\n",
       "      <td>Wu, H. (2001). How to prepare students for alg...</td>\n",
       "      <td>import2018_403</td>\n",
       "      <td>84</td>\n",
       "      <td>W</td>\n",
       "      <td>Wu, H. (2001)</td>\n",
       "      <td>2018</td>\n",
       "      <td>2001.0</td>\n",
       "      <td>Wu H</td>\n",
       "    </tr>\n",
       "    <tr>\n",
       "      <th>20</th>\n",
       "      <td>Dweck, C. (2006). Mindset: The new psychology ...</td>\n",
       "      <td>import2018_365</td>\n",
       "      <td>85</td>\n",
       "      <td>D</td>\n",
       "      <td>Dweck, C. (2006)</td>\n",
       "      <td>2018</td>\n",
       "      <td>2006.0</td>\n",
       "      <td>Dweck C</td>\n",
       "    </tr>\n",
       "    <tr>\n",
       "      <th>21</th>\n",
       "      <td>Martinez, S., &amp; Stager, G. (2013). Invent to l...</td>\n",
       "      <td>import2018_365</td>\n",
       "      <td>155</td>\n",
       "      <td>M</td>\n",
       "      <td>Martinez, S., &amp; Stager, G. (2013)</td>\n",
       "      <td>2018</td>\n",
       "      <td>2013.0</td>\n",
       "      <td>Martinez S</td>\n",
       "    </tr>\n",
       "    <tr>\n",
       "      <th>22</th>\n",
       "      <td>Resnick, M., &amp; Rosenbaum, E. (2013). Designing...</td>\n",
       "      <td>import2018_365</td>\n",
       "      <td>207</td>\n",
       "      <td>R</td>\n",
       "      <td>Resnick, M., &amp; Rosenbaum, E. (2013)</td>\n",
       "      <td>2018</td>\n",
       "      <td>2013.0</td>\n",
       "      <td>Resnick M</td>\n",
       "    </tr>\n",
       "    <tr>\n",
       "      <th>23</th>\n",
       "      <td>Vossoughi, S., Escudé, M., Kong, F., &amp; Hooper,...</td>\n",
       "      <td>import2018_365</td>\n",
       "      <td>272</td>\n",
       "      <td>V</td>\n",
       "      <td>Vossoughi, S., Escudé, M., Kong, F., &amp; Hooper,...</td>\n",
       "      <td>2018</td>\n",
       "      <td>2013.0</td>\n",
       "      <td>Vossoughi S</td>\n",
       "    </tr>\n",
       "    <tr>\n",
       "      <th>24</th>\n",
       "      <td>Wallander, L. (2009). 25 years of factorial su...</td>\n",
       "      <td>import2018_365</td>\n",
       "      <td>115</td>\n",
       "      <td>W</td>\n",
       "      <td>Wallander, L. (2009)</td>\n",
       "      <td>2018</td>\n",
       "      <td>2009.0</td>\n",
       "      <td>Wallander L</td>\n",
       "    </tr>\n",
       "    <tr>\n",
       "      <th>25</th>\n",
       "      <td>Andriessen, J., Baker, M., &amp; Suthers, D. (2003...</td>\n",
       "      <td>import2016full_78</td>\n",
       "      <td>316</td>\n",
       "      <td>A</td>\n",
       "      <td>Andriessen, J., Baker, M., &amp; Suthers, D. (2003)</td>\n",
       "      <td>2016</td>\n",
       "      <td>2003.0</td>\n",
       "      <td>Andriessen J</td>\n",
       "    </tr>\n",
       "    <tr>\n",
       "      <th>26</th>\n",
       "      <td>Boero, P. (1999). Argumentation and mathematic...</td>\n",
       "      <td>import2016full_78</td>\n",
       "      <td>345</td>\n",
       "      <td>B</td>\n",
       "      <td>Boero, P. (1999)</td>\n",
       "      <td>2016</td>\n",
       "      <td>1999.0</td>\n",
       "      <td>Boero P</td>\n",
       "    </tr>\n",
       "    <tr>\n",
       "      <th>27</th>\n",
       "      <td>Cohen, G. C. (1994). Restructuring the classro...</td>\n",
       "      <td>import2016full_78</td>\n",
       "      <td>134</td>\n",
       "      <td>C</td>\n",
       "      <td>Cohen, G. C. (1994)</td>\n",
       "      <td>2016</td>\n",
       "      <td>1994.0</td>\n",
       "      <td>Cohen G C</td>\n",
       "    </tr>\n",
       "    <tr>\n",
       "      <th>28</th>\n",
       "      <td>De Wever, B., Schellens, T., Van Keer, H., &amp; V...</td>\n",
       "      <td>import2016full_78</td>\n",
       "      <td>240</td>\n",
       "      <td>D</td>\n",
       "      <td>De Wever, B., Schellens, T., Van Keer, H., &amp; V...</td>\n",
       "      <td>2016</td>\n",
       "      <td>2008.0</td>\n",
       "      <td>De Wever B</td>\n",
       "    </tr>\n",
       "    <tr>\n",
       "      <th>29</th>\n",
       "      <td>Dillenbourg, P. (2002). Over-scripting CSCL: T...</td>\n",
       "      <td>import2016full_78</td>\n",
       "      <td>233</td>\n",
       "      <td>D</td>\n",
       "      <td>Dillenbourg, P. (2002)</td>\n",
       "      <td>2016</td>\n",
       "      <td>2002.0</td>\n",
       "      <td>Dillenbourg P</td>\n",
       "    </tr>\n",
       "    <tr>\n",
       "      <th>...</th>\n",
       "      <td>...</td>\n",
       "      <td>...</td>\n",
       "      <td>...</td>\n",
       "      <td>...</td>\n",
       "      <td>...</td>\n",
       "      <td>...</td>\n",
       "      <td>...</td>\n",
       "      <td>...</td>\n",
       "    </tr>\n",
       "    <tr>\n",
       "      <th>34750</th>\n",
       "      <td>Yoon, S., Klopfer, E., Anderson, E., Koehler-Y...</td>\n",
       "      <td>import2018_271</td>\n",
       "      <td>346</td>\n",
       "      <td>Y</td>\n",
       "      <td>Yoon, S., Klopfer, E., Anderson, E., Koehler-Y...</td>\n",
       "      <td>2018</td>\n",
       "      <td>2016.0</td>\n",
       "      <td>Goh S</td>\n",
       "    </tr>\n",
       "    <tr>\n",
       "      <th>34751</th>\n",
       "      <td>Fischer, F., Kollar, I., Ufer, S., Sodian, B.,...</td>\n",
       "      <td>import2016full_9</td>\n",
       "      <td>212</td>\n",
       "      <td>F</td>\n",
       "      <td>Fischer, F., Kollar, I., Ufer, S., Sodian, B.,...</td>\n",
       "      <td>2016</td>\n",
       "      <td>2014.0</td>\n",
       "      <td>Strijbos J W</td>\n",
       "    </tr>\n",
       "    <tr>\n",
       "      <th>34752</th>\n",
       "      <td>Derry, S. J., Pea, R. D., Barron, B., Engle, R...</td>\n",
       "      <td>import2015short_309</td>\n",
       "      <td>310</td>\n",
       "      <td>D</td>\n",
       "      <td>Derry, S. J., Pea, R. D., Barron, B., Engle, R...</td>\n",
       "      <td>2015</td>\n",
       "      <td>2010.0</td>\n",
       "      <td>Sherin B L</td>\n",
       "    </tr>\n",
       "    <tr>\n",
       "      <th>34753</th>\n",
       "      <td>Resnick, M., Maloney, J., Monroy-Hernández, A....</td>\n",
       "      <td>import2015short_309</td>\n",
       "      <td>233</td>\n",
       "      <td>R</td>\n",
       "      <td>Resnick, M., Maloney, J., Monroy-Hernández, A....</td>\n",
       "      <td>2015</td>\n",
       "      <td>2009.0</td>\n",
       "      <td>Kafai Y</td>\n",
       "    </tr>\n",
       "    <tr>\n",
       "      <th>34754</th>\n",
       "      <td>Resnick, M., Maloney, J., Hernández, A. M., Ru...</td>\n",
       "      <td>import2018_276</td>\n",
       "      <td>238</td>\n",
       "      <td>R</td>\n",
       "      <td>Resnick, M., Maloney, J., Hernández, A. M., Ru...</td>\n",
       "      <td>2018</td>\n",
       "      <td>2009.0</td>\n",
       "      <td>Kafai Y B</td>\n",
       "    </tr>\n",
       "    <tr>\n",
       "      <th>34755</th>\n",
       "      <td>Pennington, D., Bammer, G., Danielson, A., Gos...</td>\n",
       "      <td>import2016short_124</td>\n",
       "      <td>300</td>\n",
       "      <td>P</td>\n",
       "      <td>Pennington, D., Bammer, G., Danielson, A., Gos...</td>\n",
       "      <td>2016</td>\n",
       "      <td>2015.0</td>\n",
       "      <td>Wei C</td>\n",
       "    </tr>\n",
       "    <tr>\n",
       "      <th>34756</th>\n",
       "      <td>Itō, M., Baumer, S., Bittanti, M., boyd, d., C...</td>\n",
       "      <td>import2015full_403</td>\n",
       "      <td>299</td>\n",
       "      <td>I</td>\n",
       "      <td>Itō, M., Baumer, S., Bittanti, M., boyd, d., C...</td>\n",
       "      <td>2015</td>\n",
       "      <td>2010.0</td>\n",
       "      <td>Pascoe CJ</td>\n",
       "    </tr>\n",
       "    <tr>\n",
       "      <th>34757</th>\n",
       "      <td>Resnick, M., Maloney, J., Monroy-Hernández, A....</td>\n",
       "      <td>import2018_378</td>\n",
       "      <td>229</td>\n",
       "      <td>R</td>\n",
       "      <td>Resnick, M., Maloney, J., Monroy-Hernández, A....</td>\n",
       "      <td>2018</td>\n",
       "      <td>2009.0</td>\n",
       "      <td>Kafai Y</td>\n",
       "    </tr>\n",
       "    <tr>\n",
       "      <th>34758</th>\n",
       "      <td>Resnick, M., Maloney, J., Monroy-Hernández, A....</td>\n",
       "      <td>import2017_56</td>\n",
       "      <td>218</td>\n",
       "      <td>R</td>\n",
       "      <td>Resnick, M., Maloney, J., Monroy-Hernández, A....</td>\n",
       "      <td>2017</td>\n",
       "      <td>2009.0</td>\n",
       "      <td>Kafai YB</td>\n",
       "    </tr>\n",
       "    <tr>\n",
       "      <th>34759</th>\n",
       "      <td>Itō, M., Baumer, S., Bittanti, M., boyd, d., C...</td>\n",
       "      <td>import2015short_403</td>\n",
       "      <td>299</td>\n",
       "      <td>I</td>\n",
       "      <td>Itō, M., Baumer, S., Bittanti, M., boyd, d., C...</td>\n",
       "      <td>2015</td>\n",
       "      <td>2010.0</td>\n",
       "      <td>Pascoe CJ</td>\n",
       "    </tr>\n",
       "    <tr>\n",
       "      <th>34760</th>\n",
       "      <td>Banks, J. A., Au, K. H., Ball, A. F., Bell, P....</td>\n",
       "      <td>import2017_117</td>\n",
       "      <td>326</td>\n",
       "      <td>B</td>\n",
       "      <td>Banks, J. A., Au, K. H., Ball, A. F., Bell, P....</td>\n",
       "      <td>2017</td>\n",
       "      <td>2007.0</td>\n",
       "      <td>Nasir N S</td>\n",
       "    </tr>\n",
       "    <tr>\n",
       "      <th>34761</th>\n",
       "      <td>McFarland, J., Hussar, B., de Brey, C., Snyder...</td>\n",
       "      <td>import2018_10</td>\n",
       "      <td>401</td>\n",
       "      <td>M</td>\n",
       "      <td>McFarland, J., Hussar, B., de Brey, C., Snyder...</td>\n",
       "      <td>2018</td>\n",
       "      <td>2017.0</td>\n",
       "      <td>Bullock Mann F</td>\n",
       "    </tr>\n",
       "    <tr>\n",
       "      <th>34762</th>\n",
       "      <td>Rose, C. P., Gaesevic, D., Dillenbourg, P., Jo...</td>\n",
       "      <td>import2017_93</td>\n",
       "      <td>397</td>\n",
       "      <td>R</td>\n",
       "      <td>Rose, C. P., Gaesevic, D., Dillenbourg, P., Jo...</td>\n",
       "      <td>2017</td>\n",
       "      <td>2016.0</td>\n",
       "      <td>Tan J</td>\n",
       "    </tr>\n",
       "    <tr>\n",
       "      <th>34763</th>\n",
       "      <td>Fischer, F., Kollar, I., Ufer, S., Sodian, B.,...</td>\n",
       "      <td>import2016full_9</td>\n",
       "      <td>212</td>\n",
       "      <td>F</td>\n",
       "      <td>Fischer, F., Kollar, I., Ufer, S., Sodian, B.,...</td>\n",
       "      <td>2016</td>\n",
       "      <td>2014.0</td>\n",
       "      <td>Heene M</td>\n",
       "    </tr>\n",
       "    <tr>\n",
       "      <th>34764</th>\n",
       "      <td>Itō, M., Baumer, S., Bittanti, M., boyd, d., C...</td>\n",
       "      <td>import2015full_403</td>\n",
       "      <td>299</td>\n",
       "      <td>I</td>\n",
       "      <td>Itō, M., Baumer, S., Bittanti, M., boyd, d., C...</td>\n",
       "      <td>2015</td>\n",
       "      <td>2010.0</td>\n",
       "      <td>Perkel D</td>\n",
       "    </tr>\n",
       "    <tr>\n",
       "      <th>34765</th>\n",
       "      <td>Itō, M., Baumer, S., Bittanti, M., boyd, d., C...</td>\n",
       "      <td>import2015short_403</td>\n",
       "      <td>299</td>\n",
       "      <td>I</td>\n",
       "      <td>Itō, M., Baumer, S., Bittanti, M., boyd, d., C...</td>\n",
       "      <td>2015</td>\n",
       "      <td>2010.0</td>\n",
       "      <td>Perkel D</td>\n",
       "    </tr>\n",
       "    <tr>\n",
       "      <th>34766</th>\n",
       "      <td>Banks, J. A., Au, K. H., Ball, A. F., Bell, P....</td>\n",
       "      <td>import2017_117</td>\n",
       "      <td>326</td>\n",
       "      <td>B</td>\n",
       "      <td>Banks, J. A., Au, K. H., Ball, A. F., Bell, P....</td>\n",
       "      <td>2017</td>\n",
       "      <td>2007.0</td>\n",
       "      <td>Valdes G</td>\n",
       "    </tr>\n",
       "    <tr>\n",
       "      <th>34767</th>\n",
       "      <td>McFarland, J., Hussar, B., de Brey, C., Snyder...</td>\n",
       "      <td>import2018_10</td>\n",
       "      <td>401</td>\n",
       "      <td>M</td>\n",
       "      <td>McFarland, J., Hussar, B., de Brey, C., Snyder...</td>\n",
       "      <td>2018</td>\n",
       "      <td>2017.0</td>\n",
       "      <td>Hinz S</td>\n",
       "    </tr>\n",
       "    <tr>\n",
       "      <th>34768</th>\n",
       "      <td>Rose, C. P., Gaesevic, D., Dillenbourg, P., Jo...</td>\n",
       "      <td>import2017_93</td>\n",
       "      <td>397</td>\n",
       "      <td>R</td>\n",
       "      <td>Rose, C. P., Gaesevic, D., Dillenbourg, P., Jo...</td>\n",
       "      <td>2017</td>\n",
       "      <td>2016.0</td>\n",
       "      <td>Koh E</td>\n",
       "    </tr>\n",
       "    <tr>\n",
       "      <th>34769</th>\n",
       "      <td>Fischer, F., Kollar, I., Ufer, S., Sodian, B.,...</td>\n",
       "      <td>import2016full_9</td>\n",
       "      <td>212</td>\n",
       "      <td>F</td>\n",
       "      <td>Fischer, F., Kollar, I., Ufer, S., Sodian, B.,...</td>\n",
       "      <td>2016</td>\n",
       "      <td>2014.0</td>\n",
       "      <td>Eberle J</td>\n",
       "    </tr>\n",
       "    <tr>\n",
       "      <th>34770</th>\n",
       "      <td>Itō, M., Baumer, S., Bittanti, M., boyd, d., C...</td>\n",
       "      <td>import2015full_403</td>\n",
       "      <td>299</td>\n",
       "      <td>I</td>\n",
       "      <td>Itō, M., Baumer, S., Bittanti, M., boyd, d., C...</td>\n",
       "      <td>2015</td>\n",
       "      <td>2010.0</td>\n",
       "      <td>Robinson L</td>\n",
       "    </tr>\n",
       "    <tr>\n",
       "      <th>34771</th>\n",
       "      <td>Itō, M., Baumer, S., Bittanti, M., boyd, d., C...</td>\n",
       "      <td>import2015short_403</td>\n",
       "      <td>299</td>\n",
       "      <td>I</td>\n",
       "      <td>Itō, M., Baumer, S., Bittanti, M., boyd, d., C...</td>\n",
       "      <td>2015</td>\n",
       "      <td>2010.0</td>\n",
       "      <td>Robinson L</td>\n",
       "    </tr>\n",
       "    <tr>\n",
       "      <th>34772</th>\n",
       "      <td>Banks, J. A., Au, K. H., Ball, A. F., Bell, P....</td>\n",
       "      <td>import2017_117</td>\n",
       "      <td>326</td>\n",
       "      <td>B</td>\n",
       "      <td>Banks, J. A., Au, K. H., Ball, A. F., Bell, P....</td>\n",
       "      <td>2017</td>\n",
       "      <td>2007.0</td>\n",
       "      <td>Zhou M</td>\n",
       "    </tr>\n",
       "    <tr>\n",
       "      <th>34773</th>\n",
       "      <td>Rose, C. P., Gaesevic, D., Dillenbourg, P., Jo...</td>\n",
       "      <td>import2017_93</td>\n",
       "      <td>397</td>\n",
       "      <td>R</td>\n",
       "      <td>Rose, C. P., Gaesevic, D., Dillenbourg, P., Jo...</td>\n",
       "      <td>2017</td>\n",
       "      <td>2016.0</td>\n",
       "      <td>Caleon I S</td>\n",
       "    </tr>\n",
       "    <tr>\n",
       "      <th>34774</th>\n",
       "      <td>Itō, M., Baumer, S., Bittanti, M., boyd, d., C...</td>\n",
       "      <td>import2015full_403</td>\n",
       "      <td>299</td>\n",
       "      <td>I</td>\n",
       "      <td>Itō, M., Baumer, S., Bittanti, M., boyd, d., C...</td>\n",
       "      <td>2015</td>\n",
       "      <td>2010.0</td>\n",
       "      <td>Sims C</td>\n",
       "    </tr>\n",
       "    <tr>\n",
       "      <th>34775</th>\n",
       "      <td>Itō, M., Baumer, S., Bittanti, M., boyd, d., C...</td>\n",
       "      <td>import2015short_403</td>\n",
       "      <td>299</td>\n",
       "      <td>I</td>\n",
       "      <td>Itō, M., Baumer, S., Bittanti, M., boyd, d., C...</td>\n",
       "      <td>2015</td>\n",
       "      <td>2010.0</td>\n",
       "      <td>Sims C</td>\n",
       "    </tr>\n",
       "    <tr>\n",
       "      <th>34776</th>\n",
       "      <td>Rose, C. P., Gaesevic, D., Dillenbourg, P., Jo...</td>\n",
       "      <td>import2017_93</td>\n",
       "      <td>397</td>\n",
       "      <td>R</td>\n",
       "      <td>Rose, C. P., Gaesevic, D., Dillenbourg, P., Jo...</td>\n",
       "      <td>2017</td>\n",
       "      <td>2016.0</td>\n",
       "      <td>Jonathan C</td>\n",
       "    </tr>\n",
       "    <tr>\n",
       "      <th>34777</th>\n",
       "      <td>Itō, M., Baumer, S., Bittanti, M., boyd, d., C...</td>\n",
       "      <td>import2015full_403</td>\n",
       "      <td>299</td>\n",
       "      <td>I</td>\n",
       "      <td>Itō, M., Baumer, S., Bittanti, M., boyd, d., C...</td>\n",
       "      <td>2015</td>\n",
       "      <td>2010.0</td>\n",
       "      <td>Tripp L</td>\n",
       "    </tr>\n",
       "    <tr>\n",
       "      <th>34778</th>\n",
       "      <td>Itō, M., Baumer, S., Bittanti, M., boyd, d., C...</td>\n",
       "      <td>import2015short_403</td>\n",
       "      <td>299</td>\n",
       "      <td>I</td>\n",
       "      <td>Itō, M., Baumer, S., Bittanti, M., boyd, d., C...</td>\n",
       "      <td>2015</td>\n",
       "      <td>2010.0</td>\n",
       "      <td>Tripp L</td>\n",
       "    </tr>\n",
       "    <tr>\n",
       "      <th>34779</th>\n",
       "      <td>Rose, C. P., Gaesevic, D., Dillenbourg, P., Jo...</td>\n",
       "      <td>import2017_93</td>\n",
       "      <td>397</td>\n",
       "      <td>R</td>\n",
       "      <td>Rose, C. P., Gaesevic, D., Dillenbourg, P., Jo...</td>\n",
       "      <td>2017</td>\n",
       "      <td>2016.0</td>\n",
       "      <td>Yang S</td>\n",
       "    </tr>\n",
       "  </tbody>\n",
       "</table>\n",
       "<p>34780 rows × 8 columns</p>\n",
       "</div>"
      ],
      "text/plain": [
       "                                                     ref                 file  \\\n",
       "0      Lave, J., & Wenger, E. (1991). Situated learni...       import2018_371   \n",
       "1      Miles, M. B., Huberman, A. M., & Saldana, J. (...       import2018_371   \n",
       "2      Pea, R. D., Gomez, L. M., Edelson, D. C., Fish...       import2018_371   \n",
       "3      Rogoff, B. (1995). Observing sociocultural act...       import2018_371   \n",
       "4      Shirk, J., Ballard, H., Wilderman, C., Phillip...       import2018_371   \n",
       "5      Gomoll, A., Šabanović, S., Tolar, E., Hmelo-Si...       import2018_417   \n",
       "6      Gomoll, A., Hmelo-Silver, C. E., Šabanović, S....       import2018_417   \n",
       "7      Hmelo-Silver, C. E., Jordan, R., Liu, L., & Ch...       import2018_417   \n",
       "8      Mondada, L. (2006). Video recording as the ref...       import2018_417   \n",
       "9      Knoblauch, H., Schnettler, B., and Raab, J. (2...       import2018_417   \n",
       "10     Schaal, S. (2007). The new robotics—towards hu...       import2018_417   \n",
       "11     Booth, J. L., & Newton, K. J. (2012). Fraction...       import2018_403   \n",
       "12     Booth, J.L., Newton, K.J., Twiss-Garrity, L. (...       import2018_403   \n",
       "13     Empson, S. B., & Levi L. (2011). Extending chi...       import2018_403   \n",
       "14     McNeil, N. M. & Alibali, M. W. (2004). You’ll ...       import2018_403   \n",
       "15     Siegler, R., Carpenter, T., Fennell, F., Geary...       import2018_403   \n",
       "16     Siegler, R. S., & Opfer, J. E. (2003). The dev...       import2018_403   \n",
       "17     Siegler, R. S., & Pyke, A. A. (2012). Developm...       import2018_403   \n",
       "18     Siegler, R. S., Thompson, C. A., Schneider, M....       import2018_403   \n",
       "19     Wu, H. (2001). How to prepare students for alg...       import2018_403   \n",
       "20     Dweck, C. (2006). Mindset: The new psychology ...       import2018_365   \n",
       "21     Martinez, S., & Stager, G. (2013). Invent to l...       import2018_365   \n",
       "22     Resnick, M., & Rosenbaum, E. (2013). Designing...       import2018_365   \n",
       "23     Vossoughi, S., Escudé, M., Kong, F., & Hooper,...       import2018_365   \n",
       "24     Wallander, L. (2009). 25 years of factorial su...       import2018_365   \n",
       "25     Andriessen, J., Baker, M., & Suthers, D. (2003...    import2016full_78   \n",
       "26     Boero, P. (1999). Argumentation and mathematic...    import2016full_78   \n",
       "27     Cohen, G. C. (1994). Restructuring the classro...    import2016full_78   \n",
       "28     De Wever, B., Schellens, T., Van Keer, H., & V...    import2016full_78   \n",
       "29     Dillenbourg, P. (2002). Over-scripting CSCL: T...    import2016full_78   \n",
       "...                                                  ...                  ...   \n",
       "34750  Yoon, S., Klopfer, E., Anderson, E., Koehler-Y...       import2018_271   \n",
       "34751  Fischer, F., Kollar, I., Ufer, S., Sodian, B.,...     import2016full_9   \n",
       "34752  Derry, S. J., Pea, R. D., Barron, B., Engle, R...  import2015short_309   \n",
       "34753  Resnick, M., Maloney, J., Monroy-Hernández, A....  import2015short_309   \n",
       "34754  Resnick, M., Maloney, J., Hernández, A. M., Ru...       import2018_276   \n",
       "34755  Pennington, D., Bammer, G., Danielson, A., Gos...  import2016short_124   \n",
       "34756  Itō, M., Baumer, S., Bittanti, M., boyd, d., C...   import2015full_403   \n",
       "34757  Resnick, M., Maloney, J., Monroy-Hernández, A....       import2018_378   \n",
       "34758  Resnick, M., Maloney, J., Monroy-Hernández, A....        import2017_56   \n",
       "34759  Itō, M., Baumer, S., Bittanti, M., boyd, d., C...  import2015short_403   \n",
       "34760  Banks, J. A., Au, K. H., Ball, A. F., Bell, P....       import2017_117   \n",
       "34761  McFarland, J., Hussar, B., de Brey, C., Snyder...        import2018_10   \n",
       "34762  Rose, C. P., Gaesevic, D., Dillenbourg, P., Jo...        import2017_93   \n",
       "34763  Fischer, F., Kollar, I., Ufer, S., Sodian, B.,...     import2016full_9   \n",
       "34764  Itō, M., Baumer, S., Bittanti, M., boyd, d., C...   import2015full_403   \n",
       "34765  Itō, M., Baumer, S., Bittanti, M., boyd, d., C...  import2015short_403   \n",
       "34766  Banks, J. A., Au, K. H., Ball, A. F., Bell, P....       import2017_117   \n",
       "34767  McFarland, J., Hussar, B., de Brey, C., Snyder...        import2018_10   \n",
       "34768  Rose, C. P., Gaesevic, D., Dillenbourg, P., Jo...        import2017_93   \n",
       "34769  Fischer, F., Kollar, I., Ufer, S., Sodian, B.,...     import2016full_9   \n",
       "34770  Itō, M., Baumer, S., Bittanti, M., boyd, d., C...   import2015full_403   \n",
       "34771  Itō, M., Baumer, S., Bittanti, M., boyd, d., C...  import2015short_403   \n",
       "34772  Banks, J. A., Au, K. H., Ball, A. F., Bell, P....       import2017_117   \n",
       "34773  Rose, C. P., Gaesevic, D., Dillenbourg, P., Jo...        import2017_93   \n",
       "34774  Itō, M., Baumer, S., Bittanti, M., boyd, d., C...   import2015full_403   \n",
       "34775  Itō, M., Baumer, S., Bittanti, M., boyd, d., C...  import2015short_403   \n",
       "34776  Rose, C. P., Gaesevic, D., Dillenbourg, P., Jo...        import2017_93   \n",
       "34777  Itō, M., Baumer, S., Bittanti, M., boyd, d., C...   import2015full_403   \n",
       "34778  Itō, M., Baumer, S., Bittanti, M., boyd, d., C...  import2015short_403   \n",
       "34779  Rose, C. P., Gaesevic, D., Dillenbourg, P., Jo...        import2017_93   \n",
       "\n",
       "       length initial                                         ref_parsed  \\\n",
       "0         108       L                      Lave, J., & Wenger, E. (1991)   \n",
       "1         107       M  Miles, M. B., Huberman, A. M., & Saldana, J. (...   \n",
       "2         294       P  Pea, R. D., Gomez, L. M., Edelson, D. C., Fish...   \n",
       "3         269       R                                  Rogoff, B. (1995)   \n",
       "4         215       S  Shirk, J., Ballard, H., Wilderman, C., Phillip...   \n",
       "5         288       G  Gomoll, A., Šabanović, S., Tolar, E., Hmelo-Si...   \n",
       "6         250       G  Gomoll, A., Hmelo-Silver, C. E., Šabanović, S....   \n",
       "7         234       H  Hmelo-Silver, C. E., Jordan, R., Liu, L., & Ch...   \n",
       "8         298       M                                 Mondada, L. (2006)   \n",
       "9         280       K  Knoblauch, H., Schnettler, B., and Raab, J. (2...   \n",
       "10        102       S                                  Schaal, S. (2007)   \n",
       "11        144       B               Booth, J. L., & Newton, K. J. (2012)   \n",
       "12        187       B  Booth, J.L., Newton, K.J., Twiss-Garrity, L. (...   \n",
       "13        117       E                    Empson, S. B., & Levi L. (2011)   \n",
       "14        162       M              McNeil, N. M. & Alibali, M. W. (2004)   \n",
       "15        314       S  Siegler, R., Carpenter, T., Fennell, F., Geary...   \n",
       "16        176       S              Siegler, R. S., & Opfer, J. E. (2003)   \n",
       "17        154       S               Siegler, R. S., & Pyke, A. A. (2012)   \n",
       "18        153       S  Siegler, R. S., Thompson, C. A., Schneider, M....   \n",
       "19         84       W                                      Wu, H. (2001)   \n",
       "20         85       D                                   Dweck, C. (2006)   \n",
       "21        155       M                  Martinez, S., & Stager, G. (2013)   \n",
       "22        207       R                Resnick, M., & Rosenbaum, E. (2013)   \n",
       "23        272       V  Vossoughi, S., Escudé, M., Kong, F., & Hooper,...   \n",
       "24        115       W                               Wallander, L. (2009)   \n",
       "25        316       A    Andriessen, J., Baker, M., & Suthers, D. (2003)   \n",
       "26        345       B                                   Boero, P. (1999)   \n",
       "27        134       C                                Cohen, G. C. (1994)   \n",
       "28        240       D  De Wever, B., Schellens, T., Van Keer, H., & V...   \n",
       "29        233       D                             Dillenbourg, P. (2002)   \n",
       "...       ...     ...                                                ...   \n",
       "34750     346       Y  Yoon, S., Klopfer, E., Anderson, E., Koehler-Y...   \n",
       "34751     212       F  Fischer, F., Kollar, I., Ufer, S., Sodian, B.,...   \n",
       "34752     310       D  Derry, S. J., Pea, R. D., Barron, B., Engle, R...   \n",
       "34753     233       R  Resnick, M., Maloney, J., Monroy-Hernández, A....   \n",
       "34754     238       R  Resnick, M., Maloney, J., Hernández, A. M., Ru...   \n",
       "34755     300       P  Pennington, D., Bammer, G., Danielson, A., Gos...   \n",
       "34756     299       I  Itō, M., Baumer, S., Bittanti, M., boyd, d., C...   \n",
       "34757     229       R  Resnick, M., Maloney, J., Monroy-Hernández, A....   \n",
       "34758     218       R  Resnick, M., Maloney, J., Monroy-Hernández, A....   \n",
       "34759     299       I  Itō, M., Baumer, S., Bittanti, M., boyd, d., C...   \n",
       "34760     326       B  Banks, J. A., Au, K. H., Ball, A. F., Bell, P....   \n",
       "34761     401       M  McFarland, J., Hussar, B., de Brey, C., Snyder...   \n",
       "34762     397       R  Rose, C. P., Gaesevic, D., Dillenbourg, P., Jo...   \n",
       "34763     212       F  Fischer, F., Kollar, I., Ufer, S., Sodian, B.,...   \n",
       "34764     299       I  Itō, M., Baumer, S., Bittanti, M., boyd, d., C...   \n",
       "34765     299       I  Itō, M., Baumer, S., Bittanti, M., boyd, d., C...   \n",
       "34766     326       B  Banks, J. A., Au, K. H., Ball, A. F., Bell, P....   \n",
       "34767     401       M  McFarland, J., Hussar, B., de Brey, C., Snyder...   \n",
       "34768     397       R  Rose, C. P., Gaesevic, D., Dillenbourg, P., Jo...   \n",
       "34769     212       F  Fischer, F., Kollar, I., Ufer, S., Sodian, B.,...   \n",
       "34770     299       I  Itō, M., Baumer, S., Bittanti, M., boyd, d., C...   \n",
       "34771     299       I  Itō, M., Baumer, S., Bittanti, M., boyd, d., C...   \n",
       "34772     326       B  Banks, J. A., Au, K. H., Ball, A. F., Bell, P....   \n",
       "34773     397       R  Rose, C. P., Gaesevic, D., Dillenbourg, P., Jo...   \n",
       "34774     299       I  Itō, M., Baumer, S., Bittanti, M., boyd, d., C...   \n",
       "34775     299       I  Itō, M., Baumer, S., Bittanti, M., boyd, d., C...   \n",
       "34776     397       R  Rose, C. P., Gaesevic, D., Dillenbourg, P., Jo...   \n",
       "34777     299       I  Itō, M., Baumer, S., Bittanti, M., boyd, d., C...   \n",
       "34778     299       I  Itō, M., Baumer, S., Bittanti, M., boyd, d., C...   \n",
       "34779     397       R  Rose, C. P., Gaesevic, D., Dillenbourg, P., Jo...   \n",
       "\n",
       "       pub_year    year            author  \n",
       "0          2018  1991.0            Lave J  \n",
       "1          2018  2013.0         Miles M B  \n",
       "2          2018  1997.0           Pea R D  \n",
       "3          2018  1995.0          Rogoff B  \n",
       "4          2018  2012.0           Shirk J  \n",
       "5          2018  2017.0          Gomoll A  \n",
       "6          2018  2016.0          Gomoll A  \n",
       "7          2018  2011.0  Hmelo-Silver C E  \n",
       "8          2018  2006.0         Mondada L  \n",
       "9          2018  2006.0       Knoblauch H  \n",
       "10         2018  2007.0          Schaal S  \n",
       "11         2018  2012.0         Booth J L  \n",
       "12         2018  2014.0          Booth JL  \n",
       "13         2018  2011.0        Empson S B  \n",
       "14         2018  2004.0        McNeil N M  \n",
       "15         2018  2010.0         Siegler R  \n",
       "16         2018  2003.0       Siegler R S  \n",
       "17         2018  2012.0       Siegler R S  \n",
       "18         2018  2011.0       Siegler R S  \n",
       "19         2018  2001.0              Wu H  \n",
       "20         2018  2006.0           Dweck C  \n",
       "21         2018  2013.0        Martinez S  \n",
       "22         2018  2013.0         Resnick M  \n",
       "23         2018  2013.0       Vossoughi S  \n",
       "24         2018  2009.0       Wallander L  \n",
       "25         2016  2003.0      Andriessen J  \n",
       "26         2016  1999.0           Boero P  \n",
       "27         2016  1994.0         Cohen G C  \n",
       "28         2016  2008.0        De Wever B  \n",
       "29         2016  2002.0     Dillenbourg P  \n",
       "...         ...     ...               ...  \n",
       "34750      2018  2016.0             Goh S  \n",
       "34751      2016  2014.0      Strijbos J W  \n",
       "34752      2015  2010.0        Sherin B L  \n",
       "34753      2015  2009.0           Kafai Y  \n",
       "34754      2018  2009.0         Kafai Y B  \n",
       "34755      2016  2015.0             Wei C  \n",
       "34756      2015  2010.0         Pascoe CJ  \n",
       "34757      2018  2009.0           Kafai Y  \n",
       "34758      2017  2009.0          Kafai YB  \n",
       "34759      2015  2010.0         Pascoe CJ  \n",
       "34760      2017  2007.0         Nasir N S  \n",
       "34761      2018  2017.0    Bullock Mann F  \n",
       "34762      2017  2016.0             Tan J  \n",
       "34763      2016  2014.0           Heene M  \n",
       "34764      2015  2010.0          Perkel D  \n",
       "34765      2015  2010.0          Perkel D  \n",
       "34766      2017  2007.0          Valdes G  \n",
       "34767      2018  2017.0            Hinz S  \n",
       "34768      2017  2016.0             Koh E  \n",
       "34769      2016  2014.0          Eberle J  \n",
       "34770      2015  2010.0        Robinson L  \n",
       "34771      2015  2010.0        Robinson L  \n",
       "34772      2017  2007.0            Zhou M  \n",
       "34773      2017  2016.0        Caleon I S  \n",
       "34774      2015  2010.0            Sims C  \n",
       "34775      2015  2010.0            Sims C  \n",
       "34776      2017  2016.0        Jonathan C  \n",
       "34777      2015  2010.0           Tripp L  \n",
       "34778      2015  2010.0           Tripp L  \n",
       "34779      2017  2016.0            Yang S  \n",
       "\n",
       "[34780 rows x 8 columns]"
      ]
     },
     "execution_count": 65,
     "metadata": {},
     "output_type": "execute_result"
    }
   ],
   "source": [
    "df"
   ]
  },
  {
   "cell_type": "markdown",
   "metadata": {},
   "source": [
    "# Using scholarcy  "
   ]
  },
  {
   "cell_type": "code",
   "execution_count": 63,
   "metadata": {},
   "outputs": [],
   "source": [
    "import requests"
   ]
  },
  {
   "cell_type": "code",
   "execution_count": 64,
   "metadata": {},
   "outputs": [],
   "source": [
    "import os"
   ]
  },
  {
   "cell_type": "code",
   "execution_count": 65,
   "metadata": {},
   "outputs": [
    {
     "name": "stdout",
     "output_type": "stream",
     "text": [
      "../papers-import/import2016full/95/95.pdf\n",
      "../papers-import/import2016full/94/94.pdf\n",
      "../papers-import/import2016full/96/96.pdf\n",
      "../papers-import/import2016full/98/98.pdf\n",
      "../papers-import/import2016full/97/97.pdf\n",
      "../papers-import/import2015short/344/344.pdf\n",
      "../papers-import/import2018/75/75.pdf\n",
      "../papers-import/import2017/13/13.pdf\n"
     ]
    }
   ],
   "source": [
    "for subdir, dirs, files in os.walk('../papers-import/'):\n",
    "    for file in files:\n",
    "        if file[-4:] == '.pdf' and not file [:-4]+'.xml' in files:\n",
    "            print(subdir+'/'+file)"
   ]
  },
  {
   "cell_type": "code",
   "execution_count": 66,
   "metadata": {
    "scrolled": false
   },
   "outputs": [
    {
     "name": "stdout",
     "output_type": "stream",
     "text": [
      "../papers-import/import2015short/344/344.pdf\n",
      "Nope\n",
      "../papers-import/import2016full/94/94.pdf\n",
      "Nope\n",
      "../papers-import/import2016full/95/95.pdf\n",
      "Nope\n",
      "../papers-import/import2016full/96/96.pdf\n",
      "Nope\n",
      "../papers-import/import2016full/97/97.pdf\n",
      "Nope\n",
      "../papers-import/import2016full/98/98.pdf\n",
      "Nope\n",
      "../papers-import/import2017/13/13.pdf\n",
      "Nope\n",
      "../papers-import/import2018/75/75.pdf\n",
      "Nope\n"
     ]
    }
   ],
   "source": [
    "for subdir, dirs, files in sorted(os.walk('../papers-import/')):\n",
    "    for file in files:\n",
    "        if file[-4:] == '.pdf' and not file [:-4]+'.xml' in files:\n",
    "            print(subdir+'/'+file)\n",
    "            source = subdir+'/'+file\n",
    "\n",
    "            destination = source[:-4]+'.xml'\n",
    "\n",
    "            headers = {\n",
    "                'accept': 'application/json',\n",
    "            }\n",
    "\n",
    "            files = {\n",
    "                'reference_format': (None, 'xml'),\n",
    "                'file': (open(source, 'rb')),\n",
    "                'document_type': (None, 'full_paper'),\n",
    "                'reference_style': (None, 'apa'),\n",
    "            }\n",
    "\n",
    "            response = requests.post('https://ref.scholarcy.com/api/references/download', headers=headers, files=files)\n",
    "            if response.ok:\n",
    "                with open(destination, 'w') as f:\n",
    "                    f.write(response.text)\n",
    "            else:\n",
    "                print('Nope')"
   ]
  },
  {
   "cell_type": "code",
   "execution_count": 67,
   "metadata": {},
   "outputs": [],
   "source": [
    "source = '../papers-import/import2015full/105/105.pdf'\n",
    "\n",
    "destination = source[:-4]+'.xml'\n",
    "\n",
    "headers = {\n",
    "    'accept': 'application/json',\n",
    "    'Authorization': 'Bearer',\n",
    "}\n",
    "\n",
    "files = {\n",
    "    'reference_format': (None, 'xml'),\n",
    "    'file': (open(source, 'rb')),\n",
    "    'document_type': (None, 'full_paper'),\n",
    "    'reference_style': (None, 'apa'),\n",
    "}\n",
    "\n",
    "response = requests.post('https://ref.scholarcy.com/api/references/download', headers=headers, files=files)\n",
    "\n",
    "with open(destination, 'w') as f:\n",
    "    f.write(response.text)"
   ]
  },
  {
   "cell_type": "code",
   "execution_count": 68,
   "metadata": {},
   "outputs": [
    {
     "data": {
      "text/plain": [
       "b'<?xml version=\"1.0\" encoding=\"UTF-8\" ?>\\n<doi_batch xmlns=\"http://www.crossref.org/doi_resources_schema/4.3.6\" \\nxmlns:xsi=\"http://www.w3.org/2001/XMLSchema-instance\" \\nversion=\"4.3.6\" \\nxsi:schemaLocation=\"http://www.crossref.org/doi_resources_schema/4.3.6 \\nhttp://www.crossref.org/schema/deposit/doi_resources4.3.6.xsd\">\\n <head>\\n    <doi_batch_id>00000000</doi_batch_id>\\n    <depositor>\\n        <depositor_name>anonymous</depositor_name>\\n        <email_address>email@domain.com</email_address>\\n    </depositor>\\n </head>\\n <body>\\n    <doi_citations>\\n        <doi>None</doi>\\n        <citation_list>\\n            <citation key=\"ref_1\">\\n                <author>Bamberger, J.</author>\\n                <cYear>1996</cYear>\\n                <article_title>Turning music theory on its ear: Do we hear what we see; do we see what we hear?</article_title>\\n                <journal_title>International Journal of Computers for Mathematical Learning</journal_title>\\n                <volume>1</volume>\\n                <first_page>33</first_page>\\n                <unstructured_citation>Bamberger, J. (1996). Turning music theory on its ear: Do we hear what we see; do we see what we hear? International Journal of Computers for Mathematical Learning, 1, 33-55.</unstructured_citation>\\n            </citation>\\n\\n            <citation key=\"ref_2\">\\n                <author>Bamberger, J.</author>\\n                <cYear>1999</cYear>\\n                <article_title>Learning from the children we teach</article_title>\\n                <journal_title>Bulletin of the Council for Research in Music Education</journal_title>\\n                <volume>142</volume>\\n                <first_page>48</first_page>\\n                <unstructured_citation>Bamberger, J. (1999). Learning from the children we teach. Bulletin of the Council for Research in Music Education, 142, 48-74.</unstructured_citation>\\n            </citation>\\n\\n            <citation key=\"ref_3\">\\n                <author>Bamberger, J.</author>\\n                <cYear>2000</cYear>\\n                <article_title>Developing musical intuitions: A project-based introduction to making and understanding music</article_title>\\n                <unstructured_citation>Bamberger, J. (2000). Developing musical intuitions: A project-based introduction to making and understanding music. New York, NY: Oxford University Press.</unstructured_citation>\\n            </citation>\\n\\n            <citation key=\"ref_4\">\\n                <author>Bamberger, J.</author>\\n                <cYear>2013</cYear>\\n                <article_title>Discovering the musical mind: A view of creativity as learning</article_title>\\n                <unstructured_citation>Bamberger, J. (2013). Discovering the musical mind: A view of creativity as learning. Oxford, England: Oxford University Press.</unstructured_citation>\\n            </citation>\\n\\n            <citation key=\"ref_5\">\\n                <author>Bowers, K.S.; Regehr, G.; Balthazard, C.; Parker, K.</author>\\n                <cYear>1990</cYear>\\n                <article_title>Intuition in the context of discovery</article_title>\\n                <journal_title>Cognitive Psychology</journal_title>\\n                <volume>22</volume>\\n                <first_page>72</first_page>\\n                <unstructured_citation>Bowers, K. S., Regehr, G., Balthazard, C., &amp; Parker, K. (1990). Intuition in the context of discovery. Cognitive Psychology, 22, 72-110.</unstructured_citation>\\n            </citation>\\n\\n            <citation key=\"ref_6\">\\n                <author>Bray, D.</author>\\n                <cYear>1997</cYear>\\n                <article_title>CD ROM in music education</article_title>\\n                <journal_title>British Journal of Music Education, 14</journal_title>\\n                <volume>2</volume>\\n                <first_page>137</first_page>\\n                <unstructured_citation>Bray, D. (1997). CD ROM in music education. British Journal of Music Education, 14, 2, 137-142.</unstructured_citation>\\n            </citation>\\n\\n            <citation key=\"ref_7\">\\n                <author>Chi, M.T.H.; DeLeeuw, Chiu; M-H.; Lavancher, C.</author>\\n                <cYear>1994</cYear>\\n                <article_title>Eliciting self-explanation improves understanding</article_title>\\n                <journal_title>Cognitive Science</journal_title>\\n                <volume>18</volume>\\n                <first_page>439</first_page>\\n                <unstructured_citation>Chi, M. T. H., DeLeeuw, Chiu, M-H., &amp; Lavancher, C. (1994). Eliciting self-explanation improves understanding. Cognitive Science, 18, 439-477.</unstructured_citation>\\n            </citation>\\n\\n            <citation key=\"ref_8\">\\n                <author>Clement, J.</author>\\n                <cYear>1993</cYear>\\n                <article_title>Using bridging analogies and anchoring intuitions to deal with students\\xe2\\x80\\x99 preconceptions in physics</article_title>\\n                <journal_title>Journal of Research in Science Teaching</journal_title>\\n                <volume>30</volume>\\n                <first_page>1241</first_page>\\n                <unstructured_citation>Clement, J. (1993). Using bridging analogies and anchoring intuitions to deal with students\\xe2\\x80\\x99 preconceptions in physics. Journal of Research in Science Teaching, 30, 1241-1257.</unstructured_citation>\\n            </citation>\\n\\n            <citation key=\"ref_9\">\\n                <author>Dalgarno, G.</author>\\n                <cYear>1997</cYear>\\n                <article_title>Creating an expressive performance without being able to play a musical instrument</article_title>\\n                <journal_title>British Journal of Music Education, 14</journal_title>\\n                <volume>2</volume>\\n                <first_page>163</first_page>\\n                <unstructured_citation>Dalgarno, G. (1997). Creating an expressive performance without being able to play a musical instrument. British Journal of Music Education, 14, 2, 163-171.</unstructured_citation>\\n            </citation>\\n\\n            <citation key=\"ref_10\">\\n                <author>diSessa, A.</author>\\n                <cYear>1993</cYear>\\n                <article_title>Toward an epistemology of physics</article_title>\\n                <journal_title>Cognition and Instruction</journal_title>\\n                <volume>10</volume>\\n                <first_page>105</first_page>\\n                <unstructured_citation>diSessa, A. (1993). Toward an epistemology of physics. Cognition and Instruction, 10, 105-225.</unstructured_citation>\\n            </citation>\\n\\n            <citation key=\"ref_11\">\\n                <author>Easen, P.; Wilcockson, J.</author>\\n                <cYear>1996</cYear>\\n                <article_title>Intution and rational decision-making in professional thinking: A false dichotomy?</article_title>\\n                <journal_title>Journal of Advanced Nursing</journal_title>\\n                <volume>24</volume>\\n                <first_page>667</first_page>\\n                <unstructured_citation>Easen, P. &amp; Wilcockson, J. (1996). Intution and rational decision-making in professional thinking: A false dichotomy? Journal of Advanced Nursing, 24, 667-673.</unstructured_citation>\\n            </citation>\\n\\n            <citation key=\"ref_12\">\\n                <author>Fischbein, E.</author>\\n                <cYear>1982</cYear>\\n                <article_title>Intuition and proof</article_title>\\n                <journal_title>For the Learning of Mathematics</journal_title>\\n                <volume>3</volume>\\n                <first_page>9</first_page>\\n                <unstructured_citation>Fischbein, E. (1982). Intuition and proof. For the Learning of Mathematics, 3, 9-18.</unstructured_citation>\\n            </citation>\\n\\n            <citation key=\"ref_13\">\\n                <author>Fischbein, E.</author>\\n                <cYear>1987</cYear>\\n                <article_title>Intuition in science and mathematics: An educational approach</article_title>\\n                <unstructured_citation>Fischbein, E. (1987). Intuition in science and mathematics: An educational approach. Boston, MA: D. Reidel Publishing.</unstructured_citation>\\n            </citation>\\n\\n            <citation key=\"ref_14\">\\n                <author>Granott, N.; Parziale, J.</author>\\n                <cYear>2002</cYear>\\n                <article_title>Microdevelopment transition processes in development and learning</article_title>\\n                <unstructured_citation>Granott, N. &amp; Parziale, J. (Eds). (2002). Microdevelopment transition processes in development and learning.</unstructured_citation>\\n            </citation>\\n\\n            <citation key=\"ref_15\">\\n                <author>Green, L.</author>\\n                <cYear>2002</cYear>\\n                <article_title>How popular musicians learn: A way ahead for music education</article_title>\\n                <unstructured_citation>Green, L. (2002). How popular musicians learn: A way ahead for music education. Burlington, VT: Ashgate.</unstructured_citation>\\n            </citation>\\n\\n            <citation key=\"ref_16\">\\n                <author>Kafai, Y.B.</author>\\n                <cYear>2006</cYear>\\n                <article_title>Constructionism. In R. K. Sawyer (Ed.) The Cambridge Handbook of the Learning Sciences (p. 35-46)</article_title>\\n                <unstructured_citation>Kafai, Y. B. (2006). Constructionism. In R. K. Sawyer (Ed.) The Cambridge Handbook of the Learning Sciences (p. 35-46). New York, NY: Cambridge University Press.</unstructured_citation>\\n            </citation>\\n\\n            <citation key=\"ref_17\">\\n                <author>Keiper, S.; Sandene, B.A.; Persky, H.R.; Kuang, M.</author>\\n                <cYear>2009</cYear>\\n                <article_title>The Nation\\xe2\\x80\\x99s Report Card: Arts 2008</article_title>\\n                <unstructured_citation>Keiper, S., Sandene, B. A., Persky, H. R., &amp; Kuang, M. (2009). The Nation\\xe2\\x80\\x99s Report Card: Arts 2008 Music &amp;</unstructured_citation>\\n            </citation>\\n\\n            <citation key=\"ref_18\">\\n                <article_title>Visual Arts</article_title>\\n                <journal_title>Understanding the world of objects and of people: Intuition as the core element of deep level learning; International Journal of Educational Research</journal_title>\\n                <author>F.</author>\\n                <cYear>1998</cYear>\\n                <volume>29</volume>\\n                <first_page>69</first_page>\\n                <unstructured_citation>Visual Arts. Retrieved July 2, 2012 from nces.ed.gov/nationsreportcard/pubs/main2008/2009488.asp Laevers, F. (1998). Understanding the world of objects and of people: Intuition as the core element of deep level learning. International Journal of Educational Research, 29, 69-86.</unstructured_citation>\\n            </citation>\\n\\n            <citation key=\"ref_19\">\\n                <author>Noddings, N.; Shore, P.J.</author>\\n                <cYear>1984</cYear>\\n                <article_title>Awakening the inner eye: Intuition and education</article_title>\\n                <unstructured_citation>Noddings, N. &amp; Shore, P. J. (1984). Awakening the inner eye: Intuition and education. New York, NY: Teachers College Press.</unstructured_citation>\\n            </citation>\\n\\n            <citation key=\"ref_20\">\\n                <author>Papert, S.</author>\\n                <cYear>1980</cYear>\\n                <article_title>Mindstorms: Children, computers, and powerful Ideas</article_title>\\n                <unstructured_citation>Papert, S. (1980). Mindstorms: Children, computers, and powerful Ideas. New York, NY: Basic Books.</unstructured_citation>\\n            </citation>\\n\\n            <citation key=\"ref_21\">\\n                <author>Papert, S.</author>\\n                <cYear>1991</cYear>\\n                <article_title>Situating constructionism. In I. Harel &amp; S. Papert (Eds.) Constructionism (p.1-12)</article_title>\\n                <unstructured_citation>Papert, S. (1991) Situating constructionism. In I. Harel &amp; S. Papert (Eds.) Constructionism (p.1-12). New York, NY: Ablex.</unstructured_citation>\\n            </citation>\\n\\n            <citation key=\"ref_22\">\\n                <author>Papert, S.</author>\\n                <cYear>1993</cYear>\\n                <article_title>The children\\xe2\\x80\\x99s machine</article_title>\\n                <unstructured_citation>Papert, S. (1993). The children\\xe2\\x80\\x99s machine. New York, NY: Basic Books.</unstructured_citation>\\n            </citation>\\n\\n            <citation key=\"ref_23\">\\n                <author>Peppler, K.A.; Kafai, Y.B.</author>\\n                <cYear>2007</cYear>\\n                <article_title>From SuperGoo to Scratch: Exploring creative digital media production in informal learning</article_title>\\n                <journal_title>Learning, Media, and Technology</journal_title>\\n                <volume>32</volume>\\n                <first_page>149</first_page>\\n                <unstructured_citation>Peppler, K. A. &amp; Kafai, Y. B. (2007). From SuperGoo to Scratch: Exploring creative digital media production in informal learning. Learning, Media, and Technology, 32, 149-166.</unstructured_citation>\\n            </citation>\\n\\n            <citation key=\"ref_24\">\\n                <author>Pinkett, R.D.</author>\\n                <cYear>2000</cYear>\\n                <article_title>Bridging the digital divide. Sociocultural constructionism and an asset-based approach to community technology and community building. Presentation at the 81st Annual Meeting of the American Educational Research Association, New Orleans, LA</article_title>\\n                <journal_title>Journal of the Learning Sciences; Diving into complexity: Developing probabilistic decentralized thinking through role-playing activities</journal_title>\\n                <volume>7</volume>\\n                <first_page>153</first_page>\\n                <unstructured_citation>Pinkett, R. D. (2000). Bridging the digital divide. Sociocultural constructionism and an asset-based approach to community technology and community building. Presentation at the 81st Annual Meeting of the American Educational Research Association, New Orleans, LA. Resnick, M., &amp; Wilensky, U. (1998). Diving into complexity: Developing probabilistic decentralized thinking through role-playing activities. Journal of the Learning Sciences, 7, 153-172.</unstructured_citation>\\n            </citation>\\n\\n            <citation key=\"ref_25\">\\n                <author>Savage, J.</author>\\n                <cYear>2005</cYear>\\n                <article_title>Working towards a theory for music technologies in the classroom: How pupils engage with and organize sounds with new technologies</article_title>\\n                <journal_title>British Journal of Music Education</journal_title>\\n                <volume>2</volume>\\n                <first_page>167</first_page>\\n                <unstructured_citation>Savage, J. (2005). Working towards a theory for music technologies in the classroom: How pupils engage with and organize sounds with new technologies. British Journal of Music Education, 2, 167-180.</unstructured_citation>\\n            </citation>\\n\\n            <citation key=\"ref_26\">\\n                <author>Sawyer, R.K.</author>\\n                <cYear>2008</cYear>\\n                <article_title>Group genius: The creative power of collaboration</article_title>\\n                <volume_title>The reflective practitioner. How professionals think in action</volume_title>\\n                <unstructured_citation>Sawyer, R. K. (2008). Group genius: The creative power of collaboration. New York, NY: Basic Books Sch\\xc3\\xb6n, D. A. (1983). The reflective practitioner. How professionals think in action. New York, NY: Basic Books.</unstructured_citation>\\n            </citation>\\n\\n            <citation key=\"ref_27\">\\n                <author>Sch\\xc3\\xb6n, D.A.</author>\\n                <cYear>1987</cYear>\\n                <article_title>Educating the reflective practitioner: Towards a new design for teaching and learning. San Francisco, CA: Josey-Bass. Swanwick, K</article_title>\\n                <volume_title>Musical knowledge: Intuition, analysis, and music education</volume_title>\\n                <unstructured_citation>Sch\\xc3\\xb6n, D. A. (1987). Educating the reflective practitioner: Towards a new design for teaching and learning. San Francisco, CA: Josey-Bass. Swanwick, K. (1994). Musical knowledge: Intuition, analysis, and music education. New York, NY: Routledge.</unstructured_citation>\\n            </citation>\\n\\n            <citation key=\"ref_28\">\\n                <author>Swainwick, K.; Tillman, J.</author>\\n                <cYear>1986</cYear>\\n                <article_title>The sequence of musical development. A study of children\\xe2\\x80\\x99s composition</article_title>\\n                <journal_title>British Journal of Music Education</journal_title>\\n                <volume>3</volume>\\n                <first_page>305</first_page>\\n                <unstructured_citation>Swainwick, K. &amp; Tillman, J. (1986). The sequence of musical development. A study of children\\xe2\\x80\\x99s composition. British Journal of Music Education, 3, 305-339.</unstructured_citation>\\n            </citation>\\n\\n            <citation key=\"ref_29\">\\n                <author>Webster, P.R.</author>\\n                <cYear>2006</cYear>\\n                <article_title>Computer-based technology and music teaching and learning: 2000\\xe2\\x80\\x932005. In L</article_title>\\n                <journal_title>Bresler (Ed.) International Handbook of Research in Arts Education</journal_title>\\n                <volume>(p.</volume>\\n                <unstructured_citation>Webster, P. R. (2006). Computer-based technology and music teaching and learning: 2000\\xe2\\x80\\x932005. In L. Bresler (Ed.) International Handbook of Research in Arts Education, (p. 1311\\xe2\\x80\\x931328).</unstructured_citation>\\n            </citation>\\n\\n            <citation key=\"ref_30\">\\n                <author>Wiggins, J.</author>\\n                <cYear>2009</cYear>\\n                <article_title>Teaching for musical understanding</article_title>\\n                <edition_number>2</edition_number>\\n                <unstructured_citation>Wiggins, J. (2009). Teaching for musical understanding (2nd Ed.). Rochester, MI: CARMU Oakland University.</unstructured_citation>\\n            </citation>\\n\\n            <citation key=\"ref_31\">\\n                <author>Ziestman, A.; Clement, J.</author>\\n                <cYear>1997</cYear>\\n                <article_title>The role of extreme case reasoning in instruction for conceptual change</article_title>\\n                <journal_title>Journal of the Learning Sciences</journal_title>\\n                <volume>6</volume>\\n                <first_page>61</first_page>\\n                <unstructured_citation>Ziestman, A. &amp; Clement, J. (1997). The role of extreme case reasoning in instruction for conceptual change. Journal of the Learning Sciences, 6, 61-89.</unstructured_citation>\\n            </citation>\\n\\n        </citation_list>\\n    </doi_citations>\\n </body>\\n</doi_batch>\\n\\n'"
      ]
     },
     "execution_count": 68,
     "metadata": {},
     "output_type": "execute_result"
    }
   ],
   "source": [
    "response.content"
   ]
  },
  {
   "cell_type": "code",
   "execution_count": 69,
   "metadata": {},
   "outputs": [],
   "source": [
    "from lxml import etree"
   ]
  },
  {
   "cell_type": "code",
   "execution_count": 70,
   "metadata": {},
   "outputs": [],
   "source": [
    "xml2 = etree.iterparse(destination, recover=True)\n",
    "data = []\n",
    "for action, elem in xml2:\n",
    "    data.append((elem.attrib, elem.tag, elem.text))"
   ]
  },
  {
   "cell_type": "code",
   "execution_count": 71,
   "metadata": {},
   "outputs": [
    {
     "data": {
      "text/plain": [
       "[({},\n",
       "  '{http://www.crossref.org/doi_resources_schema/4.3.6}doi_batch_id',\n",
       "  '00000000'),\n",
       " ({},\n",
       "  '{http://www.crossref.org/doi_resources_schema/4.3.6}depositor_name',\n",
       "  'anonymous'),\n",
       " ({},\n",
       "  '{http://www.crossref.org/doi_resources_schema/4.3.6}email_address',\n",
       "  'email@domain.com'),\n",
       " ({},\n",
       "  '{http://www.crossref.org/doi_resources_schema/4.3.6}depositor',\n",
       "  '\\n        '),\n",
       " ({}, '{http://www.crossref.org/doi_resources_schema/4.3.6}head', '\\n    '),\n",
       " ({}, '{http://www.crossref.org/doi_resources_schema/4.3.6}doi', 'None'),\n",
       " ({},\n",
       "  '{http://www.crossref.org/doi_resources_schema/4.3.6}author',\n",
       "  'Bamberger, J.'),\n",
       " ({}, '{http://www.crossref.org/doi_resources_schema/4.3.6}cYear', '1996'),\n",
       " ({},\n",
       "  '{http://www.crossref.org/doi_resources_schema/4.3.6}article_title',\n",
       "  'Turning music theory on its ear: Do we hear what we see; do we see what we hear?'),\n",
       " ({},\n",
       "  '{http://www.crossref.org/doi_resources_schema/4.3.6}journal_title',\n",
       "  'International Journal of Computers for Mathematical Learning'),\n",
       " ({}, '{http://www.crossref.org/doi_resources_schema/4.3.6}volume', '1'),\n",
       " ({}, '{http://www.crossref.org/doi_resources_schema/4.3.6}first_page', '33'),\n",
       " ({},\n",
       "  '{http://www.crossref.org/doi_resources_schema/4.3.6}unstructured_citation',\n",
       "  'Bamberger, J. (1996). Turning music theory on its ear: Do we hear what we see; do we see what we hear? International Journal of Computers for Mathematical Learning, 1, 33-55.'),\n",
       " ({'key': 'ref_1'},\n",
       "  '{http://www.crossref.org/doi_resources_schema/4.3.6}citation',\n",
       "  '\\n                '),\n",
       " ({},\n",
       "  '{http://www.crossref.org/doi_resources_schema/4.3.6}author',\n",
       "  'Bamberger, J.'),\n",
       " ({}, '{http://www.crossref.org/doi_resources_schema/4.3.6}cYear', '1999'),\n",
       " ({},\n",
       "  '{http://www.crossref.org/doi_resources_schema/4.3.6}article_title',\n",
       "  'Learning from the children we teach'),\n",
       " ({},\n",
       "  '{http://www.crossref.org/doi_resources_schema/4.3.6}journal_title',\n",
       "  'Bulletin of the Council for Research in Music Education'),\n",
       " ({}, '{http://www.crossref.org/doi_resources_schema/4.3.6}volume', '142'),\n",
       " ({}, '{http://www.crossref.org/doi_resources_schema/4.3.6}first_page', '48'),\n",
       " ({},\n",
       "  '{http://www.crossref.org/doi_resources_schema/4.3.6}unstructured_citation',\n",
       "  'Bamberger, J. (1999). Learning from the children we teach. Bulletin of the Council for Research in Music Education, 142, 48-74.'),\n",
       " ({'key': 'ref_2'},\n",
       "  '{http://www.crossref.org/doi_resources_schema/4.3.6}citation',\n",
       "  '\\n                '),\n",
       " ({},\n",
       "  '{http://www.crossref.org/doi_resources_schema/4.3.6}author',\n",
       "  'Bamberger, J.'),\n",
       " ({}, '{http://www.crossref.org/doi_resources_schema/4.3.6}cYear', '2000'),\n",
       " ({},\n",
       "  '{http://www.crossref.org/doi_resources_schema/4.3.6}article_title',\n",
       "  'Developing musical intuitions: A project-based introduction to making and understanding music'),\n",
       " ({},\n",
       "  '{http://www.crossref.org/doi_resources_schema/4.3.6}unstructured_citation',\n",
       "  'Bamberger, J. (2000). Developing musical intuitions: A project-based introduction to making and understanding music. New York, NY: Oxford University Press.'),\n",
       " ({'key': 'ref_3'},\n",
       "  '{http://www.crossref.org/doi_resources_schema/4.3.6}citation',\n",
       "  '\\n                '),\n",
       " ({},\n",
       "  '{http://www.crossref.org/doi_resources_schema/4.3.6}author',\n",
       "  'Bamberger, J.'),\n",
       " ({}, '{http://www.crossref.org/doi_resources_schema/4.3.6}cYear', '2013'),\n",
       " ({},\n",
       "  '{http://www.crossref.org/doi_resources_schema/4.3.6}article_title',\n",
       "  'Discovering the musical mind: A view of creativity as learning'),\n",
       " ({},\n",
       "  '{http://www.crossref.org/doi_resources_schema/4.3.6}unstructured_citation',\n",
       "  'Bamberger, J. (2013). Discovering the musical mind: A view of creativity as learning. Oxford, England: Oxford University Press.'),\n",
       " ({'key': 'ref_4'},\n",
       "  '{http://www.crossref.org/doi_resources_schema/4.3.6}citation',\n",
       "  '\\n                '),\n",
       " ({},\n",
       "  '{http://www.crossref.org/doi_resources_schema/4.3.6}author',\n",
       "  'Bowers, K.S.; Regehr, G.; Balthazard, C.; Parker, K.'),\n",
       " ({}, '{http://www.crossref.org/doi_resources_schema/4.3.6}cYear', '1990'),\n",
       " ({},\n",
       "  '{http://www.crossref.org/doi_resources_schema/4.3.6}article_title',\n",
       "  'Intuition in the context of discovery'),\n",
       " ({},\n",
       "  '{http://www.crossref.org/doi_resources_schema/4.3.6}journal_title',\n",
       "  'Cognitive Psychology'),\n",
       " ({}, '{http://www.crossref.org/doi_resources_schema/4.3.6}volume', '22'),\n",
       " ({}, '{http://www.crossref.org/doi_resources_schema/4.3.6}first_page', '72'),\n",
       " ({},\n",
       "  '{http://www.crossref.org/doi_resources_schema/4.3.6}unstructured_citation',\n",
       "  'Bowers, K. S., Regehr, G., Balthazard, C., & Parker, K. (1990). Intuition in the context of discovery. Cognitive Psychology, 22, 72-110.'),\n",
       " ({'key': 'ref_5'},\n",
       "  '{http://www.crossref.org/doi_resources_schema/4.3.6}citation',\n",
       "  '\\n                '),\n",
       " ({},\n",
       "  '{http://www.crossref.org/doi_resources_schema/4.3.6}author',\n",
       "  'Bray, D.'),\n",
       " ({}, '{http://www.crossref.org/doi_resources_schema/4.3.6}cYear', '1997'),\n",
       " ({},\n",
       "  '{http://www.crossref.org/doi_resources_schema/4.3.6}article_title',\n",
       "  'CD ROM in music education'),\n",
       " ({},\n",
       "  '{http://www.crossref.org/doi_resources_schema/4.3.6}journal_title',\n",
       "  'British Journal of Music Education, 14'),\n",
       " ({}, '{http://www.crossref.org/doi_resources_schema/4.3.6}volume', '2'),\n",
       " ({}, '{http://www.crossref.org/doi_resources_schema/4.3.6}first_page', '137'),\n",
       " ({},\n",
       "  '{http://www.crossref.org/doi_resources_schema/4.3.6}unstructured_citation',\n",
       "  'Bray, D. (1997). CD ROM in music education. British Journal of Music Education, 14, 2, 137-142.'),\n",
       " ({'key': 'ref_6'},\n",
       "  '{http://www.crossref.org/doi_resources_schema/4.3.6}citation',\n",
       "  '\\n                '),\n",
       " ({},\n",
       "  '{http://www.crossref.org/doi_resources_schema/4.3.6}author',\n",
       "  'Chi, M.T.H.; DeLeeuw, Chiu; M-H.; Lavancher, C.'),\n",
       " ({}, '{http://www.crossref.org/doi_resources_schema/4.3.6}cYear', '1994'),\n",
       " ({},\n",
       "  '{http://www.crossref.org/doi_resources_schema/4.3.6}article_title',\n",
       "  'Eliciting self-explanation improves understanding'),\n",
       " ({},\n",
       "  '{http://www.crossref.org/doi_resources_schema/4.3.6}journal_title',\n",
       "  'Cognitive Science'),\n",
       " ({}, '{http://www.crossref.org/doi_resources_schema/4.3.6}volume', '18'),\n",
       " ({}, '{http://www.crossref.org/doi_resources_schema/4.3.6}first_page', '439'),\n",
       " ({},\n",
       "  '{http://www.crossref.org/doi_resources_schema/4.3.6}unstructured_citation',\n",
       "  'Chi, M. T. H., DeLeeuw, Chiu, M-H., & Lavancher, C. (1994). Eliciting self-explanation improves understanding. Cognitive Science, 18, 439-477.'),\n",
       " ({'key': 'ref_7'},\n",
       "  '{http://www.crossref.org/doi_resources_schema/4.3.6}citation',\n",
       "  '\\n                '),\n",
       " ({},\n",
       "  '{http://www.crossref.org/doi_resources_schema/4.3.6}author',\n",
       "  'Clement, J.'),\n",
       " ({}, '{http://www.crossref.org/doi_resources_schema/4.3.6}cYear', '1993'),\n",
       " ({},\n",
       "  '{http://www.crossref.org/doi_resources_schema/4.3.6}article_title',\n",
       "  'Using bridging analogies and anchoring intuitions to deal with studentsâ\\x80\\x99 preconceptions in physics'),\n",
       " ({},\n",
       "  '{http://www.crossref.org/doi_resources_schema/4.3.6}journal_title',\n",
       "  'Journal of Research in Science Teaching'),\n",
       " ({}, '{http://www.crossref.org/doi_resources_schema/4.3.6}volume', '30'),\n",
       " ({},\n",
       "  '{http://www.crossref.org/doi_resources_schema/4.3.6}first_page',\n",
       "  '1241'),\n",
       " ({},\n",
       "  '{http://www.crossref.org/doi_resources_schema/4.3.6}unstructured_citation',\n",
       "  'Clement, J. (1993). Using bridging analogies and anchoring intuitions to deal with studentsâ\\x80\\x99 preconceptions in physics. Journal of Research in Science Teaching, 30, 1241-1257.'),\n",
       " ({'key': 'ref_8'},\n",
       "  '{http://www.crossref.org/doi_resources_schema/4.3.6}citation',\n",
       "  '\\n                '),\n",
       " ({},\n",
       "  '{http://www.crossref.org/doi_resources_schema/4.3.6}author',\n",
       "  'Dalgarno, G.'),\n",
       " ({}, '{http://www.crossref.org/doi_resources_schema/4.3.6}cYear', '1997'),\n",
       " ({},\n",
       "  '{http://www.crossref.org/doi_resources_schema/4.3.6}article_title',\n",
       "  'Creating an expressive performance without being able to play a musical instrument'),\n",
       " ({},\n",
       "  '{http://www.crossref.org/doi_resources_schema/4.3.6}journal_title',\n",
       "  'British Journal of Music Education, 14'),\n",
       " ({}, '{http://www.crossref.org/doi_resources_schema/4.3.6}volume', '2'),\n",
       " ({}, '{http://www.crossref.org/doi_resources_schema/4.3.6}first_page', '163'),\n",
       " ({},\n",
       "  '{http://www.crossref.org/doi_resources_schema/4.3.6}unstructured_citation',\n",
       "  'Dalgarno, G. (1997). Creating an expressive performance without being able to play a musical instrument. British Journal of Music Education, 14, 2, 163-171.'),\n",
       " ({'key': 'ref_9'},\n",
       "  '{http://www.crossref.org/doi_resources_schema/4.3.6}citation',\n",
       "  '\\n                '),\n",
       " ({},\n",
       "  '{http://www.crossref.org/doi_resources_schema/4.3.6}author',\n",
       "  'diSessa, A.'),\n",
       " ({}, '{http://www.crossref.org/doi_resources_schema/4.3.6}cYear', '1993'),\n",
       " ({},\n",
       "  '{http://www.crossref.org/doi_resources_schema/4.3.6}article_title',\n",
       "  'Toward an epistemology of physics'),\n",
       " ({},\n",
       "  '{http://www.crossref.org/doi_resources_schema/4.3.6}journal_title',\n",
       "  'Cognition and Instruction'),\n",
       " ({}, '{http://www.crossref.org/doi_resources_schema/4.3.6}volume', '10'),\n",
       " ({}, '{http://www.crossref.org/doi_resources_schema/4.3.6}first_page', '105'),\n",
       " ({},\n",
       "  '{http://www.crossref.org/doi_resources_schema/4.3.6}unstructured_citation',\n",
       "  'diSessa, A. (1993). Toward an epistemology of physics. Cognition and Instruction, 10, 105-225.'),\n",
       " ({'key': 'ref_10'},\n",
       "  '{http://www.crossref.org/doi_resources_schema/4.3.6}citation',\n",
       "  '\\n                '),\n",
       " ({},\n",
       "  '{http://www.crossref.org/doi_resources_schema/4.3.6}author',\n",
       "  'Easen, P.; Wilcockson, J.'),\n",
       " ({}, '{http://www.crossref.org/doi_resources_schema/4.3.6}cYear', '1996'),\n",
       " ({},\n",
       "  '{http://www.crossref.org/doi_resources_schema/4.3.6}article_title',\n",
       "  'Intution and rational decision-making in professional thinking: A false dichotomy?'),\n",
       " ({},\n",
       "  '{http://www.crossref.org/doi_resources_schema/4.3.6}journal_title',\n",
       "  'Journal of Advanced Nursing'),\n",
       " ({}, '{http://www.crossref.org/doi_resources_schema/4.3.6}volume', '24'),\n",
       " ({}, '{http://www.crossref.org/doi_resources_schema/4.3.6}first_page', '667'),\n",
       " ({},\n",
       "  '{http://www.crossref.org/doi_resources_schema/4.3.6}unstructured_citation',\n",
       "  'Easen, P. & Wilcockson, J. (1996). Intution and rational decision-making in professional thinking: A false dichotomy? Journal of Advanced Nursing, 24, 667-673.'),\n",
       " ({'key': 'ref_11'},\n",
       "  '{http://www.crossref.org/doi_resources_schema/4.3.6}citation',\n",
       "  '\\n                '),\n",
       " ({},\n",
       "  '{http://www.crossref.org/doi_resources_schema/4.3.6}author',\n",
       "  'Fischbein, E.'),\n",
       " ({}, '{http://www.crossref.org/doi_resources_schema/4.3.6}cYear', '1982'),\n",
       " ({},\n",
       "  '{http://www.crossref.org/doi_resources_schema/4.3.6}article_title',\n",
       "  'Intuition and proof'),\n",
       " ({},\n",
       "  '{http://www.crossref.org/doi_resources_schema/4.3.6}journal_title',\n",
       "  'For the Learning of Mathematics'),\n",
       " ({}, '{http://www.crossref.org/doi_resources_schema/4.3.6}volume', '3'),\n",
       " ({}, '{http://www.crossref.org/doi_resources_schema/4.3.6}first_page', '9'),\n",
       " ({},\n",
       "  '{http://www.crossref.org/doi_resources_schema/4.3.6}unstructured_citation',\n",
       "  'Fischbein, E. (1982). Intuition and proof. For the Learning of Mathematics, 3, 9-18.'),\n",
       " ({'key': 'ref_12'},\n",
       "  '{http://www.crossref.org/doi_resources_schema/4.3.6}citation',\n",
       "  '\\n                '),\n",
       " ({},\n",
       "  '{http://www.crossref.org/doi_resources_schema/4.3.6}author',\n",
       "  'Fischbein, E.'),\n",
       " ({}, '{http://www.crossref.org/doi_resources_schema/4.3.6}cYear', '1987'),\n",
       " ({},\n",
       "  '{http://www.crossref.org/doi_resources_schema/4.3.6}article_title',\n",
       "  'Intuition in science and mathematics: An educational approach'),\n",
       " ({},\n",
       "  '{http://www.crossref.org/doi_resources_schema/4.3.6}unstructured_citation',\n",
       "  'Fischbein, E. (1987). Intuition in science and mathematics: An educational approach. Boston, MA: D. Reidel Publishing.'),\n",
       " ({'key': 'ref_13'},\n",
       "  '{http://www.crossref.org/doi_resources_schema/4.3.6}citation',\n",
       "  '\\n                '),\n",
       " ({},\n",
       "  '{http://www.crossref.org/doi_resources_schema/4.3.6}author',\n",
       "  'Granott, N.; Parziale, J.'),\n",
       " ({}, '{http://www.crossref.org/doi_resources_schema/4.3.6}cYear', '2002'),\n",
       " ({},\n",
       "  '{http://www.crossref.org/doi_resources_schema/4.3.6}article_title',\n",
       "  'Microdevelopment transition processes in development and learning'),\n",
       " ({},\n",
       "  '{http://www.crossref.org/doi_resources_schema/4.3.6}unstructured_citation',\n",
       "  'Granott, N. & Parziale, J. (Eds). (2002). Microdevelopment transition processes in development and learning.'),\n",
       " ({'key': 'ref_14'},\n",
       "  '{http://www.crossref.org/doi_resources_schema/4.3.6}citation',\n",
       "  '\\n                '),\n",
       " ({},\n",
       "  '{http://www.crossref.org/doi_resources_schema/4.3.6}author',\n",
       "  'Green, L.'),\n",
       " ({}, '{http://www.crossref.org/doi_resources_schema/4.3.6}cYear', '2002'),\n",
       " ({},\n",
       "  '{http://www.crossref.org/doi_resources_schema/4.3.6}article_title',\n",
       "  'How popular musicians learn: A way ahead for music education'),\n",
       " ({},\n",
       "  '{http://www.crossref.org/doi_resources_schema/4.3.6}unstructured_citation',\n",
       "  'Green, L. (2002). How popular musicians learn: A way ahead for music education. Burlington, VT: Ashgate.'),\n",
       " ({'key': 'ref_15'},\n",
       "  '{http://www.crossref.org/doi_resources_schema/4.3.6}citation',\n",
       "  '\\n                '),\n",
       " ({},\n",
       "  '{http://www.crossref.org/doi_resources_schema/4.3.6}author',\n",
       "  'Kafai, Y.B.'),\n",
       " ({}, '{http://www.crossref.org/doi_resources_schema/4.3.6}cYear', '2006'),\n",
       " ({},\n",
       "  '{http://www.crossref.org/doi_resources_schema/4.3.6}article_title',\n",
       "  'Constructionism. In R. K. Sawyer (Ed.) The Cambridge Handbook of the Learning Sciences (p. 35-46)'),\n",
       " ({},\n",
       "  '{http://www.crossref.org/doi_resources_schema/4.3.6}unstructured_citation',\n",
       "  'Kafai, Y. B. (2006). Constructionism. In R. K. Sawyer (Ed.) The Cambridge Handbook of the Learning Sciences (p. 35-46). New York, NY: Cambridge University Press.'),\n",
       " ({'key': 'ref_16'},\n",
       "  '{http://www.crossref.org/doi_resources_schema/4.3.6}citation',\n",
       "  '\\n                '),\n",
       " ({},\n",
       "  '{http://www.crossref.org/doi_resources_schema/4.3.6}author',\n",
       "  'Keiper, S.; Sandene, B.A.; Persky, H.R.; Kuang, M.'),\n",
       " ({}, '{http://www.crossref.org/doi_resources_schema/4.3.6}cYear', '2009'),\n",
       " ({},\n",
       "  '{http://www.crossref.org/doi_resources_schema/4.3.6}article_title',\n",
       "  'The Nationâ\\x80\\x99s Report Card: Arts 2008'),\n",
       " ({},\n",
       "  '{http://www.crossref.org/doi_resources_schema/4.3.6}unstructured_citation',\n",
       "  'Keiper, S., Sandene, B. A., Persky, H. R., & Kuang, M. (2009). The Nationâ\\x80\\x99s Report Card: Arts 2008 Music &'),\n",
       " ({'key': 'ref_17'},\n",
       "  '{http://www.crossref.org/doi_resources_schema/4.3.6}citation',\n",
       "  '\\n                '),\n",
       " ({},\n",
       "  '{http://www.crossref.org/doi_resources_schema/4.3.6}article_title',\n",
       "  'Visual Arts'),\n",
       " ({},\n",
       "  '{http://www.crossref.org/doi_resources_schema/4.3.6}journal_title',\n",
       "  'Understanding the world of objects and of people: Intuition as the core element of deep level learning; International Journal of Educational Research'),\n",
       " ({}, '{http://www.crossref.org/doi_resources_schema/4.3.6}author', 'F.'),\n",
       " ({}, '{http://www.crossref.org/doi_resources_schema/4.3.6}cYear', '1998'),\n",
       " ({}, '{http://www.crossref.org/doi_resources_schema/4.3.6}volume', '29'),\n",
       " ({}, '{http://www.crossref.org/doi_resources_schema/4.3.6}first_page', '69'),\n",
       " ({},\n",
       "  '{http://www.crossref.org/doi_resources_schema/4.3.6}unstructured_citation',\n",
       "  'Visual Arts. Retrieved July 2, 2012 from nces.ed.gov/nationsreportcard/pubs/main2008/2009488.asp Laevers, F. (1998). Understanding the world of objects and of people: Intuition as the core element of deep level learning. International Journal of Educational Research, 29, 69-86.'),\n",
       " ({'key': 'ref_18'},\n",
       "  '{http://www.crossref.org/doi_resources_schema/4.3.6}citation',\n",
       "  '\\n                '),\n",
       " ({},\n",
       "  '{http://www.crossref.org/doi_resources_schema/4.3.6}author',\n",
       "  'Noddings, N.; Shore, P.J.'),\n",
       " ({}, '{http://www.crossref.org/doi_resources_schema/4.3.6}cYear', '1984'),\n",
       " ({},\n",
       "  '{http://www.crossref.org/doi_resources_schema/4.3.6}article_title',\n",
       "  'Awakening the inner eye: Intuition and education'),\n",
       " ({},\n",
       "  '{http://www.crossref.org/doi_resources_schema/4.3.6}unstructured_citation',\n",
       "  'Noddings, N. & Shore, P. J. (1984). Awakening the inner eye: Intuition and education. New York, NY: Teachers College Press.'),\n",
       " ({'key': 'ref_19'},\n",
       "  '{http://www.crossref.org/doi_resources_schema/4.3.6}citation',\n",
       "  '\\n                '),\n",
       " ({},\n",
       "  '{http://www.crossref.org/doi_resources_schema/4.3.6}author',\n",
       "  'Papert, S.'),\n",
       " ({}, '{http://www.crossref.org/doi_resources_schema/4.3.6}cYear', '1980'),\n",
       " ({},\n",
       "  '{http://www.crossref.org/doi_resources_schema/4.3.6}article_title',\n",
       "  'Mindstorms: Children, computers, and powerful Ideas'),\n",
       " ({},\n",
       "  '{http://www.crossref.org/doi_resources_schema/4.3.6}unstructured_citation',\n",
       "  'Papert, S. (1980). Mindstorms: Children, computers, and powerful Ideas. New York, NY: Basic Books.'),\n",
       " ({'key': 'ref_20'},\n",
       "  '{http://www.crossref.org/doi_resources_schema/4.3.6}citation',\n",
       "  '\\n                '),\n",
       " ({},\n",
       "  '{http://www.crossref.org/doi_resources_schema/4.3.6}author',\n",
       "  'Papert, S.'),\n",
       " ({}, '{http://www.crossref.org/doi_resources_schema/4.3.6}cYear', '1991'),\n",
       " ({},\n",
       "  '{http://www.crossref.org/doi_resources_schema/4.3.6}article_title',\n",
       "  'Situating constructionism. In I. Harel & S. Papert (Eds.) Constructionism (p.1-12)'),\n",
       " ({},\n",
       "  '{http://www.crossref.org/doi_resources_schema/4.3.6}unstructured_citation',\n",
       "  'Papert, S. (1991) Situating constructionism. In I. Harel & S. Papert (Eds.) Constructionism (p.1-12). New York, NY: Ablex.'),\n",
       " ({'key': 'ref_21'},\n",
       "  '{http://www.crossref.org/doi_resources_schema/4.3.6}citation',\n",
       "  '\\n                '),\n",
       " ({},\n",
       "  '{http://www.crossref.org/doi_resources_schema/4.3.6}author',\n",
       "  'Papert, S.'),\n",
       " ({}, '{http://www.crossref.org/doi_resources_schema/4.3.6}cYear', '1993'),\n",
       " ({},\n",
       "  '{http://www.crossref.org/doi_resources_schema/4.3.6}article_title',\n",
       "  'The childrenâ\\x80\\x99s machine'),\n",
       " ({},\n",
       "  '{http://www.crossref.org/doi_resources_schema/4.3.6}unstructured_citation',\n",
       "  'Papert, S. (1993). The childrenâ\\x80\\x99s machine. New York, NY: Basic Books.'),\n",
       " ({'key': 'ref_22'},\n",
       "  '{http://www.crossref.org/doi_resources_schema/4.3.6}citation',\n",
       "  '\\n                '),\n",
       " ({},\n",
       "  '{http://www.crossref.org/doi_resources_schema/4.3.6}author',\n",
       "  'Peppler, K.A.; Kafai, Y.B.'),\n",
       " ({}, '{http://www.crossref.org/doi_resources_schema/4.3.6}cYear', '2007'),\n",
       " ({},\n",
       "  '{http://www.crossref.org/doi_resources_schema/4.3.6}article_title',\n",
       "  'From SuperGoo to Scratch: Exploring creative digital media production in informal learning'),\n",
       " ({},\n",
       "  '{http://www.crossref.org/doi_resources_schema/4.3.6}journal_title',\n",
       "  'Learning, Media, and Technology'),\n",
       " ({}, '{http://www.crossref.org/doi_resources_schema/4.3.6}volume', '32'),\n",
       " ({}, '{http://www.crossref.org/doi_resources_schema/4.3.6}first_page', '149'),\n",
       " ({},\n",
       "  '{http://www.crossref.org/doi_resources_schema/4.3.6}unstructured_citation',\n",
       "  'Peppler, K. A. & Kafai, Y. B. (2007). From SuperGoo to Scratch: Exploring creative digital media production in informal learning. Learning, Media, and Technology, 32, 149-166.'),\n",
       " ({'key': 'ref_23'},\n",
       "  '{http://www.crossref.org/doi_resources_schema/4.3.6}citation',\n",
       "  '\\n                '),\n",
       " ({},\n",
       "  '{http://www.crossref.org/doi_resources_schema/4.3.6}author',\n",
       "  'Pinkett, R.D.'),\n",
       " ({}, '{http://www.crossref.org/doi_resources_schema/4.3.6}cYear', '2000'),\n",
       " ({},\n",
       "  '{http://www.crossref.org/doi_resources_schema/4.3.6}article_title',\n",
       "  'Bridging the digital divide. Sociocultural constructionism and an asset-based approach to community technology and community building. Presentation at the 81st Annual Meeting of the American Educational Research Association, New Orleans, LA'),\n",
       " ({},\n",
       "  '{http://www.crossref.org/doi_resources_schema/4.3.6}journal_title',\n",
       "  'Journal of the Learning Sciences; Diving into complexity: Developing probabilistic decentralized thinking through role-playing activities'),\n",
       " ({}, '{http://www.crossref.org/doi_resources_schema/4.3.6}volume', '7'),\n",
       " ({}, '{http://www.crossref.org/doi_resources_schema/4.3.6}first_page', '153'),\n",
       " ({},\n",
       "  '{http://www.crossref.org/doi_resources_schema/4.3.6}unstructured_citation',\n",
       "  'Pinkett, R. D. (2000). Bridging the digital divide. Sociocultural constructionism and an asset-based approach to community technology and community building. Presentation at the 81st Annual Meeting of the American Educational Research Association, New Orleans, LA. Resnick, M., & Wilensky, U. (1998). Diving into complexity: Developing probabilistic decentralized thinking through role-playing activities. Journal of the Learning Sciences, 7, 153-172.'),\n",
       " ({'key': 'ref_24'},\n",
       "  '{http://www.crossref.org/doi_resources_schema/4.3.6}citation',\n",
       "  '\\n                '),\n",
       " ({},\n",
       "  '{http://www.crossref.org/doi_resources_schema/4.3.6}author',\n",
       "  'Savage, J.'),\n",
       " ({}, '{http://www.crossref.org/doi_resources_schema/4.3.6}cYear', '2005'),\n",
       " ({},\n",
       "  '{http://www.crossref.org/doi_resources_schema/4.3.6}article_title',\n",
       "  'Working towards a theory for music technologies in the classroom: How pupils engage with and organize sounds with new technologies'),\n",
       " ({},\n",
       "  '{http://www.crossref.org/doi_resources_schema/4.3.6}journal_title',\n",
       "  'British Journal of Music Education'),\n",
       " ({}, '{http://www.crossref.org/doi_resources_schema/4.3.6}volume', '2'),\n",
       " ({}, '{http://www.crossref.org/doi_resources_schema/4.3.6}first_page', '167'),\n",
       " ({},\n",
       "  '{http://www.crossref.org/doi_resources_schema/4.3.6}unstructured_citation',\n",
       "  'Savage, J. (2005). Working towards a theory for music technologies in the classroom: How pupils engage with and organize sounds with new technologies. British Journal of Music Education, 2, 167-180.'),\n",
       " ({'key': 'ref_25'},\n",
       "  '{http://www.crossref.org/doi_resources_schema/4.3.6}citation',\n",
       "  '\\n                '),\n",
       " ({},\n",
       "  '{http://www.crossref.org/doi_resources_schema/4.3.6}author',\n",
       "  'Sawyer, R.K.'),\n",
       " ({}, '{http://www.crossref.org/doi_resources_schema/4.3.6}cYear', '2008'),\n",
       " ({},\n",
       "  '{http://www.crossref.org/doi_resources_schema/4.3.6}article_title',\n",
       "  'Group genius: The creative power of collaboration'),\n",
       " ({},\n",
       "  '{http://www.crossref.org/doi_resources_schema/4.3.6}volume_title',\n",
       "  'The reflective practitioner. How professionals think in action'),\n",
       " ({},\n",
       "  '{http://www.crossref.org/doi_resources_schema/4.3.6}unstructured_citation',\n",
       "  'Sawyer, R. K. (2008). Group genius: The creative power of collaboration. New York, NY: Basic Books SchÃ¶n, D. A. (1983). The reflective practitioner. How professionals think in action. New York, NY: Basic Books.'),\n",
       " ({'key': 'ref_26'},\n",
       "  '{http://www.crossref.org/doi_resources_schema/4.3.6}citation',\n",
       "  '\\n                '),\n",
       " ({},\n",
       "  '{http://www.crossref.org/doi_resources_schema/4.3.6}author',\n",
       "  'SchÃ¶n, D.A.'),\n",
       " ({}, '{http://www.crossref.org/doi_resources_schema/4.3.6}cYear', '1987'),\n",
       " ({},\n",
       "  '{http://www.crossref.org/doi_resources_schema/4.3.6}article_title',\n",
       "  'Educating the reflective practitioner: Towards a new design for teaching and learning. San Francisco, CA: Josey-Bass. Swanwick, K'),\n",
       " ({},\n",
       "  '{http://www.crossref.org/doi_resources_schema/4.3.6}volume_title',\n",
       "  'Musical knowledge: Intuition, analysis, and music education'),\n",
       " ({},\n",
       "  '{http://www.crossref.org/doi_resources_schema/4.3.6}unstructured_citation',\n",
       "  'SchÃ¶n, D. A. (1987). Educating the reflective practitioner: Towards a new design for teaching and learning. San Francisco, CA: Josey-Bass. Swanwick, K. (1994). Musical knowledge: Intuition, analysis, and music education. New York, NY: Routledge.'),\n",
       " ({'key': 'ref_27'},\n",
       "  '{http://www.crossref.org/doi_resources_schema/4.3.6}citation',\n",
       "  '\\n                '),\n",
       " ({},\n",
       "  '{http://www.crossref.org/doi_resources_schema/4.3.6}author',\n",
       "  'Swainwick, K.; Tillman, J.'),\n",
       " ({}, '{http://www.crossref.org/doi_resources_schema/4.3.6}cYear', '1986'),\n",
       " ({},\n",
       "  '{http://www.crossref.org/doi_resources_schema/4.3.6}article_title',\n",
       "  'The sequence of musical development. A study of childrenâ\\x80\\x99s composition'),\n",
       " ({},\n",
       "  '{http://www.crossref.org/doi_resources_schema/4.3.6}journal_title',\n",
       "  'British Journal of Music Education'),\n",
       " ({}, '{http://www.crossref.org/doi_resources_schema/4.3.6}volume', '3'),\n",
       " ({}, '{http://www.crossref.org/doi_resources_schema/4.3.6}first_page', '305'),\n",
       " ({},\n",
       "  '{http://www.crossref.org/doi_resources_schema/4.3.6}unstructured_citation',\n",
       "  'Swainwick, K. & Tillman, J. (1986). The sequence of musical development. A study of childrenâ\\x80\\x99s composition. British Journal of Music Education, 3, 305-339.'),\n",
       " ({'key': 'ref_28'},\n",
       "  '{http://www.crossref.org/doi_resources_schema/4.3.6}citation',\n",
       "  '\\n                '),\n",
       " ({},\n",
       "  '{http://www.crossref.org/doi_resources_schema/4.3.6}author',\n",
       "  'Webster, P.R.'),\n",
       " ({}, '{http://www.crossref.org/doi_resources_schema/4.3.6}cYear', '2006'),\n",
       " ({},\n",
       "  '{http://www.crossref.org/doi_resources_schema/4.3.6}article_title',\n",
       "  'Computer-based technology and music teaching and learning: 2000â\\x80\\x932005. In L'),\n",
       " ({},\n",
       "  '{http://www.crossref.org/doi_resources_schema/4.3.6}journal_title',\n",
       "  'Bresler (Ed.) International Handbook of Research in Arts Education'),\n",
       " ({}, '{http://www.crossref.org/doi_resources_schema/4.3.6}volume', '(p.'),\n",
       " ({},\n",
       "  '{http://www.crossref.org/doi_resources_schema/4.3.6}unstructured_citation',\n",
       "  'Webster, P. R. (2006). Computer-based technology and music teaching and learning: 2000â\\x80\\x932005. In L. Bresler (Ed.) International Handbook of Research in Arts Education, (p. 1311â\\x80\\x931328).'),\n",
       " ({'key': 'ref_29'},\n",
       "  '{http://www.crossref.org/doi_resources_schema/4.3.6}citation',\n",
       "  '\\n                '),\n",
       " ({},\n",
       "  '{http://www.crossref.org/doi_resources_schema/4.3.6}author',\n",
       "  'Wiggins, J.'),\n",
       " ({}, '{http://www.crossref.org/doi_resources_schema/4.3.6}cYear', '2009'),\n",
       " ({},\n",
       "  '{http://www.crossref.org/doi_resources_schema/4.3.6}article_title',\n",
       "  'Teaching for musical understanding'),\n",
       " ({},\n",
       "  '{http://www.crossref.org/doi_resources_schema/4.3.6}edition_number',\n",
       "  '2'),\n",
       " ({},\n",
       "  '{http://www.crossref.org/doi_resources_schema/4.3.6}unstructured_citation',\n",
       "  'Wiggins, J. (2009). Teaching for musical understanding (2nd Ed.). Rochester, MI: CARMU Oakland University.'),\n",
       " ({'key': 'ref_30'},\n",
       "  '{http://www.crossref.org/doi_resources_schema/4.3.6}citation',\n",
       "  '\\n                '),\n",
       " ({},\n",
       "  '{http://www.crossref.org/doi_resources_schema/4.3.6}author',\n",
       "  'Ziestman, A.; Clement, J.'),\n",
       " ({}, '{http://www.crossref.org/doi_resources_schema/4.3.6}cYear', '1997'),\n",
       " ({},\n",
       "  '{http://www.crossref.org/doi_resources_schema/4.3.6}article_title',\n",
       "  'The role of extreme case reasoning in instruction for conceptual change'),\n",
       " ({},\n",
       "  '{http://www.crossref.org/doi_resources_schema/4.3.6}journal_title',\n",
       "  'Journal of the Learning Sciences'),\n",
       " ({}, '{http://www.crossref.org/doi_resources_schema/4.3.6}volume', '6'),\n",
       " ({}, '{http://www.crossref.org/doi_resources_schema/4.3.6}first_page', '61'),\n",
       " ({},\n",
       "  '{http://www.crossref.org/doi_resources_schema/4.3.6}unstructured_citation',\n",
       "  'Ziestman, A. & Clement, J. (1997). The role of extreme case reasoning in instruction for conceptual change. Journal of the Learning Sciences, 6, 61-89.'),\n",
       " ({'key': 'ref_31'},\n",
       "  '{http://www.crossref.org/doi_resources_schema/4.3.6}citation',\n",
       "  '\\n                '),\n",
       " ({},\n",
       "  '{http://www.crossref.org/doi_resources_schema/4.3.6}citation_list',\n",
       "  '\\n            '),\n",
       " ({},\n",
       "  '{http://www.crossref.org/doi_resources_schema/4.3.6}doi_citations',\n",
       "  '\\n        '),\n",
       " ({}, '{http://www.crossref.org/doi_resources_schema/4.3.6}body', '\\n    '),\n",
       " ({'version': '4.3.6', '{http://www.w3.org/2001/XMLSchema-instance}schemaLocation': 'http://www.crossref.org/doi_resources_schema/4.3.6  http://www.crossref.org/schema/deposit/doi_resources4.3.6.xsd'},\n",
       "  '{http://www.crossref.org/doi_resources_schema/4.3.6}doi_batch',\n",
       "  '\\n ')]"
      ]
     },
     "execution_count": 71,
     "metadata": {},
     "output_type": "execute_result"
    }
   ],
   "source": [
    "data"
   ]
  },
  {
   "cell_type": "markdown",
   "metadata": {},
   "source": [
    "For an analysis of this dataset check the Dataexploration - References notebook"
   ]
  }
 ],
 "metadata": {
  "kernelspec": {
   "display_name": "Python [default]",
   "language": "python",
   "name": "python3"
  },
  "language_info": {
   "codemirror_mode": {
    "name": "ipython",
    "version": 3
   },
   "file_extension": ".py",
   "mimetype": "text/x-python",
   "name": "python",
   "nbconvert_exporter": "python",
   "pygments_lexer": "ipython3",
   "version": "3.5.6"
  }
 },
 "nbformat": 4,
 "nbformat_minor": 2
}
